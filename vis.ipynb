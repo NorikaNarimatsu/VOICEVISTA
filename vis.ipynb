{
 "cells": [
  {
   "cell_type": "code",
   "execution_count": 1,
   "metadata": {},
   "outputs": [
    {
     "name": "stdout",
     "output_type": "stream",
     "text": [
      "Defaulting to user installation because normal site-packages is not writeable\n",
      "Requirement already satisfied: plotly in /Users/norika_machome/Library/Python/3.8/lib/python/site-packages (5.11.0)\n",
      "Requirement already satisfied: tenacity>=6.2.0 in /Users/norika_machome/Library/Python/3.8/lib/python/site-packages (from plotly) (8.1.0)\n",
      "\n",
      "\u001b[1m[\u001b[0m\u001b[34;49mnotice\u001b[0m\u001b[1;39;49m]\u001b[0m\u001b[39;49m A new release of pip is available: \u001b[0m\u001b[31;49m23.2.1\u001b[0m\u001b[39;49m -> \u001b[0m\u001b[32;49m23.3.1\u001b[0m\n",
      "\u001b[1m[\u001b[0m\u001b[34;49mnotice\u001b[0m\u001b[1;39;49m]\u001b[0m\u001b[39;49m To update, run: \u001b[0m\u001b[32;49m/Library/Developer/CommandLineTools/usr/bin/python3 -m pip install --upgrade pip\u001b[0m\n",
      "Note: you may need to restart the kernel to use updated packages.\n"
     ]
    }
   ],
   "source": [
    "pip install plotly\n"
   ]
  },
  {
   "cell_type": "code",
   "execution_count": 10,
   "metadata": {},
   "outputs": [
    {
     "data": {
      "text/html": [
       "<div>\n",
       "<style scoped>\n",
       "    .dataframe tbody tr th:only-of-type {\n",
       "        vertical-align: middle;\n",
       "    }\n",
       "\n",
       "    .dataframe tbody tr th {\n",
       "        vertical-align: top;\n",
       "    }\n",
       "\n",
       "    .dataframe thead th {\n",
       "        text-align: right;\n",
       "    }\n",
       "</style>\n",
       "<table border=\"1\" class=\"dataframe\">\n",
       "  <thead>\n",
       "    <tr style=\"text-align: right;\">\n",
       "      <th></th>\n",
       "      <th>timestamp</th>\n",
       "      <th>speaker</th>\n",
       "      <th>text</th>\n",
       "      <th>word_count</th>\n",
       "      <th>cumulative_word_count</th>\n",
       "      <th>timestamp_str</th>\n",
       "    </tr>\n",
       "  </thead>\n",
       "  <tbody>\n",
       "    <tr>\n",
       "      <th>0</th>\n",
       "      <td>1900-01-01 00:00:00.220</td>\n",
       "      <td>no</td>\n",
       "      <td></td>\n",
       "      <td>0</td>\n",
       "      <td>0</td>\n",
       "      <td>00:00.220000</td>\n",
       "    </tr>\n",
       "    <tr>\n",
       "      <th>1</th>\n",
       "      <td>1900-01-01 00:00:00.220</td>\n",
       "      <td>ri</td>\n",
       "      <td></td>\n",
       "      <td>0</td>\n",
       "      <td>0</td>\n",
       "      <td>00:00.220000</td>\n",
       "    </tr>\n",
       "    <tr>\n",
       "      <th>2</th>\n",
       "      <td>1900-01-01 00:00:00.220</td>\n",
       "      <td>ka</td>\n",
       "      <td>Hi, this is Bill Wale in the Host of Good Fell...</td>\n",
       "      <td>11</td>\n",
       "      <td>11</td>\n",
       "      <td>00:00.220000</td>\n",
       "    </tr>\n",
       "    <tr>\n",
       "      <th>3</th>\n",
       "      <td>1900-01-01 00:00:02.440</td>\n",
       "      <td>no</td>\n",
       "      <td></td>\n",
       "      <td>0</td>\n",
       "      <td>0</td>\n",
       "      <td>00:02.440000</td>\n",
       "    </tr>\n",
       "    <tr>\n",
       "      <th>4</th>\n",
       "      <td>1900-01-01 00:00:02.440</td>\n",
       "      <td>ri</td>\n",
       "      <td></td>\n",
       "      <td>0</td>\n",
       "      <td>0</td>\n",
       "      <td>00:02.440000</td>\n",
       "    </tr>\n",
       "    <tr>\n",
       "      <th>...</th>\n",
       "      <td>...</td>\n",
       "      <td>...</td>\n",
       "      <td>...</td>\n",
       "      <td>...</td>\n",
       "      <td>...</td>\n",
       "      <td>...</td>\n",
       "    </tr>\n",
       "    <tr>\n",
       "      <th>235</th>\n",
       "      <td>1900-01-01 00:02:53.940</td>\n",
       "      <td>ri</td>\n",
       "      <td></td>\n",
       "      <td>0</td>\n",
       "      <td>38</td>\n",
       "      <td>02:53.940000</td>\n",
       "    </tr>\n",
       "    <tr>\n",
       "      <th>236</th>\n",
       "      <td>1900-01-01 00:02:53.940</td>\n",
       "      <td>ka</td>\n",
       "      <td>Is this a set of circumstances unique</td>\n",
       "      <td>7</td>\n",
       "      <td>499</td>\n",
       "      <td>02:53.940000</td>\n",
       "    </tr>\n",
       "    <tr>\n",
       "      <th>237</th>\n",
       "      <td>1900-01-01 00:02:56.670</td>\n",
       "      <td>no</td>\n",
       "      <td></td>\n",
       "      <td>0</td>\n",
       "      <td>51</td>\n",
       "      <td>02:56.670000</td>\n",
       "    </tr>\n",
       "    <tr>\n",
       "      <th>238</th>\n",
       "      <td>1900-01-01 00:02:56.670</td>\n",
       "      <td>ri</td>\n",
       "      <td></td>\n",
       "      <td>0</td>\n",
       "      <td>38</td>\n",
       "      <td>02:56.670000</td>\n",
       "    </tr>\n",
       "    <tr>\n",
       "      <th>239</th>\n",
       "      <td>1900-01-01 00:02:56.670</td>\n",
       "      <td>ka</td>\n",
       "      <td>to the relative failings of Donald Trump and J...</td>\n",
       "      <td>10</td>\n",
       "      <td>509</td>\n",
       "      <td>02:56.670000</td>\n",
       "    </tr>\n",
       "  </tbody>\n",
       "</table>\n",
       "<p>240 rows × 6 columns</p>\n",
       "</div>"
      ],
      "text/plain": [
       "                  timestamp speaker  \\\n",
       "0   1900-01-01 00:00:00.220      no   \n",
       "1   1900-01-01 00:00:00.220      ri   \n",
       "2   1900-01-01 00:00:00.220      ka   \n",
       "3   1900-01-01 00:00:02.440      no   \n",
       "4   1900-01-01 00:00:02.440      ri   \n",
       "..                      ...     ...   \n",
       "235 1900-01-01 00:02:53.940      ri   \n",
       "236 1900-01-01 00:02:53.940      ka   \n",
       "237 1900-01-01 00:02:56.670      no   \n",
       "238 1900-01-01 00:02:56.670      ri   \n",
       "239 1900-01-01 00:02:56.670      ka   \n",
       "\n",
       "                                                  text  word_count  \\\n",
       "0                                                                0   \n",
       "1                                                                0   \n",
       "2    Hi, this is Bill Wale in the Host of Good Fell...          11   \n",
       "3                                                                0   \n",
       "4                                                                0   \n",
       "..                                                 ...         ...   \n",
       "235                                                              0   \n",
       "236              Is this a set of circumstances unique           7   \n",
       "237                                                              0   \n",
       "238                                                              0   \n",
       "239  to the relative failings of Donald Trump and J...          10   \n",
       "\n",
       "     cumulative_word_count timestamp_str  \n",
       "0                        0  00:00.220000  \n",
       "1                        0  00:00.220000  \n",
       "2                       11  00:00.220000  \n",
       "3                        0  00:02.440000  \n",
       "4                        0  00:02.440000  \n",
       "..                     ...           ...  \n",
       "235                     38  02:53.940000  \n",
       "236                    499  02:53.940000  \n",
       "237                     51  02:56.670000  \n",
       "238                     38  02:56.670000  \n",
       "239                    509  02:56.670000  \n",
       "\n",
       "[240 rows x 6 columns]"
      ]
     },
     "execution_count": 10,
     "metadata": {},
     "output_type": "execute_result"
    }
   ],
   "source": [
    "import plotly.express as px\n",
    "import pandas as pd\n",
    "\n",
    "# Specify the path to your transcript file\n",
    "file_path = \"/Users/norika_machome/Library/CloudStorage/OneDrive-UniversiteitLeiden/Semester1/4.MS_FRI/final_project/speechProcess/audio8.txt\"\n",
    "\n",
    "# Read the transcript file\n",
    "with open(file_path, 'r') as file:\n",
    "    lines = file.readlines()\n",
    "\n",
    "# Create a list to store the timestamp, speaker, text, and word count information\n",
    "transcript = []\n",
    "\n",
    "# Get a list of all unique speakers\n",
    "all_speakers = set()\n",
    "\n",
    "# Iterate through the lines in the file and extract information\n",
    "for line in lines:\n",
    "    # Assuming the speaker information is in a specific format, adapt as needed\n",
    "    if line.startswith(\"[\") and \"]\" in line:\n",
    "        speaker = line.split(\" \")[1]\n",
    "        all_speakers.add(speaker)\n",
    "\n",
    "# Create initial dataframe with all speakers and zero cumulative word count\n",
    "initial_data = [{'timestamp': '', 'speaker': speaker, 'cumulative_word_count': 0} for speaker in all_speakers]\n",
    "df_initial = pd.DataFrame(initial_data)\n",
    "\n",
    "# Initialize variables for tracking word count over time for each speaker\n",
    "current_word_counts = {speaker: 0 for speaker in all_speakers}\n",
    "\n",
    "# Iterate through the lines in the file and extract information\n",
    "for line in lines:\n",
    "    # Assuming the speaker information is in a specific format, adapt as needed\n",
    "    if line.startswith(\"[\") and \"]\" in line:\n",
    "        timestamp = line.split(\"]\")[0][1:]\n",
    "        text = \" \".join(line.split(\" \")[2:]).strip()\n",
    "\n",
    "        # Calculate word count\n",
    "        word_count = len(text.split())\n",
    "\n",
    "        # Update word count for each speaker\n",
    "        for speaker in all_speakers:\n",
    "            # Check if the current speaker matches the loop speaker\n",
    "            if speaker in line:\n",
    "                # Update cumulative word count for the current speaker\n",
    "                current_word_counts[speaker] += word_count\n",
    "\n",
    "                # Append information to the transcript list\n",
    "                transcript.append({\n",
    "                    \"timestamp\": timestamp,\n",
    "                    \"speaker\": speaker,\n",
    "                    \"text\": text,\n",
    "                    \"word_count\": word_count,\n",
    "                    \"cumulative_word_count\": current_word_counts[speaker]\n",
    "                })\n",
    "            else:\n",
    "                # If the speaker doesn't match, use zero word count\n",
    "                transcript.append({\n",
    "                    \"timestamp\": timestamp,\n",
    "                    \"speaker\": speaker,\n",
    "                    \"text\": \"\",\n",
    "                    \"word_count\": 0,\n",
    "                    \"cumulative_word_count\": current_word_counts[speaker]\n",
    "                })\n",
    "\n",
    "# Create a DataFrame from the transcript data\n",
    "df = pd.DataFrame(transcript)\n",
    "\n",
    "# Convert timestamp to datetime for better plotting\n",
    "df['timestamp'] = pd.to_datetime(df['timestamp'], format='%M:%S.%f')\n",
    "\n",
    "# Convert the timestamp to string for animation\n",
    "df['timestamp_str'] = df['timestamp'].dt.strftime('%M:%S.%f')\n",
    "\n",
    "#Define the mapping of original speaker names to new names\n",
    "speaker_mapping = {'SPEAKER_00:': 'no', 'SPEAKER_01:': 'ri', 'SPEAKER_02:': 'ka'}\n",
    "\n",
    "# Replace speaker names using the map function\n",
    "df['speaker'] = df['speaker'].map(speaker_mapping)\n",
    "df"
   ]
  },
  {
   "cell_type": "code",
   "execution_count": 53,
   "metadata": {},
   "outputs": [
    {
     "name": "stdout",
     "output_type": "stream",
     "text": [
      "         It's a witch hunt, it's just a continuation of a witch hunt. They want to silence you, they want to silence you, and they mean silence, because I have four of them now. I feel like I mean, this is not even possible for. Over the next less couple of months.                                                                                                             This is such a trade bill. Thank you so much. I'm a huge fan. And there are some episodes I can only listen to once, but I get to at least one. So it's great to be here.                                 Hi, this is Bill Wale in the Host of Good Fellows. Thanks for listening to the audio version of the show, but we want to let you know that Good Fellows is primarily a video production, and you're missing a lot of extra features by only listening to our show. Give it a look by going to Hoover.org forward slash Good Fellows to see what you're missing. Thanks.      It's Tuesday, August 22nd, 2023, and welcome back to Good Fellows, a Hoover Institution broadcast examining social, economic, political, and geopolitical concerns. Bill Wale and I'm a Hoover-to-Singwich Policy Fellow. I'll be your moderator today. I have to report that we have our full compliment of Good Fellows with us today that includes the historian Neil Ferguson. The economist John Cochran from another political occasion, somewhere deep in the heart of Texas. And of course, our resident eternal optimist, Lieutenant General HR, I'm McMaster. They are Hoover Institution's senior Fellows All. And joining us today for a conversation about the law and the 2024 election is Andy McCarthy. Andy is a senior fellow at the National Review Institute, an National Review Contributing Editor, an author of the book, Ball of Confucian, the Plotter Rig and Election to Destroy a Presidency. Andy McCarthy also once served as an assistant U.S. Attorney for the Southern District of New York, which makes in the ideal guest to discuss the collision of America's political and legal systems. Now, Justice is being applied in the campaign season. How this affects both the 2024 election and America's global reputation. Andy McCarthy, welcome to Good Fellows.       Well, the feeling is mutual. My friend, we're all big admirers. You're writing. There's a lot to get into. I know we want to talk about the specifics in the Trump trial. We want to talk about the ongoing investigation and Mr. Biden. I know you have strong sentiments about this special council. But first, I'd like to pose a big question to you, Andy, which is something along the lines of this. If one of these trials with Donald Trump begins next March, let's say, that is peak primary system. The peak primary time in America. That would seem very unfair to candidate Trump, but it would also argue, Andy, it may be even more unfair to the men and women running against him. Good luck getting attention if the cameras are all falling Donald Trump into a courtroom. On the other side of the aisle, there's a question about how vigorous investigation will be into the president's son. Slow walking, this is been an MO of this so far. If it is so walk through 2024, Republicans will cry, cover up. On the other hand, if the special council pulls a combi and does something on October 4th, the election, and now says he's reopening an investigation, Democrats will cry fell. So here's the question, Andy. Is what we're looking at right now? Is this a set of circumstances unique to the relative failings of Donald Trump and Joe Biden\n"
     ]
    }
   ],
   "source": [
    "# Group by speaker and timestamp and concatenate the text\n",
    "full_text_df = df.groupby(['speaker', 'timestamp'])['text'].apply(lambda x: ' '.join(x)).reset_index()\n",
    "\n",
    "# Concatenate all text from different speakers and timestamps\n",
    "full_text = ' '.join(full_text_df['text'])\n",
    "\n",
    "# Print or use the full_text as needed\n",
    "print(full_text)"
   ]
  },
  {
   "cell_type": "code",
   "execution_count": 54,
   "metadata": {},
   "outputs": [
    {
     "data": {
      "application/vnd.plotly.v1+json": {
       "config": {
        "plotlyServerURL": "https://plot.ly"
       },
       "data": [
        {
         "alignmentgroup": "True",
         "hovertemplate": "speaker=%{x}<br>Timestamp=00:00.220000<br>Cumulative Word Count=%{y}<extra></extra>",
         "legendgroup": "SPEAKER_00:",
         "marker": {
          "color": "#636efa",
          "pattern": {
           "shape": ""
          }
         },
         "name": "SPEAKER_00:",
         "offsetgroup": "SPEAKER_00:",
         "orientation": "v",
         "showlegend": true,
         "textposition": "auto",
         "type": "bar",
         "x": [
          "SPEAKER_00:"
         ],
         "xaxis": "x",
         "y": [
          0
         ],
         "yaxis": "y"
        },
        {
         "alignmentgroup": "True",
         "hovertemplate": "speaker=%{x}<br>Timestamp=00:00.220000<br>Cumulative Word Count=%{y}<extra></extra>",
         "legendgroup": "SPEAKER_01:",
         "marker": {
          "color": "#EF553B",
          "pattern": {
           "shape": ""
          }
         },
         "name": "SPEAKER_01:",
         "offsetgroup": "SPEAKER_01:",
         "orientation": "v",
         "showlegend": true,
         "textposition": "auto",
         "type": "bar",
         "x": [
          "SPEAKER_01:"
         ],
         "xaxis": "x",
         "y": [
          0
         ],
         "yaxis": "y"
        },
        {
         "alignmentgroup": "True",
         "hovertemplate": "speaker=%{x}<br>Timestamp=00:00.220000<br>Cumulative Word Count=%{y}<extra></extra>",
         "legendgroup": "SPEAKER_02:",
         "marker": {
          "color": "#00cc96",
          "pattern": {
           "shape": ""
          }
         },
         "name": "SPEAKER_02:",
         "offsetgroup": "SPEAKER_02:",
         "orientation": "v",
         "showlegend": true,
         "textposition": "auto",
         "type": "bar",
         "x": [
          "SPEAKER_02:"
         ],
         "xaxis": "x",
         "y": [
          11
         ],
         "yaxis": "y"
        }
       ],
       "frames": [
        {
         "data": [
          {
           "alignmentgroup": "True",
           "hovertemplate": "speaker=%{x}<br>Timestamp=00:00.220000<br>Cumulative Word Count=%{y}<extra></extra>",
           "legendgroup": "SPEAKER_00:",
           "marker": {
            "color": "#636efa",
            "pattern": {
             "shape": ""
            }
           },
           "name": "SPEAKER_00:",
           "offsetgroup": "SPEAKER_00:",
           "orientation": "v",
           "showlegend": true,
           "textposition": "auto",
           "type": "bar",
           "x": [
            "SPEAKER_00:"
           ],
           "xaxis": "x",
           "y": [
            0
           ],
           "yaxis": "y"
          },
          {
           "alignmentgroup": "True",
           "hovertemplate": "speaker=%{x}<br>Timestamp=00:00.220000<br>Cumulative Word Count=%{y}<extra></extra>",
           "legendgroup": "SPEAKER_01:",
           "marker": {
            "color": "#EF553B",
            "pattern": {
             "shape": ""
            }
           },
           "name": "SPEAKER_01:",
           "offsetgroup": "SPEAKER_01:",
           "orientation": "v",
           "showlegend": true,
           "textposition": "auto",
           "type": "bar",
           "x": [
            "SPEAKER_01:"
           ],
           "xaxis": "x",
           "y": [
            0
           ],
           "yaxis": "y"
          },
          {
           "alignmentgroup": "True",
           "hovertemplate": "speaker=%{x}<br>Timestamp=00:00.220000<br>Cumulative Word Count=%{y}<extra></extra>",
           "legendgroup": "SPEAKER_02:",
           "marker": {
            "color": "#00cc96",
            "pattern": {
             "shape": ""
            }
           },
           "name": "SPEAKER_02:",
           "offsetgroup": "SPEAKER_02:",
           "orientation": "v",
           "showlegend": true,
           "textposition": "auto",
           "type": "bar",
           "x": [
            "SPEAKER_02:"
           ],
           "xaxis": "x",
           "y": [
            11
           ],
           "yaxis": "y"
          }
         ],
         "name": "00:00.220000"
        },
        {
         "data": [
          {
           "alignmentgroup": "True",
           "hovertemplate": "speaker=%{x}<br>Timestamp=00:02.440000<br>Cumulative Word Count=%{y}<extra></extra>",
           "legendgroup": "SPEAKER_00:",
           "marker": {
            "color": "#636efa",
            "pattern": {
             "shape": ""
            }
           },
           "name": "SPEAKER_00:",
           "offsetgroup": "SPEAKER_00:",
           "orientation": "v",
           "showlegend": true,
           "textposition": "auto",
           "type": "bar",
           "x": [
            "SPEAKER_00:"
           ],
           "xaxis": "x",
           "y": [
            0
           ],
           "yaxis": "y"
          },
          {
           "alignmentgroup": "True",
           "hovertemplate": "speaker=%{x}<br>Timestamp=00:02.440000<br>Cumulative Word Count=%{y}<extra></extra>",
           "legendgroup": "SPEAKER_01:",
           "marker": {
            "color": "#EF553B",
            "pattern": {
             "shape": ""
            }
           },
           "name": "SPEAKER_01:",
           "offsetgroup": "SPEAKER_01:",
           "orientation": "v",
           "showlegend": true,
           "textposition": "auto",
           "type": "bar",
           "x": [
            "SPEAKER_01:"
           ],
           "xaxis": "x",
           "y": [
            0
           ],
           "yaxis": "y"
          },
          {
           "alignmentgroup": "True",
           "hovertemplate": "speaker=%{x}<br>Timestamp=00:02.440000<br>Cumulative Word Count=%{y}<extra></extra>",
           "legendgroup": "SPEAKER_02:",
           "marker": {
            "color": "#00cc96",
            "pattern": {
             "shape": ""
            }
           },
           "name": "SPEAKER_02:",
           "offsetgroup": "SPEAKER_02:",
           "orientation": "v",
           "showlegend": true,
           "textposition": "auto",
           "type": "bar",
           "x": [
            "SPEAKER_02:"
           ],
           "xaxis": "x",
           "y": [
            21
           ],
           "yaxis": "y"
          }
         ],
         "name": "00:02.440000"
        },
        {
         "data": [
          {
           "alignmentgroup": "True",
           "hovertemplate": "speaker=%{x}<br>Timestamp=00:04.480000<br>Cumulative Word Count=%{y}<extra></extra>",
           "legendgroup": "SPEAKER_00:",
           "marker": {
            "color": "#636efa",
            "pattern": {
             "shape": ""
            }
           },
           "name": "SPEAKER_00:",
           "offsetgroup": "SPEAKER_00:",
           "orientation": "v",
           "showlegend": true,
           "textposition": "auto",
           "type": "bar",
           "x": [
            "SPEAKER_00:"
           ],
           "xaxis": "x",
           "y": [
            0
           ],
           "yaxis": "y"
          },
          {
           "alignmentgroup": "True",
           "hovertemplate": "speaker=%{x}<br>Timestamp=00:04.480000<br>Cumulative Word Count=%{y}<extra></extra>",
           "legendgroup": "SPEAKER_01:",
           "marker": {
            "color": "#EF553B",
            "pattern": {
             "shape": ""
            }
           },
           "name": "SPEAKER_01:",
           "offsetgroup": "SPEAKER_01:",
           "orientation": "v",
           "showlegend": true,
           "textposition": "auto",
           "type": "bar",
           "x": [
            "SPEAKER_01:"
           ],
           "xaxis": "x",
           "y": [
            0
           ],
           "yaxis": "y"
          },
          {
           "alignmentgroup": "True",
           "hovertemplate": "speaker=%{x}<br>Timestamp=00:04.480000<br>Cumulative Word Count=%{y}<extra></extra>",
           "legendgroup": "SPEAKER_02:",
           "marker": {
            "color": "#00cc96",
            "pattern": {
             "shape": ""
            }
           },
           "name": "SPEAKER_02:",
           "offsetgroup": "SPEAKER_02:",
           "orientation": "v",
           "showlegend": true,
           "textposition": "auto",
           "type": "bar",
           "x": [
            "SPEAKER_02:"
           ],
           "xaxis": "x",
           "y": [
            31
           ],
           "yaxis": "y"
          }
         ],
         "name": "00:04.480000"
        },
        {
         "data": [
          {
           "alignmentgroup": "True",
           "hovertemplate": "speaker=%{x}<br>Timestamp=00:05.980000<br>Cumulative Word Count=%{y}<extra></extra>",
           "legendgroup": "SPEAKER_00:",
           "marker": {
            "color": "#636efa",
            "pattern": {
             "shape": ""
            }
           },
           "name": "SPEAKER_00:",
           "offsetgroup": "SPEAKER_00:",
           "orientation": "v",
           "showlegend": true,
           "textposition": "auto",
           "type": "bar",
           "x": [
            "SPEAKER_00:"
           ],
           "xaxis": "x",
           "y": [
            0
           ],
           "yaxis": "y"
          },
          {
           "alignmentgroup": "True",
           "hovertemplate": "speaker=%{x}<br>Timestamp=00:05.980000<br>Cumulative Word Count=%{y}<extra></extra>",
           "legendgroup": "SPEAKER_01:",
           "marker": {
            "color": "#EF553B",
            "pattern": {
             "shape": ""
            }
           },
           "name": "SPEAKER_01:",
           "offsetgroup": "SPEAKER_01:",
           "orientation": "v",
           "showlegend": true,
           "textposition": "auto",
           "type": "bar",
           "x": [
            "SPEAKER_01:"
           ],
           "xaxis": "x",
           "y": [
            0
           ],
           "yaxis": "y"
          },
          {
           "alignmentgroup": "True",
           "hovertemplate": "speaker=%{x}<br>Timestamp=00:05.980000<br>Cumulative Word Count=%{y}<extra></extra>",
           "legendgroup": "SPEAKER_02:",
           "marker": {
            "color": "#00cc96",
            "pattern": {
             "shape": ""
            }
           },
           "name": "SPEAKER_02:",
           "offsetgroup": "SPEAKER_02:",
           "orientation": "v",
           "showlegend": true,
           "textposition": "auto",
           "type": "bar",
           "x": [
            "SPEAKER_02:"
           ],
           "xaxis": "x",
           "y": [
            36
           ],
           "yaxis": "y"
          }
         ],
         "name": "00:05.980000"
        },
        {
         "data": [
          {
           "alignmentgroup": "True",
           "hovertemplate": "speaker=%{x}<br>Timestamp=00:08.040000<br>Cumulative Word Count=%{y}<extra></extra>",
           "legendgroup": "SPEAKER_00:",
           "marker": {
            "color": "#636efa",
            "pattern": {
             "shape": ""
            }
           },
           "name": "SPEAKER_00:",
           "offsetgroup": "SPEAKER_00:",
           "orientation": "v",
           "showlegend": true,
           "textposition": "auto",
           "type": "bar",
           "x": [
            "SPEAKER_00:"
           ],
           "xaxis": "x",
           "y": [
            0
           ],
           "yaxis": "y"
          },
          {
           "alignmentgroup": "True",
           "hovertemplate": "speaker=%{x}<br>Timestamp=00:08.040000<br>Cumulative Word Count=%{y}<extra></extra>",
           "legendgroup": "SPEAKER_01:",
           "marker": {
            "color": "#EF553B",
            "pattern": {
             "shape": ""
            }
           },
           "name": "SPEAKER_01:",
           "offsetgroup": "SPEAKER_01:",
           "orientation": "v",
           "showlegend": true,
           "textposition": "auto",
           "type": "bar",
           "x": [
            "SPEAKER_01:"
           ],
           "xaxis": "x",
           "y": [
            0
           ],
           "yaxis": "y"
          },
          {
           "alignmentgroup": "True",
           "hovertemplate": "speaker=%{x}<br>Timestamp=00:08.040000<br>Cumulative Word Count=%{y}<extra></extra>",
           "legendgroup": "SPEAKER_02:",
           "marker": {
            "color": "#00cc96",
            "pattern": {
             "shape": ""
            }
           },
           "name": "SPEAKER_02:",
           "offsetgroup": "SPEAKER_02:",
           "orientation": "v",
           "showlegend": true,
           "textposition": "auto",
           "type": "bar",
           "x": [
            "SPEAKER_02:"
           ],
           "xaxis": "x",
           "y": [
            44
           ],
           "yaxis": "y"
          }
         ],
         "name": "00:08.040000"
        },
        {
         "data": [
          {
           "alignmentgroup": "True",
           "hovertemplate": "speaker=%{x}<br>Timestamp=00:09.620000<br>Cumulative Word Count=%{y}<extra></extra>",
           "legendgroup": "SPEAKER_00:",
           "marker": {
            "color": "#636efa",
            "pattern": {
             "shape": ""
            }
           },
           "name": "SPEAKER_00:",
           "offsetgroup": "SPEAKER_00:",
           "orientation": "v",
           "showlegend": true,
           "textposition": "auto",
           "type": "bar",
           "x": [
            "SPEAKER_00:"
           ],
           "xaxis": "x",
           "y": [
            0
           ],
           "yaxis": "y"
          },
          {
           "alignmentgroup": "True",
           "hovertemplate": "speaker=%{x}<br>Timestamp=00:09.620000<br>Cumulative Word Count=%{y}<extra></extra>",
           "legendgroup": "SPEAKER_01:",
           "marker": {
            "color": "#EF553B",
            "pattern": {
             "shape": ""
            }
           },
           "name": "SPEAKER_01:",
           "offsetgroup": "SPEAKER_01:",
           "orientation": "v",
           "showlegend": true,
           "textposition": "auto",
           "type": "bar",
           "x": [
            "SPEAKER_01:"
           ],
           "xaxis": "x",
           "y": [
            0
           ],
           "yaxis": "y"
          },
          {
           "alignmentgroup": "True",
           "hovertemplate": "speaker=%{x}<br>Timestamp=00:09.620000<br>Cumulative Word Count=%{y}<extra></extra>",
           "legendgroup": "SPEAKER_02:",
           "marker": {
            "color": "#00cc96",
            "pattern": {
             "shape": ""
            }
           },
           "name": "SPEAKER_02:",
           "offsetgroup": "SPEAKER_02:",
           "orientation": "v",
           "showlegend": true,
           "textposition": "auto",
           "type": "bar",
           "x": [
            "SPEAKER_02:"
           ],
           "xaxis": "x",
           "y": [
            50
           ],
           "yaxis": "y"
          }
         ],
         "name": "00:09.620000"
        },
        {
         "data": [
          {
           "alignmentgroup": "True",
           "hovertemplate": "speaker=%{x}<br>Timestamp=00:11.640000<br>Cumulative Word Count=%{y}<extra></extra>",
           "legendgroup": "SPEAKER_00:",
           "marker": {
            "color": "#636efa",
            "pattern": {
             "shape": ""
            }
           },
           "name": "SPEAKER_00:",
           "offsetgroup": "SPEAKER_00:",
           "orientation": "v",
           "showlegend": true,
           "textposition": "auto",
           "type": "bar",
           "x": [
            "SPEAKER_00:"
           ],
           "xaxis": "x",
           "y": [
            0
           ],
           "yaxis": "y"
          },
          {
           "alignmentgroup": "True",
           "hovertemplate": "speaker=%{x}<br>Timestamp=00:11.640000<br>Cumulative Word Count=%{y}<extra></extra>",
           "legendgroup": "SPEAKER_01:",
           "marker": {
            "color": "#EF553B",
            "pattern": {
             "shape": ""
            }
           },
           "name": "SPEAKER_01:",
           "offsetgroup": "SPEAKER_01:",
           "orientation": "v",
           "showlegend": true,
           "textposition": "auto",
           "type": "bar",
           "x": [
            "SPEAKER_01:"
           ],
           "xaxis": "x",
           "y": [
            0
           ],
           "yaxis": "y"
          },
          {
           "alignmentgroup": "True",
           "hovertemplate": "speaker=%{x}<br>Timestamp=00:11.640000<br>Cumulative Word Count=%{y}<extra></extra>",
           "legendgroup": "SPEAKER_02:",
           "marker": {
            "color": "#00cc96",
            "pattern": {
             "shape": ""
            }
           },
           "name": "SPEAKER_02:",
           "offsetgroup": "SPEAKER_02:",
           "orientation": "v",
           "showlegend": true,
           "textposition": "auto",
           "type": "bar",
           "x": [
            "SPEAKER_02:"
           ],
           "xaxis": "x",
           "y": [
            58
           ],
           "yaxis": "y"
          }
         ],
         "name": "00:11.640000"
        },
        {
         "data": [
          {
           "alignmentgroup": "True",
           "hovertemplate": "speaker=%{x}<br>Timestamp=00:13.820000<br>Cumulative Word Count=%{y}<extra></extra>",
           "legendgroup": "SPEAKER_00:",
           "marker": {
            "color": "#636efa",
            "pattern": {
             "shape": ""
            }
           },
           "name": "SPEAKER_00:",
           "offsetgroup": "SPEAKER_00:",
           "orientation": "v",
           "showlegend": true,
           "textposition": "auto",
           "type": "bar",
           "x": [
            "SPEAKER_00:"
           ],
           "xaxis": "x",
           "y": [
            0
           ],
           "yaxis": "y"
          },
          {
           "alignmentgroup": "True",
           "hovertemplate": "speaker=%{x}<br>Timestamp=00:13.820000<br>Cumulative Word Count=%{y}<extra></extra>",
           "legendgroup": "SPEAKER_01:",
           "marker": {
            "color": "#EF553B",
            "pattern": {
             "shape": ""
            }
           },
           "name": "SPEAKER_01:",
           "offsetgroup": "SPEAKER_01:",
           "orientation": "v",
           "showlegend": true,
           "textposition": "auto",
           "type": "bar",
           "x": [
            "SPEAKER_01:"
           ],
           "xaxis": "x",
           "y": [
            0
           ],
           "yaxis": "y"
          },
          {
           "alignmentgroup": "True",
           "hovertemplate": "speaker=%{x}<br>Timestamp=00:13.820000<br>Cumulative Word Count=%{y}<extra></extra>",
           "legendgroup": "SPEAKER_02:",
           "marker": {
            "color": "#00cc96",
            "pattern": {
             "shape": ""
            }
           },
           "name": "SPEAKER_02:",
           "offsetgroup": "SPEAKER_02:",
           "orientation": "v",
           "showlegend": true,
           "textposition": "auto",
           "type": "bar",
           "x": [
            "SPEAKER_02:"
           ],
           "xaxis": "x",
           "y": [
            67
           ],
           "yaxis": "y"
          }
         ],
         "name": "00:13.820000"
        },
        {
         "data": [
          {
           "alignmentgroup": "True",
           "hovertemplate": "speaker=%{x}<br>Timestamp=00:17.100000<br>Cumulative Word Count=%{y}<extra></extra>",
           "legendgroup": "SPEAKER_00:",
           "marker": {
            "color": "#636efa",
            "pattern": {
             "shape": ""
            }
           },
           "name": "SPEAKER_00:",
           "offsetgroup": "SPEAKER_00:",
           "orientation": "v",
           "showlegend": true,
           "textposition": "auto",
           "type": "bar",
           "x": [
            "SPEAKER_00:"
           ],
           "xaxis": "x",
           "y": [
            0
           ],
           "yaxis": "y"
          },
          {
           "alignmentgroup": "True",
           "hovertemplate": "speaker=%{x}<br>Timestamp=00:17.100000<br>Cumulative Word Count=%{y}<extra></extra>",
           "legendgroup": "SPEAKER_01:",
           "marker": {
            "color": "#EF553B",
            "pattern": {
             "shape": ""
            }
           },
           "name": "SPEAKER_01:",
           "offsetgroup": "SPEAKER_01:",
           "orientation": "v",
           "showlegend": true,
           "textposition": "auto",
           "type": "bar",
           "x": [
            "SPEAKER_01:"
           ],
           "xaxis": "x",
           "y": [
            0
           ],
           "yaxis": "y"
          },
          {
           "alignmentgroup": "True",
           "hovertemplate": "speaker=%{x}<br>Timestamp=00:17.100000<br>Cumulative Word Count=%{y}<extra></extra>",
           "legendgroup": "SPEAKER_02:",
           "marker": {
            "color": "#00cc96",
            "pattern": {
             "shape": ""
            }
           },
           "name": "SPEAKER_02:",
           "offsetgroup": "SPEAKER_02:",
           "orientation": "v",
           "showlegend": true,
           "textposition": "auto",
           "type": "bar",
           "x": [
            "SPEAKER_02:"
           ],
           "xaxis": "x",
           "y": [
            68
           ],
           "yaxis": "y"
          }
         ],
         "name": "00:17.100000"
        },
        {
         "data": [
          {
           "alignmentgroup": "True",
           "hovertemplate": "speaker=%{x}<br>Timestamp=00:18.340000<br>Cumulative Word Count=%{y}<extra></extra>",
           "legendgroup": "SPEAKER_00:",
           "marker": {
            "color": "#636efa",
            "pattern": {
             "shape": ""
            }
           },
           "name": "SPEAKER_00:",
           "offsetgroup": "SPEAKER_00:",
           "orientation": "v",
           "showlegend": true,
           "textposition": "auto",
           "type": "bar",
           "x": [
            "SPEAKER_00:"
           ],
           "xaxis": "x",
           "y": [
            12
           ],
           "yaxis": "y"
          },
          {
           "alignmentgroup": "True",
           "hovertemplate": "speaker=%{x}<br>Timestamp=00:18.340000<br>Cumulative Word Count=%{y}<extra></extra>",
           "legendgroup": "SPEAKER_01:",
           "marker": {
            "color": "#EF553B",
            "pattern": {
             "shape": ""
            }
           },
           "name": "SPEAKER_01:",
           "offsetgroup": "SPEAKER_01:",
           "orientation": "v",
           "showlegend": true,
           "textposition": "auto",
           "type": "bar",
           "x": [
            "SPEAKER_01:"
           ],
           "xaxis": "x",
           "y": [
            0
           ],
           "yaxis": "y"
          },
          {
           "alignmentgroup": "True",
           "hovertemplate": "speaker=%{x}<br>Timestamp=00:18.340000<br>Cumulative Word Count=%{y}<extra></extra>",
           "legendgroup": "SPEAKER_02:",
           "marker": {
            "color": "#00cc96",
            "pattern": {
             "shape": ""
            }
           },
           "name": "SPEAKER_02:",
           "offsetgroup": "SPEAKER_02:",
           "orientation": "v",
           "showlegend": true,
           "textposition": "auto",
           "type": "bar",
           "x": [
            "SPEAKER_02:"
           ],
           "xaxis": "x",
           "y": [
            68
           ],
           "yaxis": "y"
          }
         ],
         "name": "00:18.340000"
        },
        {
         "data": [
          {
           "alignmentgroup": "True",
           "hovertemplate": "speaker=%{x}<br>Timestamp=00:21.030000<br>Cumulative Word Count=%{y}<extra></extra>",
           "legendgroup": "SPEAKER_00:",
           "marker": {
            "color": "#636efa",
            "pattern": {
             "shape": ""
            }
           },
           "name": "SPEAKER_00:",
           "offsetgroup": "SPEAKER_00:",
           "orientation": "v",
           "showlegend": true,
           "textposition": "auto",
           "type": "bar",
           "x": [
            "SPEAKER_00:"
           ],
           "xaxis": "x",
           "y": [
            22
           ],
           "yaxis": "y"
          },
          {
           "alignmentgroup": "True",
           "hovertemplate": "speaker=%{x}<br>Timestamp=00:21.030000<br>Cumulative Word Count=%{y}<extra></extra>",
           "legendgroup": "SPEAKER_01:",
           "marker": {
            "color": "#EF553B",
            "pattern": {
             "shape": ""
            }
           },
           "name": "SPEAKER_01:",
           "offsetgroup": "SPEAKER_01:",
           "orientation": "v",
           "showlegend": true,
           "textposition": "auto",
           "type": "bar",
           "x": [
            "SPEAKER_01:"
           ],
           "xaxis": "x",
           "y": [
            0
           ],
           "yaxis": "y"
          },
          {
           "alignmentgroup": "True",
           "hovertemplate": "speaker=%{x}<br>Timestamp=00:21.030000<br>Cumulative Word Count=%{y}<extra></extra>",
           "legendgroup": "SPEAKER_02:",
           "marker": {
            "color": "#00cc96",
            "pattern": {
             "shape": ""
            }
           },
           "name": "SPEAKER_02:",
           "offsetgroup": "SPEAKER_02:",
           "orientation": "v",
           "showlegend": true,
           "textposition": "auto",
           "type": "bar",
           "x": [
            "SPEAKER_02:"
           ],
           "xaxis": "x",
           "y": [
            68
           ],
           "yaxis": "y"
          }
         ],
         "name": "00:21.030000"
        },
        {
         "data": [
          {
           "alignmentgroup": "True",
           "hovertemplate": "speaker=%{x}<br>Timestamp=00:24.080000<br>Cumulative Word Count=%{y}<extra></extra>",
           "legendgroup": "SPEAKER_00:",
           "marker": {
            "color": "#636efa",
            "pattern": {
             "shape": ""
            }
           },
           "name": "SPEAKER_00:",
           "offsetgroup": "SPEAKER_00:",
           "orientation": "v",
           "showlegend": true,
           "textposition": "auto",
           "type": "bar",
           "x": [
            "SPEAKER_00:"
           ],
           "xaxis": "x",
           "y": [
            33
           ],
           "yaxis": "y"
          },
          {
           "alignmentgroup": "True",
           "hovertemplate": "speaker=%{x}<br>Timestamp=00:24.080000<br>Cumulative Word Count=%{y}<extra></extra>",
           "legendgroup": "SPEAKER_01:",
           "marker": {
            "color": "#EF553B",
            "pattern": {
             "shape": ""
            }
           },
           "name": "SPEAKER_01:",
           "offsetgroup": "SPEAKER_01:",
           "orientation": "v",
           "showlegend": true,
           "textposition": "auto",
           "type": "bar",
           "x": [
            "SPEAKER_01:"
           ],
           "xaxis": "x",
           "y": [
            0
           ],
           "yaxis": "y"
          },
          {
           "alignmentgroup": "True",
           "hovertemplate": "speaker=%{x}<br>Timestamp=00:24.080000<br>Cumulative Word Count=%{y}<extra></extra>",
           "legendgroup": "SPEAKER_02:",
           "marker": {
            "color": "#00cc96",
            "pattern": {
             "shape": ""
            }
           },
           "name": "SPEAKER_02:",
           "offsetgroup": "SPEAKER_02:",
           "orientation": "v",
           "showlegend": true,
           "textposition": "auto",
           "type": "bar",
           "x": [
            "SPEAKER_02:"
           ],
           "xaxis": "x",
           "y": [
            68
           ],
           "yaxis": "y"
          }
         ],
         "name": "00:24.080000"
        },
        {
         "data": [
          {
           "alignmentgroup": "True",
           "hovertemplate": "speaker=%{x}<br>Timestamp=00:26.590000<br>Cumulative Word Count=%{y}<extra></extra>",
           "legendgroup": "SPEAKER_00:",
           "marker": {
            "color": "#636efa",
            "pattern": {
             "shape": ""
            }
           },
           "name": "SPEAKER_00:",
           "offsetgroup": "SPEAKER_00:",
           "orientation": "v",
           "showlegend": true,
           "textposition": "auto",
           "type": "bar",
           "x": [
            "SPEAKER_00:"
           ],
           "xaxis": "x",
           "y": [
            44
           ],
           "yaxis": "y"
          },
          {
           "alignmentgroup": "True",
           "hovertemplate": "speaker=%{x}<br>Timestamp=00:26.590000<br>Cumulative Word Count=%{y}<extra></extra>",
           "legendgroup": "SPEAKER_01:",
           "marker": {
            "color": "#EF553B",
            "pattern": {
             "shape": ""
            }
           },
           "name": "SPEAKER_01:",
           "offsetgroup": "SPEAKER_01:",
           "orientation": "v",
           "showlegend": true,
           "textposition": "auto",
           "type": "bar",
           "x": [
            "SPEAKER_01:"
           ],
           "xaxis": "x",
           "y": [
            0
           ],
           "yaxis": "y"
          },
          {
           "alignmentgroup": "True",
           "hovertemplate": "speaker=%{x}<br>Timestamp=00:26.590000<br>Cumulative Word Count=%{y}<extra></extra>",
           "legendgroup": "SPEAKER_02:",
           "marker": {
            "color": "#00cc96",
            "pattern": {
             "shape": ""
            }
           },
           "name": "SPEAKER_02:",
           "offsetgroup": "SPEAKER_02:",
           "orientation": "v",
           "showlegend": true,
           "textposition": "auto",
           "type": "bar",
           "x": [
            "SPEAKER_02:"
           ],
           "xaxis": "x",
           "y": [
            68
           ],
           "yaxis": "y"
          }
         ],
         "name": "00:26.590000"
        },
        {
         "data": [
          {
           "alignmentgroup": "True",
           "hovertemplate": "speaker=%{x}<br>Timestamp=00:29.720000<br>Cumulative Word Count=%{y}<extra></extra>",
           "legendgroup": "SPEAKER_00:",
           "marker": {
            "color": "#636efa",
            "pattern": {
             "shape": ""
            }
           },
           "name": "SPEAKER_00:",
           "offsetgroup": "SPEAKER_00:",
           "orientation": "v",
           "showlegend": true,
           "textposition": "auto",
           "type": "bar",
           "x": [
            "SPEAKER_00:"
           ],
           "xaxis": "x",
           "y": [
            51
           ],
           "yaxis": "y"
          },
          {
           "alignmentgroup": "True",
           "hovertemplate": "speaker=%{x}<br>Timestamp=00:29.720000<br>Cumulative Word Count=%{y}<extra></extra>",
           "legendgroup": "SPEAKER_01:",
           "marker": {
            "color": "#EF553B",
            "pattern": {
             "shape": ""
            }
           },
           "name": "SPEAKER_01:",
           "offsetgroup": "SPEAKER_01:",
           "orientation": "v",
           "showlegend": true,
           "textposition": "auto",
           "type": "bar",
           "x": [
            "SPEAKER_01:"
           ],
           "xaxis": "x",
           "y": [
            0
           ],
           "yaxis": "y"
          },
          {
           "alignmentgroup": "True",
           "hovertemplate": "speaker=%{x}<br>Timestamp=00:29.720000<br>Cumulative Word Count=%{y}<extra></extra>",
           "legendgroup": "SPEAKER_02:",
           "marker": {
            "color": "#00cc96",
            "pattern": {
             "shape": ""
            }
           },
           "name": "SPEAKER_02:",
           "offsetgroup": "SPEAKER_02:",
           "orientation": "v",
           "showlegend": true,
           "textposition": "auto",
           "type": "bar",
           "x": [
            "SPEAKER_02:"
           ],
           "xaxis": "x",
           "y": [
            68
           ],
           "yaxis": "y"
          }
         ],
         "name": "00:29.720000"
        },
        {
         "data": [
          {
           "alignmentgroup": "True",
           "hovertemplate": "speaker=%{x}<br>Timestamp=00:35.020000<br>Cumulative Word Count=%{y}<extra></extra>",
           "legendgroup": "SPEAKER_00:",
           "marker": {
            "color": "#636efa",
            "pattern": {
             "shape": ""
            }
           },
           "name": "SPEAKER_00:",
           "offsetgroup": "SPEAKER_00:",
           "orientation": "v",
           "showlegend": true,
           "textposition": "auto",
           "type": "bar",
           "x": [
            "SPEAKER_00:"
           ],
           "xaxis": "x",
           "y": [
            51
           ],
           "yaxis": "y"
          },
          {
           "alignmentgroup": "True",
           "hovertemplate": "speaker=%{x}<br>Timestamp=00:35.020000<br>Cumulative Word Count=%{y}<extra></extra>",
           "legendgroup": "SPEAKER_01:",
           "marker": {
            "color": "#EF553B",
            "pattern": {
             "shape": ""
            }
           },
           "name": "SPEAKER_01:",
           "offsetgroup": "SPEAKER_01:",
           "orientation": "v",
           "showlegend": true,
           "textposition": "auto",
           "type": "bar",
           "x": [
            "SPEAKER_01:"
           ],
           "xaxis": "x",
           "y": [
            0
           ],
           "yaxis": "y"
          },
          {
           "alignmentgroup": "True",
           "hovertemplate": "speaker=%{x}<br>Timestamp=00:35.020000<br>Cumulative Word Count=%{y}<extra></extra>",
           "legendgroup": "SPEAKER_02:",
           "marker": {
            "color": "#00cc96",
            "pattern": {
             "shape": ""
            }
           },
           "name": "SPEAKER_02:",
           "offsetgroup": "SPEAKER_02:",
           "orientation": "v",
           "showlegend": true,
           "textposition": "auto",
           "type": "bar",
           "x": [
            "SPEAKER_02:"
           ],
           "xaxis": "x",
           "y": [
            73
           ],
           "yaxis": "y"
          }
         ],
         "name": "00:35.020000"
        },
        {
         "data": [
          {
           "alignmentgroup": "True",
           "hovertemplate": "speaker=%{x}<br>Timestamp=00:37.120000<br>Cumulative Word Count=%{y}<extra></extra>",
           "legendgroup": "SPEAKER_00:",
           "marker": {
            "color": "#636efa",
            "pattern": {
             "shape": ""
            }
           },
           "name": "SPEAKER_00:",
           "offsetgroup": "SPEAKER_00:",
           "orientation": "v",
           "showlegend": true,
           "textposition": "auto",
           "type": "bar",
           "x": [
            "SPEAKER_00:"
           ],
           "xaxis": "x",
           "y": [
            51
           ],
           "yaxis": "y"
          },
          {
           "alignmentgroup": "True",
           "hovertemplate": "speaker=%{x}<br>Timestamp=00:37.120000<br>Cumulative Word Count=%{y}<extra></extra>",
           "legendgroup": "SPEAKER_01:",
           "marker": {
            "color": "#EF553B",
            "pattern": {
             "shape": ""
            }
           },
           "name": "SPEAKER_01:",
           "offsetgroup": "SPEAKER_01:",
           "orientation": "v",
           "showlegend": true,
           "textposition": "auto",
           "type": "bar",
           "x": [
            "SPEAKER_01:"
           ],
           "xaxis": "x",
           "y": [
            0
           ],
           "yaxis": "y"
          },
          {
           "alignmentgroup": "True",
           "hovertemplate": "speaker=%{x}<br>Timestamp=00:37.120000<br>Cumulative Word Count=%{y}<extra></extra>",
           "legendgroup": "SPEAKER_02:",
           "marker": {
            "color": "#00cc96",
            "pattern": {
             "shape": ""
            }
           },
           "name": "SPEAKER_02:",
           "offsetgroup": "SPEAKER_02:",
           "orientation": "v",
           "showlegend": true,
           "textposition": "auto",
           "type": "bar",
           "x": [
            "SPEAKER_02:"
           ],
           "xaxis": "x",
           "y": [
            79
           ],
           "yaxis": "y"
          }
         ],
         "name": "00:37.120000"
        },
        {
         "data": [
          {
           "alignmentgroup": "True",
           "hovertemplate": "speaker=%{x}<br>Timestamp=00:38.300000<br>Cumulative Word Count=%{y}<extra></extra>",
           "legendgroup": "SPEAKER_00:",
           "marker": {
            "color": "#636efa",
            "pattern": {
             "shape": ""
            }
           },
           "name": "SPEAKER_00:",
           "offsetgroup": "SPEAKER_00:",
           "orientation": "v",
           "showlegend": true,
           "textposition": "auto",
           "type": "bar",
           "x": [
            "SPEAKER_00:"
           ],
           "xaxis": "x",
           "y": [
            51
           ],
           "yaxis": "y"
          },
          {
           "alignmentgroup": "True",
           "hovertemplate": "speaker=%{x}<br>Timestamp=00:38.300000<br>Cumulative Word Count=%{y}<extra></extra>",
           "legendgroup": "SPEAKER_01:",
           "marker": {
            "color": "#EF553B",
            "pattern": {
             "shape": ""
            }
           },
           "name": "SPEAKER_01:",
           "offsetgroup": "SPEAKER_01:",
           "orientation": "v",
           "showlegend": true,
           "textposition": "auto",
           "type": "bar",
           "x": [
            "SPEAKER_01:"
           ],
           "xaxis": "x",
           "y": [
            0
           ],
           "yaxis": "y"
          },
          {
           "alignmentgroup": "True",
           "hovertemplate": "speaker=%{x}<br>Timestamp=00:38.300000<br>Cumulative Word Count=%{y}<extra></extra>",
           "legendgroup": "SPEAKER_02:",
           "marker": {
            "color": "#00cc96",
            "pattern": {
             "shape": ""
            }
           },
           "name": "SPEAKER_02:",
           "offsetgroup": "SPEAKER_02:",
           "orientation": "v",
           "showlegend": true,
           "textposition": "auto",
           "type": "bar",
           "x": [
            "SPEAKER_02:"
           ],
           "xaxis": "x",
           "y": [
            84
           ],
           "yaxis": "y"
          }
         ],
         "name": "00:38.300000"
        },
        {
         "data": [
          {
           "alignmentgroup": "True",
           "hovertemplate": "speaker=%{x}<br>Timestamp=00:40.140000<br>Cumulative Word Count=%{y}<extra></extra>",
           "legendgroup": "SPEAKER_00:",
           "marker": {
            "color": "#636efa",
            "pattern": {
             "shape": ""
            }
           },
           "name": "SPEAKER_00:",
           "offsetgroup": "SPEAKER_00:",
           "orientation": "v",
           "showlegend": true,
           "textposition": "auto",
           "type": "bar",
           "x": [
            "SPEAKER_00:"
           ],
           "xaxis": "x",
           "y": [
            51
           ],
           "yaxis": "y"
          },
          {
           "alignmentgroup": "True",
           "hovertemplate": "speaker=%{x}<br>Timestamp=00:40.140000<br>Cumulative Word Count=%{y}<extra></extra>",
           "legendgroup": "SPEAKER_01:",
           "marker": {
            "color": "#EF553B",
            "pattern": {
             "shape": ""
            }
           },
           "name": "SPEAKER_01:",
           "offsetgroup": "SPEAKER_01:",
           "orientation": "v",
           "showlegend": true,
           "textposition": "auto",
           "type": "bar",
           "x": [
            "SPEAKER_01:"
           ],
           "xaxis": "x",
           "y": [
            0
           ],
           "yaxis": "y"
          },
          {
           "alignmentgroup": "True",
           "hovertemplate": "speaker=%{x}<br>Timestamp=00:40.140000<br>Cumulative Word Count=%{y}<extra></extra>",
           "legendgroup": "SPEAKER_02:",
           "marker": {
            "color": "#00cc96",
            "pattern": {
             "shape": ""
            }
           },
           "name": "SPEAKER_02:",
           "offsetgroup": "SPEAKER_02:",
           "orientation": "v",
           "showlegend": true,
           "textposition": "auto",
           "type": "bar",
           "x": [
            "SPEAKER_02:"
           ],
           "xaxis": "x",
           "y": [
            90
           ],
           "yaxis": "y"
          }
         ],
         "name": "00:40.140000"
        },
        {
         "data": [
          {
           "alignmentgroup": "True",
           "hovertemplate": "speaker=%{x}<br>Timestamp=00:43.640000<br>Cumulative Word Count=%{y}<extra></extra>",
           "legendgroup": "SPEAKER_00:",
           "marker": {
            "color": "#636efa",
            "pattern": {
             "shape": ""
            }
           },
           "name": "SPEAKER_00:",
           "offsetgroup": "SPEAKER_00:",
           "orientation": "v",
           "showlegend": true,
           "textposition": "auto",
           "type": "bar",
           "x": [
            "SPEAKER_00:"
           ],
           "xaxis": "x",
           "y": [
            51
           ],
           "yaxis": "y"
          },
          {
           "alignmentgroup": "True",
           "hovertemplate": "speaker=%{x}<br>Timestamp=00:43.640000<br>Cumulative Word Count=%{y}<extra></extra>",
           "legendgroup": "SPEAKER_01:",
           "marker": {
            "color": "#EF553B",
            "pattern": {
             "shape": ""
            }
           },
           "name": "SPEAKER_01:",
           "offsetgroup": "SPEAKER_01:",
           "orientation": "v",
           "showlegend": true,
           "textposition": "auto",
           "type": "bar",
           "x": [
            "SPEAKER_01:"
           ],
           "xaxis": "x",
           "y": [
            0
           ],
           "yaxis": "y"
          },
          {
           "alignmentgroup": "True",
           "hovertemplate": "speaker=%{x}<br>Timestamp=00:43.640000<br>Cumulative Word Count=%{y}<extra></extra>",
           "legendgroup": "SPEAKER_02:",
           "marker": {
            "color": "#00cc96",
            "pattern": {
             "shape": ""
            }
           },
           "name": "SPEAKER_02:",
           "offsetgroup": "SPEAKER_02:",
           "orientation": "v",
           "showlegend": true,
           "textposition": "auto",
           "type": "bar",
           "x": [
            "SPEAKER_02:"
           ],
           "xaxis": "x",
           "y": [
            98
           ],
           "yaxis": "y"
          }
         ],
         "name": "00:43.640000"
        },
        {
         "data": [
          {
           "alignmentgroup": "True",
           "hovertemplate": "speaker=%{x}<br>Timestamp=00:45.910000<br>Cumulative Word Count=%{y}<extra></extra>",
           "legendgroup": "SPEAKER_00:",
           "marker": {
            "color": "#636efa",
            "pattern": {
             "shape": ""
            }
           },
           "name": "SPEAKER_00:",
           "offsetgroup": "SPEAKER_00:",
           "orientation": "v",
           "showlegend": true,
           "textposition": "auto",
           "type": "bar",
           "x": [
            "SPEAKER_00:"
           ],
           "xaxis": "x",
           "y": [
            51
           ],
           "yaxis": "y"
          },
          {
           "alignmentgroup": "True",
           "hovertemplate": "speaker=%{x}<br>Timestamp=00:45.910000<br>Cumulative Word Count=%{y}<extra></extra>",
           "legendgroup": "SPEAKER_01:",
           "marker": {
            "color": "#EF553B",
            "pattern": {
             "shape": ""
            }
           },
           "name": "SPEAKER_01:",
           "offsetgroup": "SPEAKER_01:",
           "orientation": "v",
           "showlegend": true,
           "textposition": "auto",
           "type": "bar",
           "x": [
            "SPEAKER_01:"
           ],
           "xaxis": "x",
           "y": [
            0
           ],
           "yaxis": "y"
          },
          {
           "alignmentgroup": "True",
           "hovertemplate": "speaker=%{x}<br>Timestamp=00:45.910000<br>Cumulative Word Count=%{y}<extra></extra>",
           "legendgroup": "SPEAKER_02:",
           "marker": {
            "color": "#00cc96",
            "pattern": {
             "shape": ""
            }
           },
           "name": "SPEAKER_02:",
           "offsetgroup": "SPEAKER_02:",
           "orientation": "v",
           "showlegend": true,
           "textposition": "auto",
           "type": "bar",
           "x": [
            "SPEAKER_02:"
           ],
           "xaxis": "x",
           "y": [
            103
           ],
           "yaxis": "y"
          }
         ],
         "name": "00:45.910000"
        },
        {
         "data": [
          {
           "alignmentgroup": "True",
           "hovertemplate": "speaker=%{x}<br>Timestamp=00:47.520000<br>Cumulative Word Count=%{y}<extra></extra>",
           "legendgroup": "SPEAKER_00:",
           "marker": {
            "color": "#636efa",
            "pattern": {
             "shape": ""
            }
           },
           "name": "SPEAKER_00:",
           "offsetgroup": "SPEAKER_00:",
           "orientation": "v",
           "showlegend": true,
           "textposition": "auto",
           "type": "bar",
           "x": [
            "SPEAKER_00:"
           ],
           "xaxis": "x",
           "y": [
            51
           ],
           "yaxis": "y"
          },
          {
           "alignmentgroup": "True",
           "hovertemplate": "speaker=%{x}<br>Timestamp=00:47.520000<br>Cumulative Word Count=%{y}<extra></extra>",
           "legendgroup": "SPEAKER_01:",
           "marker": {
            "color": "#EF553B",
            "pattern": {
             "shape": ""
            }
           },
           "name": "SPEAKER_01:",
           "offsetgroup": "SPEAKER_01:",
           "orientation": "v",
           "showlegend": true,
           "textposition": "auto",
           "type": "bar",
           "x": [
            "SPEAKER_01:"
           ],
           "xaxis": "x",
           "y": [
            0
           ],
           "yaxis": "y"
          },
          {
           "alignmentgroup": "True",
           "hovertemplate": "speaker=%{x}<br>Timestamp=00:47.520000<br>Cumulative Word Count=%{y}<extra></extra>",
           "legendgroup": "SPEAKER_02:",
           "marker": {
            "color": "#00cc96",
            "pattern": {
             "shape": ""
            }
           },
           "name": "SPEAKER_02:",
           "offsetgroup": "SPEAKER_02:",
           "orientation": "v",
           "showlegend": true,
           "textposition": "auto",
           "type": "bar",
           "x": [
            "SPEAKER_02:"
           ],
           "xaxis": "x",
           "y": [
            113
           ],
           "yaxis": "y"
          }
         ],
         "name": "00:47.520000"
        },
        {
         "data": [
          {
           "alignmentgroup": "True",
           "hovertemplate": "speaker=%{x}<br>Timestamp=00:49.210000<br>Cumulative Word Count=%{y}<extra></extra>",
           "legendgroup": "SPEAKER_00:",
           "marker": {
            "color": "#636efa",
            "pattern": {
             "shape": ""
            }
           },
           "name": "SPEAKER_00:",
           "offsetgroup": "SPEAKER_00:",
           "orientation": "v",
           "showlegend": true,
           "textposition": "auto",
           "type": "bar",
           "x": [
            "SPEAKER_00:"
           ],
           "xaxis": "x",
           "y": [
            51
           ],
           "yaxis": "y"
          },
          {
           "alignmentgroup": "True",
           "hovertemplate": "speaker=%{x}<br>Timestamp=00:49.210000<br>Cumulative Word Count=%{y}<extra></extra>",
           "legendgroup": "SPEAKER_01:",
           "marker": {
            "color": "#EF553B",
            "pattern": {
             "shape": ""
            }
           },
           "name": "SPEAKER_01:",
           "offsetgroup": "SPEAKER_01:",
           "orientation": "v",
           "showlegend": true,
           "textposition": "auto",
           "type": "bar",
           "x": [
            "SPEAKER_01:"
           ],
           "xaxis": "x",
           "y": [
            0
           ],
           "yaxis": "y"
          },
          {
           "alignmentgroup": "True",
           "hovertemplate": "speaker=%{x}<br>Timestamp=00:49.210000<br>Cumulative Word Count=%{y}<extra></extra>",
           "legendgroup": "SPEAKER_02:",
           "marker": {
            "color": "#00cc96",
            "pattern": {
             "shape": ""
            }
           },
           "name": "SPEAKER_02:",
           "offsetgroup": "SPEAKER_02:",
           "orientation": "v",
           "showlegend": true,
           "textposition": "auto",
           "type": "bar",
           "x": [
            "SPEAKER_02:"
           ],
           "xaxis": "x",
           "y": [
            121
           ],
           "yaxis": "y"
          }
         ],
         "name": "00:49.210000"
        },
        {
         "data": [
          {
           "alignmentgroup": "True",
           "hovertemplate": "speaker=%{x}<br>Timestamp=00:51.100000<br>Cumulative Word Count=%{y}<extra></extra>",
           "legendgroup": "SPEAKER_00:",
           "marker": {
            "color": "#636efa",
            "pattern": {
             "shape": ""
            }
           },
           "name": "SPEAKER_00:",
           "offsetgroup": "SPEAKER_00:",
           "orientation": "v",
           "showlegend": true,
           "textposition": "auto",
           "type": "bar",
           "x": [
            "SPEAKER_00:"
           ],
           "xaxis": "x",
           "y": [
            51
           ],
           "yaxis": "y"
          },
          {
           "alignmentgroup": "True",
           "hovertemplate": "speaker=%{x}<br>Timestamp=00:51.100000<br>Cumulative Word Count=%{y}<extra></extra>",
           "legendgroup": "SPEAKER_01:",
           "marker": {
            "color": "#EF553B",
            "pattern": {
             "shape": ""
            }
           },
           "name": "SPEAKER_01:",
           "offsetgroup": "SPEAKER_01:",
           "orientation": "v",
           "showlegend": true,
           "textposition": "auto",
           "type": "bar",
           "x": [
            "SPEAKER_01:"
           ],
           "xaxis": "x",
           "y": [
            0
           ],
           "yaxis": "y"
          },
          {
           "alignmentgroup": "True",
           "hovertemplate": "speaker=%{x}<br>Timestamp=00:51.100000<br>Cumulative Word Count=%{y}<extra></extra>",
           "legendgroup": "SPEAKER_02:",
           "marker": {
            "color": "#00cc96",
            "pattern": {
             "shape": ""
            }
           },
           "name": "SPEAKER_02:",
           "offsetgroup": "SPEAKER_02:",
           "orientation": "v",
           "showlegend": true,
           "textposition": "auto",
           "type": "bar",
           "x": [
            "SPEAKER_02:"
           ],
           "xaxis": "x",
           "y": [
            125
           ],
           "yaxis": "y"
          }
         ],
         "name": "00:51.100000"
        },
        {
         "data": [
          {
           "alignmentgroup": "True",
           "hovertemplate": "speaker=%{x}<br>Timestamp=00:53.300000<br>Cumulative Word Count=%{y}<extra></extra>",
           "legendgroup": "SPEAKER_00:",
           "marker": {
            "color": "#636efa",
            "pattern": {
             "shape": ""
            }
           },
           "name": "SPEAKER_00:",
           "offsetgroup": "SPEAKER_00:",
           "orientation": "v",
           "showlegend": true,
           "textposition": "auto",
           "type": "bar",
           "x": [
            "SPEAKER_00:"
           ],
           "xaxis": "x",
           "y": [
            51
           ],
           "yaxis": "y"
          },
          {
           "alignmentgroup": "True",
           "hovertemplate": "speaker=%{x}<br>Timestamp=00:53.300000<br>Cumulative Word Count=%{y}<extra></extra>",
           "legendgroup": "SPEAKER_01:",
           "marker": {
            "color": "#EF553B",
            "pattern": {
             "shape": ""
            }
           },
           "name": "SPEAKER_01:",
           "offsetgroup": "SPEAKER_01:",
           "orientation": "v",
           "showlegend": true,
           "textposition": "auto",
           "type": "bar",
           "x": [
            "SPEAKER_01:"
           ],
           "xaxis": "x",
           "y": [
            0
           ],
           "yaxis": "y"
          },
          {
           "alignmentgroup": "True",
           "hovertemplate": "speaker=%{x}<br>Timestamp=00:53.300000<br>Cumulative Word Count=%{y}<extra></extra>",
           "legendgroup": "SPEAKER_02:",
           "marker": {
            "color": "#00cc96",
            "pattern": {
             "shape": ""
            }
           },
           "name": "SPEAKER_02:",
           "offsetgroup": "SPEAKER_02:",
           "orientation": "v",
           "showlegend": true,
           "textposition": "auto",
           "type": "bar",
           "x": [
            "SPEAKER_02:"
           ],
           "xaxis": "x",
           "y": [
            131
           ],
           "yaxis": "y"
          }
         ],
         "name": "00:53.300000"
        },
        {
         "data": [
          {
           "alignmentgroup": "True",
           "hovertemplate": "speaker=%{x}<br>Timestamp=00:54.960000<br>Cumulative Word Count=%{y}<extra></extra>",
           "legendgroup": "SPEAKER_00:",
           "marker": {
            "color": "#636efa",
            "pattern": {
             "shape": ""
            }
           },
           "name": "SPEAKER_00:",
           "offsetgroup": "SPEAKER_00:",
           "orientation": "v",
           "showlegend": true,
           "textposition": "auto",
           "type": "bar",
           "x": [
            "SPEAKER_00:"
           ],
           "xaxis": "x",
           "y": [
            51
           ],
           "yaxis": "y"
          },
          {
           "alignmentgroup": "True",
           "hovertemplate": "speaker=%{x}<br>Timestamp=00:54.960000<br>Cumulative Word Count=%{y}<extra></extra>",
           "legendgroup": "SPEAKER_01:",
           "marker": {
            "color": "#EF553B",
            "pattern": {
             "shape": ""
            }
           },
           "name": "SPEAKER_01:",
           "offsetgroup": "SPEAKER_01:",
           "orientation": "v",
           "showlegend": true,
           "textposition": "auto",
           "type": "bar",
           "x": [
            "SPEAKER_01:"
           ],
           "xaxis": "x",
           "y": [
            0
           ],
           "yaxis": "y"
          },
          {
           "alignmentgroup": "True",
           "hovertemplate": "speaker=%{x}<br>Timestamp=00:54.960000<br>Cumulative Word Count=%{y}<extra></extra>",
           "legendgroup": "SPEAKER_02:",
           "marker": {
            "color": "#00cc96",
            "pattern": {
             "shape": ""
            }
           },
           "name": "SPEAKER_02:",
           "offsetgroup": "SPEAKER_02:",
           "orientation": "v",
           "showlegend": true,
           "textposition": "auto",
           "type": "bar",
           "x": [
            "SPEAKER_02:"
           ],
           "xaxis": "x",
           "y": [
            140
           ],
           "yaxis": "y"
          }
         ],
         "name": "00:54.960000"
        },
        {
         "data": [
          {
           "alignmentgroup": "True",
           "hovertemplate": "speaker=%{x}<br>Timestamp=00:57.320000<br>Cumulative Word Count=%{y}<extra></extra>",
           "legendgroup": "SPEAKER_00:",
           "marker": {
            "color": "#636efa",
            "pattern": {
             "shape": ""
            }
           },
           "name": "SPEAKER_00:",
           "offsetgroup": "SPEAKER_00:",
           "orientation": "v",
           "showlegend": true,
           "textposition": "auto",
           "type": "bar",
           "x": [
            "SPEAKER_00:"
           ],
           "xaxis": "x",
           "y": [
            51
           ],
           "yaxis": "y"
          },
          {
           "alignmentgroup": "True",
           "hovertemplate": "speaker=%{x}<br>Timestamp=00:57.320000<br>Cumulative Word Count=%{y}<extra></extra>",
           "legendgroup": "SPEAKER_01:",
           "marker": {
            "color": "#EF553B",
            "pattern": {
             "shape": ""
            }
           },
           "name": "SPEAKER_01:",
           "offsetgroup": "SPEAKER_01:",
           "orientation": "v",
           "showlegend": true,
           "textposition": "auto",
           "type": "bar",
           "x": [
            "SPEAKER_01:"
           ],
           "xaxis": "x",
           "y": [
            0
           ],
           "yaxis": "y"
          },
          {
           "alignmentgroup": "True",
           "hovertemplate": "speaker=%{x}<br>Timestamp=00:57.320000<br>Cumulative Word Count=%{y}<extra></extra>",
           "legendgroup": "SPEAKER_02:",
           "marker": {
            "color": "#00cc96",
            "pattern": {
             "shape": ""
            }
           },
           "name": "SPEAKER_02:",
           "offsetgroup": "SPEAKER_02:",
           "orientation": "v",
           "showlegend": true,
           "textposition": "auto",
           "type": "bar",
           "x": [
            "SPEAKER_02:"
           ],
           "xaxis": "x",
           "y": [
            147
           ],
           "yaxis": "y"
          }
         ],
         "name": "00:57.320000"
        },
        {
         "data": [
          {
           "alignmentgroup": "True",
           "hovertemplate": "speaker=%{x}<br>Timestamp=01:00.350000<br>Cumulative Word Count=%{y}<extra></extra>",
           "legendgroup": "SPEAKER_00:",
           "marker": {
            "color": "#636efa",
            "pattern": {
             "shape": ""
            }
           },
           "name": "SPEAKER_00:",
           "offsetgroup": "SPEAKER_00:",
           "orientation": "v",
           "showlegend": true,
           "textposition": "auto",
           "type": "bar",
           "x": [
            "SPEAKER_00:"
           ],
           "xaxis": "x",
           "y": [
            51
           ],
           "yaxis": "y"
          },
          {
           "alignmentgroup": "True",
           "hovertemplate": "speaker=%{x}<br>Timestamp=01:00.350000<br>Cumulative Word Count=%{y}<extra></extra>",
           "legendgroup": "SPEAKER_01:",
           "marker": {
            "color": "#EF553B",
            "pattern": {
             "shape": ""
            }
           },
           "name": "SPEAKER_01:",
           "offsetgroup": "SPEAKER_01:",
           "orientation": "v",
           "showlegend": true,
           "textposition": "auto",
           "type": "bar",
           "x": [
            "SPEAKER_01:"
           ],
           "xaxis": "x",
           "y": [
            0
           ],
           "yaxis": "y"
          },
          {
           "alignmentgroup": "True",
           "hovertemplate": "speaker=%{x}<br>Timestamp=01:00.350000<br>Cumulative Word Count=%{y}<extra></extra>",
           "legendgroup": "SPEAKER_02:",
           "marker": {
            "color": "#00cc96",
            "pattern": {
             "shape": ""
            }
           },
           "name": "SPEAKER_02:",
           "offsetgroup": "SPEAKER_02:",
           "orientation": "v",
           "showlegend": true,
           "textposition": "auto",
           "type": "bar",
           "x": [
            "SPEAKER_02:"
           ],
           "xaxis": "x",
           "y": [
            152
           ],
           "yaxis": "y"
          }
         ],
         "name": "01:00.350000"
        },
        {
         "data": [
          {
           "alignmentgroup": "True",
           "hovertemplate": "speaker=%{x}<br>Timestamp=01:02.280000<br>Cumulative Word Count=%{y}<extra></extra>",
           "legendgroup": "SPEAKER_00:",
           "marker": {
            "color": "#636efa",
            "pattern": {
             "shape": ""
            }
           },
           "name": "SPEAKER_00:",
           "offsetgroup": "SPEAKER_00:",
           "orientation": "v",
           "showlegend": true,
           "textposition": "auto",
           "type": "bar",
           "x": [
            "SPEAKER_00:"
           ],
           "xaxis": "x",
           "y": [
            51
           ],
           "yaxis": "y"
          },
          {
           "alignmentgroup": "True",
           "hovertemplate": "speaker=%{x}<br>Timestamp=01:02.280000<br>Cumulative Word Count=%{y}<extra></extra>",
           "legendgroup": "SPEAKER_01:",
           "marker": {
            "color": "#EF553B",
            "pattern": {
             "shape": ""
            }
           },
           "name": "SPEAKER_01:",
           "offsetgroup": "SPEAKER_01:",
           "orientation": "v",
           "showlegend": true,
           "textposition": "auto",
           "type": "bar",
           "x": [
            "SPEAKER_01:"
           ],
           "xaxis": "x",
           "y": [
            0
           ],
           "yaxis": "y"
          },
          {
           "alignmentgroup": "True",
           "hovertemplate": "speaker=%{x}<br>Timestamp=01:02.280000<br>Cumulative Word Count=%{y}<extra></extra>",
           "legendgroup": "SPEAKER_02:",
           "marker": {
            "color": "#00cc96",
            "pattern": {
             "shape": ""
            }
           },
           "name": "SPEAKER_02:",
           "offsetgroup": "SPEAKER_02:",
           "orientation": "v",
           "showlegend": true,
           "textposition": "auto",
           "type": "bar",
           "x": [
            "SPEAKER_02:"
           ],
           "xaxis": "x",
           "y": [
            159
           ],
           "yaxis": "y"
          }
         ],
         "name": "01:02.280000"
        },
        {
         "data": [
          {
           "alignmentgroup": "True",
           "hovertemplate": "speaker=%{x}<br>Timestamp=01:04.410000<br>Cumulative Word Count=%{y}<extra></extra>",
           "legendgroup": "SPEAKER_00:",
           "marker": {
            "color": "#636efa",
            "pattern": {
             "shape": ""
            }
           },
           "name": "SPEAKER_00:",
           "offsetgroup": "SPEAKER_00:",
           "orientation": "v",
           "showlegend": true,
           "textposition": "auto",
           "type": "bar",
           "x": [
            "SPEAKER_00:"
           ],
           "xaxis": "x",
           "y": [
            51
           ],
           "yaxis": "y"
          },
          {
           "alignmentgroup": "True",
           "hovertemplate": "speaker=%{x}<br>Timestamp=01:04.410000<br>Cumulative Word Count=%{y}<extra></extra>",
           "legendgroup": "SPEAKER_01:",
           "marker": {
            "color": "#EF553B",
            "pattern": {
             "shape": ""
            }
           },
           "name": "SPEAKER_01:",
           "offsetgroup": "SPEAKER_01:",
           "orientation": "v",
           "showlegend": true,
           "textposition": "auto",
           "type": "bar",
           "x": [
            "SPEAKER_01:"
           ],
           "xaxis": "x",
           "y": [
            0
           ],
           "yaxis": "y"
          },
          {
           "alignmentgroup": "True",
           "hovertemplate": "speaker=%{x}<br>Timestamp=01:04.410000<br>Cumulative Word Count=%{y}<extra></extra>",
           "legendgroup": "SPEAKER_02:",
           "marker": {
            "color": "#00cc96",
            "pattern": {
             "shape": ""
            }
           },
           "name": "SPEAKER_02:",
           "offsetgroup": "SPEAKER_02:",
           "orientation": "v",
           "showlegend": true,
           "textposition": "auto",
           "type": "bar",
           "x": [
            "SPEAKER_02:"
           ],
           "xaxis": "x",
           "y": [
            166
           ],
           "yaxis": "y"
          }
         ],
         "name": "01:04.410000"
        },
        {
         "data": [
          {
           "alignmentgroup": "True",
           "hovertemplate": "speaker=%{x}<br>Timestamp=01:06.980000<br>Cumulative Word Count=%{y}<extra></extra>",
           "legendgroup": "SPEAKER_00:",
           "marker": {
            "color": "#636efa",
            "pattern": {
             "shape": ""
            }
           },
           "name": "SPEAKER_00:",
           "offsetgroup": "SPEAKER_00:",
           "orientation": "v",
           "showlegend": true,
           "textposition": "auto",
           "type": "bar",
           "x": [
            "SPEAKER_00:"
           ],
           "xaxis": "x",
           "y": [
            51
           ],
           "yaxis": "y"
          },
          {
           "alignmentgroup": "True",
           "hovertemplate": "speaker=%{x}<br>Timestamp=01:06.980000<br>Cumulative Word Count=%{y}<extra></extra>",
           "legendgroup": "SPEAKER_01:",
           "marker": {
            "color": "#EF553B",
            "pattern": {
             "shape": ""
            }
           },
           "name": "SPEAKER_01:",
           "offsetgroup": "SPEAKER_01:",
           "orientation": "v",
           "showlegend": true,
           "textposition": "auto",
           "type": "bar",
           "x": [
            "SPEAKER_01:"
           ],
           "xaxis": "x",
           "y": [
            0
           ],
           "yaxis": "y"
          },
          {
           "alignmentgroup": "True",
           "hovertemplate": "speaker=%{x}<br>Timestamp=01:06.980000<br>Cumulative Word Count=%{y}<extra></extra>",
           "legendgroup": "SPEAKER_02:",
           "marker": {
            "color": "#00cc96",
            "pattern": {
             "shape": ""
            }
           },
           "name": "SPEAKER_02:",
           "offsetgroup": "SPEAKER_02:",
           "orientation": "v",
           "showlegend": true,
           "textposition": "auto",
           "type": "bar",
           "x": [
            "SPEAKER_02:"
           ],
           "xaxis": "x",
           "y": [
            176
           ],
           "yaxis": "y"
          }
         ],
         "name": "01:06.980000"
        },
        {
         "data": [
          {
           "alignmentgroup": "True",
           "hovertemplate": "speaker=%{x}<br>Timestamp=01:11.420000<br>Cumulative Word Count=%{y}<extra></extra>",
           "legendgroup": "SPEAKER_00:",
           "marker": {
            "color": "#636efa",
            "pattern": {
             "shape": ""
            }
           },
           "name": "SPEAKER_00:",
           "offsetgroup": "SPEAKER_00:",
           "orientation": "v",
           "showlegend": true,
           "textposition": "auto",
           "type": "bar",
           "x": [
            "SPEAKER_00:"
           ],
           "xaxis": "x",
           "y": [
            51
           ],
           "yaxis": "y"
          },
          {
           "alignmentgroup": "True",
           "hovertemplate": "speaker=%{x}<br>Timestamp=01:11.420000<br>Cumulative Word Count=%{y}<extra></extra>",
           "legendgroup": "SPEAKER_01:",
           "marker": {
            "color": "#EF553B",
            "pattern": {
             "shape": ""
            }
           },
           "name": "SPEAKER_01:",
           "offsetgroup": "SPEAKER_01:",
           "orientation": "v",
           "showlegend": true,
           "textposition": "auto",
           "type": "bar",
           "x": [
            "SPEAKER_01:"
           ],
           "xaxis": "x",
           "y": [
            0
           ],
           "yaxis": "y"
          },
          {
           "alignmentgroup": "True",
           "hovertemplate": "speaker=%{x}<br>Timestamp=01:11.420000<br>Cumulative Word Count=%{y}<extra></extra>",
           "legendgroup": "SPEAKER_02:",
           "marker": {
            "color": "#00cc96",
            "pattern": {
             "shape": ""
            }
           },
           "name": "SPEAKER_02:",
           "offsetgroup": "SPEAKER_02:",
           "orientation": "v",
           "showlegend": true,
           "textposition": "auto",
           "type": "bar",
           "x": [
            "SPEAKER_02:"
           ],
           "xaxis": "x",
           "y": [
            186
           ],
           "yaxis": "y"
          }
         ],
         "name": "01:11.420000"
        },
        {
         "data": [
          {
           "alignmentgroup": "True",
           "hovertemplate": "speaker=%{x}<br>Timestamp=01:13.610000<br>Cumulative Word Count=%{y}<extra></extra>",
           "legendgroup": "SPEAKER_00:",
           "marker": {
            "color": "#636efa",
            "pattern": {
             "shape": ""
            }
           },
           "name": "SPEAKER_00:",
           "offsetgroup": "SPEAKER_00:",
           "orientation": "v",
           "showlegend": true,
           "textposition": "auto",
           "type": "bar",
           "x": [
            "SPEAKER_00:"
           ],
           "xaxis": "x",
           "y": [
            51
           ],
           "yaxis": "y"
          },
          {
           "alignmentgroup": "True",
           "hovertemplate": "speaker=%{x}<br>Timestamp=01:13.610000<br>Cumulative Word Count=%{y}<extra></extra>",
           "legendgroup": "SPEAKER_01:",
           "marker": {
            "color": "#EF553B",
            "pattern": {
             "shape": ""
            }
           },
           "name": "SPEAKER_01:",
           "offsetgroup": "SPEAKER_01:",
           "orientation": "v",
           "showlegend": true,
           "textposition": "auto",
           "type": "bar",
           "x": [
            "SPEAKER_01:"
           ],
           "xaxis": "x",
           "y": [
            0
           ],
           "yaxis": "y"
          },
          {
           "alignmentgroup": "True",
           "hovertemplate": "speaker=%{x}<br>Timestamp=01:13.610000<br>Cumulative Word Count=%{y}<extra></extra>",
           "legendgroup": "SPEAKER_02:",
           "marker": {
            "color": "#00cc96",
            "pattern": {
             "shape": ""
            }
           },
           "name": "SPEAKER_02:",
           "offsetgroup": "SPEAKER_02:",
           "orientation": "v",
           "showlegend": true,
           "textposition": "auto",
           "type": "bar",
           "x": [
            "SPEAKER_02:"
           ],
           "xaxis": "x",
           "y": [
            191
           ],
           "yaxis": "y"
          }
         ],
         "name": "01:13.610000"
        },
        {
         "data": [
          {
           "alignmentgroup": "True",
           "hovertemplate": "speaker=%{x}<br>Timestamp=01:15.620000<br>Cumulative Word Count=%{y}<extra></extra>",
           "legendgroup": "SPEAKER_00:",
           "marker": {
            "color": "#636efa",
            "pattern": {
             "shape": ""
            }
           },
           "name": "SPEAKER_00:",
           "offsetgroup": "SPEAKER_00:",
           "orientation": "v",
           "showlegend": true,
           "textposition": "auto",
           "type": "bar",
           "x": [
            "SPEAKER_00:"
           ],
           "xaxis": "x",
           "y": [
            51
           ],
           "yaxis": "y"
          },
          {
           "alignmentgroup": "True",
           "hovertemplate": "speaker=%{x}<br>Timestamp=01:15.620000<br>Cumulative Word Count=%{y}<extra></extra>",
           "legendgroup": "SPEAKER_01:",
           "marker": {
            "color": "#EF553B",
            "pattern": {
             "shape": ""
            }
           },
           "name": "SPEAKER_01:",
           "offsetgroup": "SPEAKER_01:",
           "orientation": "v",
           "showlegend": true,
           "textposition": "auto",
           "type": "bar",
           "x": [
            "SPEAKER_01:"
           ],
           "xaxis": "x",
           "y": [
            0
           ],
           "yaxis": "y"
          },
          {
           "alignmentgroup": "True",
           "hovertemplate": "speaker=%{x}<br>Timestamp=01:15.620000<br>Cumulative Word Count=%{y}<extra></extra>",
           "legendgroup": "SPEAKER_02:",
           "marker": {
            "color": "#00cc96",
            "pattern": {
             "shape": ""
            }
           },
           "name": "SPEAKER_02:",
           "offsetgroup": "SPEAKER_02:",
           "orientation": "v",
           "showlegend": true,
           "textposition": "auto",
           "type": "bar",
           "x": [
            "SPEAKER_02:"
           ],
           "xaxis": "x",
           "y": [
            199
           ],
           "yaxis": "y"
          }
         ],
         "name": "01:15.620000"
        },
        {
         "data": [
          {
           "alignmentgroup": "True",
           "hovertemplate": "speaker=%{x}<br>Timestamp=01:17.230000<br>Cumulative Word Count=%{y}<extra></extra>",
           "legendgroup": "SPEAKER_00:",
           "marker": {
            "color": "#636efa",
            "pattern": {
             "shape": ""
            }
           },
           "name": "SPEAKER_00:",
           "offsetgroup": "SPEAKER_00:",
           "orientation": "v",
           "showlegend": true,
           "textposition": "auto",
           "type": "bar",
           "x": [
            "SPEAKER_00:"
           ],
           "xaxis": "x",
           "y": [
            51
           ],
           "yaxis": "y"
          },
          {
           "alignmentgroup": "True",
           "hovertemplate": "speaker=%{x}<br>Timestamp=01:17.230000<br>Cumulative Word Count=%{y}<extra></extra>",
           "legendgroup": "SPEAKER_01:",
           "marker": {
            "color": "#EF553B",
            "pattern": {
             "shape": ""
            }
           },
           "name": "SPEAKER_01:",
           "offsetgroup": "SPEAKER_01:",
           "orientation": "v",
           "showlegend": true,
           "textposition": "auto",
           "type": "bar",
           "x": [
            "SPEAKER_01:"
           ],
           "xaxis": "x",
           "y": [
            0
           ],
           "yaxis": "y"
          },
          {
           "alignmentgroup": "True",
           "hovertemplate": "speaker=%{x}<br>Timestamp=01:17.230000<br>Cumulative Word Count=%{y}<extra></extra>",
           "legendgroup": "SPEAKER_02:",
           "marker": {
            "color": "#00cc96",
            "pattern": {
             "shape": ""
            }
           },
           "name": "SPEAKER_02:",
           "offsetgroup": "SPEAKER_02:",
           "orientation": "v",
           "showlegend": true,
           "textposition": "auto",
           "type": "bar",
           "x": [
            "SPEAKER_02:"
           ],
           "xaxis": "x",
           "y": [
            208
           ],
           "yaxis": "y"
          }
         ],
         "name": "01:17.230000"
        },
        {
         "data": [
          {
           "alignmentgroup": "True",
           "hovertemplate": "speaker=%{x}<br>Timestamp=01:20.000000<br>Cumulative Word Count=%{y}<extra></extra>",
           "legendgroup": "SPEAKER_00:",
           "marker": {
            "color": "#636efa",
            "pattern": {
             "shape": ""
            }
           },
           "name": "SPEAKER_00:",
           "offsetgroup": "SPEAKER_00:",
           "orientation": "v",
           "showlegend": true,
           "textposition": "auto",
           "type": "bar",
           "x": [
            "SPEAKER_00:"
           ],
           "xaxis": "x",
           "y": [
            51
           ],
           "yaxis": "y"
          },
          {
           "alignmentgroup": "True",
           "hovertemplate": "speaker=%{x}<br>Timestamp=01:20.000000<br>Cumulative Word Count=%{y}<extra></extra>",
           "legendgroup": "SPEAKER_01:",
           "marker": {
            "color": "#EF553B",
            "pattern": {
             "shape": ""
            }
           },
           "name": "SPEAKER_01:",
           "offsetgroup": "SPEAKER_01:",
           "orientation": "v",
           "showlegend": true,
           "textposition": "auto",
           "type": "bar",
           "x": [
            "SPEAKER_01:"
           ],
           "xaxis": "x",
           "y": [
            0
           ],
           "yaxis": "y"
          },
          {
           "alignmentgroup": "True",
           "hovertemplate": "speaker=%{x}<br>Timestamp=01:20.000000<br>Cumulative Word Count=%{y}<extra></extra>",
           "legendgroup": "SPEAKER_02:",
           "marker": {
            "color": "#00cc96",
            "pattern": {
             "shape": ""
            }
           },
           "name": "SPEAKER_02:",
           "offsetgroup": "SPEAKER_02:",
           "orientation": "v",
           "showlegend": true,
           "textposition": "auto",
           "type": "bar",
           "x": [
            "SPEAKER_02:"
           ],
           "xaxis": "x",
           "y": [
            216
           ],
           "yaxis": "y"
          }
         ],
         "name": "01:20.000000"
        },
        {
         "data": [
          {
           "alignmentgroup": "True",
           "hovertemplate": "speaker=%{x}<br>Timestamp=01:22.040000<br>Cumulative Word Count=%{y}<extra></extra>",
           "legendgroup": "SPEAKER_00:",
           "marker": {
            "color": "#636efa",
            "pattern": {
             "shape": ""
            }
           },
           "name": "SPEAKER_00:",
           "offsetgroup": "SPEAKER_00:",
           "orientation": "v",
           "showlegend": true,
           "textposition": "auto",
           "type": "bar",
           "x": [
            "SPEAKER_00:"
           ],
           "xaxis": "x",
           "y": [
            51
           ],
           "yaxis": "y"
          },
          {
           "alignmentgroup": "True",
           "hovertemplate": "speaker=%{x}<br>Timestamp=01:22.040000<br>Cumulative Word Count=%{y}<extra></extra>",
           "legendgroup": "SPEAKER_01:",
           "marker": {
            "color": "#EF553B",
            "pattern": {
             "shape": ""
            }
           },
           "name": "SPEAKER_01:",
           "offsetgroup": "SPEAKER_01:",
           "orientation": "v",
           "showlegend": true,
           "textposition": "auto",
           "type": "bar",
           "x": [
            "SPEAKER_01:"
           ],
           "xaxis": "x",
           "y": [
            0
           ],
           "yaxis": "y"
          },
          {
           "alignmentgroup": "True",
           "hovertemplate": "speaker=%{x}<br>Timestamp=01:22.040000<br>Cumulative Word Count=%{y}<extra></extra>",
           "legendgroup": "SPEAKER_02:",
           "marker": {
            "color": "#00cc96",
            "pattern": {
             "shape": ""
            }
           },
           "name": "SPEAKER_02:",
           "offsetgroup": "SPEAKER_02:",
           "orientation": "v",
           "showlegend": true,
           "textposition": "auto",
           "type": "bar",
           "x": [
            "SPEAKER_02:"
           ],
           "xaxis": "x",
           "y": [
            225
           ],
           "yaxis": "y"
          }
         ],
         "name": "01:22.040000"
        },
        {
         "data": [
          {
           "alignmentgroup": "True",
           "hovertemplate": "speaker=%{x}<br>Timestamp=01:24.330000<br>Cumulative Word Count=%{y}<extra></extra>",
           "legendgroup": "SPEAKER_00:",
           "marker": {
            "color": "#636efa",
            "pattern": {
             "shape": ""
            }
           },
           "name": "SPEAKER_00:",
           "offsetgroup": "SPEAKER_00:",
           "orientation": "v",
           "showlegend": true,
           "textposition": "auto",
           "type": "bar",
           "x": [
            "SPEAKER_00:"
           ],
           "xaxis": "x",
           "y": [
            51
           ],
           "yaxis": "y"
          },
          {
           "alignmentgroup": "True",
           "hovertemplate": "speaker=%{x}<br>Timestamp=01:24.330000<br>Cumulative Word Count=%{y}<extra></extra>",
           "legendgroup": "SPEAKER_01:",
           "marker": {
            "color": "#EF553B",
            "pattern": {
             "shape": ""
            }
           },
           "name": "SPEAKER_01:",
           "offsetgroup": "SPEAKER_01:",
           "orientation": "v",
           "showlegend": true,
           "textposition": "auto",
           "type": "bar",
           "x": [
            "SPEAKER_01:"
           ],
           "xaxis": "x",
           "y": [
            0
           ],
           "yaxis": "y"
          },
          {
           "alignmentgroup": "True",
           "hovertemplate": "speaker=%{x}<br>Timestamp=01:24.330000<br>Cumulative Word Count=%{y}<extra></extra>",
           "legendgroup": "SPEAKER_02:",
           "marker": {
            "color": "#00cc96",
            "pattern": {
             "shape": ""
            }
           },
           "name": "SPEAKER_02:",
           "offsetgroup": "SPEAKER_02:",
           "orientation": "v",
           "showlegend": true,
           "textposition": "auto",
           "type": "bar",
           "x": [
            "SPEAKER_02:"
           ],
           "xaxis": "x",
           "y": [
            231
           ],
           "yaxis": "y"
          }
         ],
         "name": "01:24.330000"
        },
        {
         "data": [
          {
           "alignmentgroup": "True",
           "hovertemplate": "speaker=%{x}<br>Timestamp=01:25.840000<br>Cumulative Word Count=%{y}<extra></extra>",
           "legendgroup": "SPEAKER_00:",
           "marker": {
            "color": "#636efa",
            "pattern": {
             "shape": ""
            }
           },
           "name": "SPEAKER_00:",
           "offsetgroup": "SPEAKER_00:",
           "orientation": "v",
           "showlegend": true,
           "textposition": "auto",
           "type": "bar",
           "x": [
            "SPEAKER_00:"
           ],
           "xaxis": "x",
           "y": [
            51
           ],
           "yaxis": "y"
          },
          {
           "alignmentgroup": "True",
           "hovertemplate": "speaker=%{x}<br>Timestamp=01:25.840000<br>Cumulative Word Count=%{y}<extra></extra>",
           "legendgroup": "SPEAKER_01:",
           "marker": {
            "color": "#EF553B",
            "pattern": {
             "shape": ""
            }
           },
           "name": "SPEAKER_01:",
           "offsetgroup": "SPEAKER_01:",
           "orientation": "v",
           "showlegend": true,
           "textposition": "auto",
           "type": "bar",
           "x": [
            "SPEAKER_01:"
           ],
           "xaxis": "x",
           "y": [
            0
           ],
           "yaxis": "y"
          },
          {
           "alignmentgroup": "True",
           "hovertemplate": "speaker=%{x}<br>Timestamp=01:25.840000<br>Cumulative Word Count=%{y}<extra></extra>",
           "legendgroup": "SPEAKER_02:",
           "marker": {
            "color": "#00cc96",
            "pattern": {
             "shape": ""
            }
           },
           "name": "SPEAKER_02:",
           "offsetgroup": "SPEAKER_02:",
           "orientation": "v",
           "showlegend": true,
           "textposition": "auto",
           "type": "bar",
           "x": [
            "SPEAKER_02:"
           ],
           "xaxis": "x",
           "y": [
            241
           ],
           "yaxis": "y"
          }
         ],
         "name": "01:25.840000"
        },
        {
         "data": [
          {
           "alignmentgroup": "True",
           "hovertemplate": "speaker=%{x}<br>Timestamp=01:29.260000<br>Cumulative Word Count=%{y}<extra></extra>",
           "legendgroup": "SPEAKER_00:",
           "marker": {
            "color": "#636efa",
            "pattern": {
             "shape": ""
            }
           },
           "name": "SPEAKER_00:",
           "offsetgroup": "SPEAKER_00:",
           "orientation": "v",
           "showlegend": true,
           "textposition": "auto",
           "type": "bar",
           "x": [
            "SPEAKER_00:"
           ],
           "xaxis": "x",
           "y": [
            51
           ],
           "yaxis": "y"
          },
          {
           "alignmentgroup": "True",
           "hovertemplate": "speaker=%{x}<br>Timestamp=01:29.260000<br>Cumulative Word Count=%{y}<extra></extra>",
           "legendgroup": "SPEAKER_01:",
           "marker": {
            "color": "#EF553B",
            "pattern": {
             "shape": ""
            }
           },
           "name": "SPEAKER_01:",
           "offsetgroup": "SPEAKER_01:",
           "orientation": "v",
           "showlegend": true,
           "textposition": "auto",
           "type": "bar",
           "x": [
            "SPEAKER_01:"
           ],
           "xaxis": "x",
           "y": [
            0
           ],
           "yaxis": "y"
          },
          {
           "alignmentgroup": "True",
           "hovertemplate": "speaker=%{x}<br>Timestamp=01:29.260000<br>Cumulative Word Count=%{y}<extra></extra>",
           "legendgroup": "SPEAKER_02:",
           "marker": {
            "color": "#00cc96",
            "pattern": {
             "shape": ""
            }
           },
           "name": "SPEAKER_02:",
           "offsetgroup": "SPEAKER_02:",
           "orientation": "v",
           "showlegend": true,
           "textposition": "auto",
           "type": "bar",
           "x": [
            "SPEAKER_02:"
           ],
           "xaxis": "x",
           "y": [
            250
           ],
           "yaxis": "y"
          }
         ],
         "name": "01:29.260000"
        },
        {
         "data": [
          {
           "alignmentgroup": "True",
           "hovertemplate": "speaker=%{x}<br>Timestamp=01:31.680000<br>Cumulative Word Count=%{y}<extra></extra>",
           "legendgroup": "SPEAKER_00:",
           "marker": {
            "color": "#636efa",
            "pattern": {
             "shape": ""
            }
           },
           "name": "SPEAKER_00:",
           "offsetgroup": "SPEAKER_00:",
           "orientation": "v",
           "showlegend": true,
           "textposition": "auto",
           "type": "bar",
           "x": [
            "SPEAKER_00:"
           ],
           "xaxis": "x",
           "y": [
            51
           ],
           "yaxis": "y"
          },
          {
           "alignmentgroup": "True",
           "hovertemplate": "speaker=%{x}<br>Timestamp=01:31.680000<br>Cumulative Word Count=%{y}<extra></extra>",
           "legendgroup": "SPEAKER_01:",
           "marker": {
            "color": "#EF553B",
            "pattern": {
             "shape": ""
            }
           },
           "name": "SPEAKER_01:",
           "offsetgroup": "SPEAKER_01:",
           "orientation": "v",
           "showlegend": true,
           "textposition": "auto",
           "type": "bar",
           "x": [
            "SPEAKER_01:"
           ],
           "xaxis": "x",
           "y": [
            0
           ],
           "yaxis": "y"
          },
          {
           "alignmentgroup": "True",
           "hovertemplate": "speaker=%{x}<br>Timestamp=01:31.680000<br>Cumulative Word Count=%{y}<extra></extra>",
           "legendgroup": "SPEAKER_02:",
           "marker": {
            "color": "#00cc96",
            "pattern": {
             "shape": ""
            }
           },
           "name": "SPEAKER_02:",
           "offsetgroup": "SPEAKER_02:",
           "orientation": "v",
           "showlegend": true,
           "textposition": "auto",
           "type": "bar",
           "x": [
            "SPEAKER_02:"
           ],
           "xaxis": "x",
           "y": [
            257
           ],
           "yaxis": "y"
          }
         ],
         "name": "01:31.680000"
        },
        {
         "data": [
          {
           "alignmentgroup": "True",
           "hovertemplate": "speaker=%{x}<br>Timestamp=01:34.940000<br>Cumulative Word Count=%{y}<extra></extra>",
           "legendgroup": "SPEAKER_00:",
           "marker": {
            "color": "#636efa",
            "pattern": {
             "shape": ""
            }
           },
           "name": "SPEAKER_00:",
           "offsetgroup": "SPEAKER_00:",
           "orientation": "v",
           "showlegend": true,
           "textposition": "auto",
           "type": "bar",
           "x": [
            "SPEAKER_00:"
           ],
           "xaxis": "x",
           "y": [
            51
           ],
           "yaxis": "y"
          },
          {
           "alignmentgroup": "True",
           "hovertemplate": "speaker=%{x}<br>Timestamp=01:34.940000<br>Cumulative Word Count=%{y}<extra></extra>",
           "legendgroup": "SPEAKER_01:",
           "marker": {
            "color": "#EF553B",
            "pattern": {
             "shape": ""
            }
           },
           "name": "SPEAKER_01:",
           "offsetgroup": "SPEAKER_01:",
           "orientation": "v",
           "showlegend": true,
           "textposition": "auto",
           "type": "bar",
           "x": [
            "SPEAKER_01:"
           ],
           "xaxis": "x",
           "y": [
            0
           ],
           "yaxis": "y"
          },
          {
           "alignmentgroup": "True",
           "hovertemplate": "speaker=%{x}<br>Timestamp=01:34.940000<br>Cumulative Word Count=%{y}<extra></extra>",
           "legendgroup": "SPEAKER_02:",
           "marker": {
            "color": "#00cc96",
            "pattern": {
             "shape": ""
            }
           },
           "name": "SPEAKER_02:",
           "offsetgroup": "SPEAKER_02:",
           "orientation": "v",
           "showlegend": true,
           "textposition": "auto",
           "type": "bar",
           "x": [
            "SPEAKER_02:"
           ],
           "xaxis": "x",
           "y": [
            261
           ],
           "yaxis": "y"
          }
         ],
         "name": "01:34.940000"
        },
        {
         "data": [
          {
           "alignmentgroup": "True",
           "hovertemplate": "speaker=%{x}<br>Timestamp=01:36.700000<br>Cumulative Word Count=%{y}<extra></extra>",
           "legendgroup": "SPEAKER_00:",
           "marker": {
            "color": "#636efa",
            "pattern": {
             "shape": ""
            }
           },
           "name": "SPEAKER_00:",
           "offsetgroup": "SPEAKER_00:",
           "orientation": "v",
           "showlegend": true,
           "textposition": "auto",
           "type": "bar",
           "x": [
            "SPEAKER_00:"
           ],
           "xaxis": "x",
           "y": [
            51
           ],
           "yaxis": "y"
          },
          {
           "alignmentgroup": "True",
           "hovertemplate": "speaker=%{x}<br>Timestamp=01:36.700000<br>Cumulative Word Count=%{y}<extra></extra>",
           "legendgroup": "SPEAKER_01:",
           "marker": {
            "color": "#EF553B",
            "pattern": {
             "shape": ""
            }
           },
           "name": "SPEAKER_01:",
           "offsetgroup": "SPEAKER_01:",
           "orientation": "v",
           "showlegend": true,
           "textposition": "auto",
           "type": "bar",
           "x": [
            "SPEAKER_01:"
           ],
           "xaxis": "x",
           "y": [
            0
           ],
           "yaxis": "y"
          },
          {
           "alignmentgroup": "True",
           "hovertemplate": "speaker=%{x}<br>Timestamp=01:36.700000<br>Cumulative Word Count=%{y}<extra></extra>",
           "legendgroup": "SPEAKER_02:",
           "marker": {
            "color": "#00cc96",
            "pattern": {
             "shape": ""
            }
           },
           "name": "SPEAKER_02:",
           "offsetgroup": "SPEAKER_02:",
           "orientation": "v",
           "showlegend": true,
           "textposition": "auto",
           "type": "bar",
           "x": [
            "SPEAKER_02:"
           ],
           "xaxis": "x",
           "y": [
            267
           ],
           "yaxis": "y"
          }
         ],
         "name": "01:36.700000"
        },
        {
         "data": [
          {
           "alignmentgroup": "True",
           "hovertemplate": "speaker=%{x}<br>Timestamp=01:38.760000<br>Cumulative Word Count=%{y}<extra></extra>",
           "legendgroup": "SPEAKER_00:",
           "marker": {
            "color": "#636efa",
            "pattern": {
             "shape": ""
            }
           },
           "name": "SPEAKER_00:",
           "offsetgroup": "SPEAKER_00:",
           "orientation": "v",
           "showlegend": true,
           "textposition": "auto",
           "type": "bar",
           "x": [
            "SPEAKER_00:"
           ],
           "xaxis": "x",
           "y": [
            51
           ],
           "yaxis": "y"
          },
          {
           "alignmentgroup": "True",
           "hovertemplate": "speaker=%{x}<br>Timestamp=01:38.760000<br>Cumulative Word Count=%{y}<extra></extra>",
           "legendgroup": "SPEAKER_01:",
           "marker": {
            "color": "#EF553B",
            "pattern": {
             "shape": ""
            }
           },
           "name": "SPEAKER_01:",
           "offsetgroup": "SPEAKER_01:",
           "orientation": "v",
           "showlegend": true,
           "textposition": "auto",
           "type": "bar",
           "x": [
            "SPEAKER_01:"
           ],
           "xaxis": "x",
           "y": [
            6
           ],
           "yaxis": "y"
          },
          {
           "alignmentgroup": "True",
           "hovertemplate": "speaker=%{x}<br>Timestamp=01:38.760000<br>Cumulative Word Count=%{y}<extra></extra>",
           "legendgroup": "SPEAKER_02:",
           "marker": {
            "color": "#00cc96",
            "pattern": {
             "shape": ""
            }
           },
           "name": "SPEAKER_02:",
           "offsetgroup": "SPEAKER_02:",
           "orientation": "v",
           "showlegend": true,
           "textposition": "auto",
           "type": "bar",
           "x": [
            "SPEAKER_02:"
           ],
           "xaxis": "x",
           "y": [
            267
           ],
           "yaxis": "y"
          }
         ],
         "name": "01:38.760000"
        },
        {
         "data": [
          {
           "alignmentgroup": "True",
           "hovertemplate": "speaker=%{x}<br>Timestamp=01:40.100000<br>Cumulative Word Count=%{y}<extra></extra>",
           "legendgroup": "SPEAKER_00:",
           "marker": {
            "color": "#636efa",
            "pattern": {
             "shape": ""
            }
           },
           "name": "SPEAKER_00:",
           "offsetgroup": "SPEAKER_00:",
           "orientation": "v",
           "showlegend": true,
           "textposition": "auto",
           "type": "bar",
           "x": [
            "SPEAKER_00:"
           ],
           "xaxis": "x",
           "y": [
            51
           ],
           "yaxis": "y"
          },
          {
           "alignmentgroup": "True",
           "hovertemplate": "speaker=%{x}<br>Timestamp=01:40.100000<br>Cumulative Word Count=%{y}<extra></extra>",
           "legendgroup": "SPEAKER_01:",
           "marker": {
            "color": "#EF553B",
            "pattern": {
             "shape": ""
            }
           },
           "name": "SPEAKER_01:",
           "offsetgroup": "SPEAKER_01:",
           "orientation": "v",
           "showlegend": true,
           "textposition": "auto",
           "type": "bar",
           "x": [
            "SPEAKER_01:"
           ],
           "xaxis": "x",
           "y": [
            10
           ],
           "yaxis": "y"
          },
          {
           "alignmentgroup": "True",
           "hovertemplate": "speaker=%{x}<br>Timestamp=01:40.100000<br>Cumulative Word Count=%{y}<extra></extra>",
           "legendgroup": "SPEAKER_02:",
           "marker": {
            "color": "#00cc96",
            "pattern": {
             "shape": ""
            }
           },
           "name": "SPEAKER_02:",
           "offsetgroup": "SPEAKER_02:",
           "orientation": "v",
           "showlegend": true,
           "textposition": "auto",
           "type": "bar",
           "x": [
            "SPEAKER_02:"
           ],
           "xaxis": "x",
           "y": [
            267
           ],
           "yaxis": "y"
          }
         ],
         "name": "01:40.100000"
        },
        {
         "data": [
          {
           "alignmentgroup": "True",
           "hovertemplate": "speaker=%{x}<br>Timestamp=01:40.640000<br>Cumulative Word Count=%{y}<extra></extra>",
           "legendgroup": "SPEAKER_00:",
           "marker": {
            "color": "#636efa",
            "pattern": {
             "shape": ""
            }
           },
           "name": "SPEAKER_00:",
           "offsetgroup": "SPEAKER_00:",
           "orientation": "v",
           "showlegend": true,
           "textposition": "auto",
           "type": "bar",
           "x": [
            "SPEAKER_00:"
           ],
           "xaxis": "x",
           "y": [
            51
           ],
           "yaxis": "y"
          },
          {
           "alignmentgroup": "True",
           "hovertemplate": "speaker=%{x}<br>Timestamp=01:40.640000<br>Cumulative Word Count=%{y}<extra></extra>",
           "legendgroup": "SPEAKER_01:",
           "marker": {
            "color": "#EF553B",
            "pattern": {
             "shape": ""
            }
           },
           "name": "SPEAKER_01:",
           "offsetgroup": "SPEAKER_01:",
           "orientation": "v",
           "showlegend": true,
           "textposition": "auto",
           "type": "bar",
           "x": [
            "SPEAKER_01:"
           ],
           "xaxis": "x",
           "y": [
            14
           ],
           "yaxis": "y"
          },
          {
           "alignmentgroup": "True",
           "hovertemplate": "speaker=%{x}<br>Timestamp=01:40.640000<br>Cumulative Word Count=%{y}<extra></extra>",
           "legendgroup": "SPEAKER_02:",
           "marker": {
            "color": "#00cc96",
            "pattern": {
             "shape": ""
            }
           },
           "name": "SPEAKER_02:",
           "offsetgroup": "SPEAKER_02:",
           "orientation": "v",
           "showlegend": true,
           "textposition": "auto",
           "type": "bar",
           "x": [
            "SPEAKER_02:"
           ],
           "xaxis": "x",
           "y": [
            267
           ],
           "yaxis": "y"
          }
         ],
         "name": "01:40.640000"
        },
        {
         "data": [
          {
           "alignmentgroup": "True",
           "hovertemplate": "speaker=%{x}<br>Timestamp=01:43.040000<br>Cumulative Word Count=%{y}<extra></extra>",
           "legendgroup": "SPEAKER_00:",
           "marker": {
            "color": "#636efa",
            "pattern": {
             "shape": ""
            }
           },
           "name": "SPEAKER_00:",
           "offsetgroup": "SPEAKER_00:",
           "orientation": "v",
           "showlegend": true,
           "textposition": "auto",
           "type": "bar",
           "x": [
            "SPEAKER_00:"
           ],
           "xaxis": "x",
           "y": [
            51
           ],
           "yaxis": "y"
          },
          {
           "alignmentgroup": "True",
           "hovertemplate": "speaker=%{x}<br>Timestamp=01:43.040000<br>Cumulative Word Count=%{y}<extra></extra>",
           "legendgroup": "SPEAKER_01:",
           "marker": {
            "color": "#EF553B",
            "pattern": {
             "shape": ""
            }
           },
           "name": "SPEAKER_01:",
           "offsetgroup": "SPEAKER_01:",
           "orientation": "v",
           "showlegend": true,
           "textposition": "auto",
           "type": "bar",
           "x": [
            "SPEAKER_01:"
           ],
           "xaxis": "x",
           "y": [
            25
           ],
           "yaxis": "y"
          },
          {
           "alignmentgroup": "True",
           "hovertemplate": "speaker=%{x}<br>Timestamp=01:43.040000<br>Cumulative Word Count=%{y}<extra></extra>",
           "legendgroup": "SPEAKER_02:",
           "marker": {
            "color": "#00cc96",
            "pattern": {
             "shape": ""
            }
           },
           "name": "SPEAKER_02:",
           "offsetgroup": "SPEAKER_02:",
           "orientation": "v",
           "showlegend": true,
           "textposition": "auto",
           "type": "bar",
           "x": [
            "SPEAKER_02:"
           ],
           "xaxis": "x",
           "y": [
            267
           ],
           "yaxis": "y"
          }
         ],
         "name": "01:43.040000"
        },
        {
         "data": [
          {
           "alignmentgroup": "True",
           "hovertemplate": "speaker=%{x}<br>Timestamp=01:46.420000<br>Cumulative Word Count=%{y}<extra></extra>",
           "legendgroup": "SPEAKER_00:",
           "marker": {
            "color": "#636efa",
            "pattern": {
             "shape": ""
            }
           },
           "name": "SPEAKER_00:",
           "offsetgroup": "SPEAKER_00:",
           "orientation": "v",
           "showlegend": true,
           "textposition": "auto",
           "type": "bar",
           "x": [
            "SPEAKER_00:"
           ],
           "xaxis": "x",
           "y": [
            51
           ],
           "yaxis": "y"
          },
          {
           "alignmentgroup": "True",
           "hovertemplate": "speaker=%{x}<br>Timestamp=01:46.420000<br>Cumulative Word Count=%{y}<extra></extra>",
           "legendgroup": "SPEAKER_01:",
           "marker": {
            "color": "#EF553B",
            "pattern": {
             "shape": ""
            }
           },
           "name": "SPEAKER_01:",
           "offsetgroup": "SPEAKER_01:",
           "orientation": "v",
           "showlegend": true,
           "textposition": "auto",
           "type": "bar",
           "x": [
            "SPEAKER_01:"
           ],
           "xaxis": "x",
           "y": [
            32
           ],
           "yaxis": "y"
          },
          {
           "alignmentgroup": "True",
           "hovertemplate": "speaker=%{x}<br>Timestamp=01:46.420000<br>Cumulative Word Count=%{y}<extra></extra>",
           "legendgroup": "SPEAKER_02:",
           "marker": {
            "color": "#00cc96",
            "pattern": {
             "shape": ""
            }
           },
           "name": "SPEAKER_02:",
           "offsetgroup": "SPEAKER_02:",
           "orientation": "v",
           "showlegend": true,
           "textposition": "auto",
           "type": "bar",
           "x": [
            "SPEAKER_02:"
           ],
           "xaxis": "x",
           "y": [
            267
           ],
           "yaxis": "y"
          }
         ],
         "name": "01:46.420000"
        },
        {
         "data": [
          {
           "alignmentgroup": "True",
           "hovertemplate": "speaker=%{x}<br>Timestamp=01:47.630000<br>Cumulative Word Count=%{y}<extra></extra>",
           "legendgroup": "SPEAKER_00:",
           "marker": {
            "color": "#636efa",
            "pattern": {
             "shape": ""
            }
           },
           "name": "SPEAKER_00:",
           "offsetgroup": "SPEAKER_00:",
           "orientation": "v",
           "showlegend": true,
           "textposition": "auto",
           "type": "bar",
           "x": [
            "SPEAKER_00:"
           ],
           "xaxis": "x",
           "y": [
            51
           ],
           "yaxis": "y"
          },
          {
           "alignmentgroup": "True",
           "hovertemplate": "speaker=%{x}<br>Timestamp=01:47.630000<br>Cumulative Word Count=%{y}<extra></extra>",
           "legendgroup": "SPEAKER_01:",
           "marker": {
            "color": "#EF553B",
            "pattern": {
             "shape": ""
            }
           },
           "name": "SPEAKER_01:",
           "offsetgroup": "SPEAKER_01:",
           "orientation": "v",
           "showlegend": true,
           "textposition": "auto",
           "type": "bar",
           "x": [
            "SPEAKER_01:"
           ],
           "xaxis": "x",
           "y": [
            38
           ],
           "yaxis": "y"
          },
          {
           "alignmentgroup": "True",
           "hovertemplate": "speaker=%{x}<br>Timestamp=01:47.630000<br>Cumulative Word Count=%{y}<extra></extra>",
           "legendgroup": "SPEAKER_02:",
           "marker": {
            "color": "#00cc96",
            "pattern": {
             "shape": ""
            }
           },
           "name": "SPEAKER_02:",
           "offsetgroup": "SPEAKER_02:",
           "orientation": "v",
           "showlegend": true,
           "textposition": "auto",
           "type": "bar",
           "x": [
            "SPEAKER_02:"
           ],
           "xaxis": "x",
           "y": [
            267
           ],
           "yaxis": "y"
          }
         ],
         "name": "01:47.630000"
        },
        {
         "data": [
          {
           "alignmentgroup": "True",
           "hovertemplate": "speaker=%{x}<br>Timestamp=01:49.400000<br>Cumulative Word Count=%{y}<extra></extra>",
           "legendgroup": "SPEAKER_00:",
           "marker": {
            "color": "#636efa",
            "pattern": {
             "shape": ""
            }
           },
           "name": "SPEAKER_00:",
           "offsetgroup": "SPEAKER_00:",
           "orientation": "v",
           "showlegend": true,
           "textposition": "auto",
           "type": "bar",
           "x": [
            "SPEAKER_00:"
           ],
           "xaxis": "x",
           "y": [
            51
           ],
           "yaxis": "y"
          },
          {
           "alignmentgroup": "True",
           "hovertemplate": "speaker=%{x}<br>Timestamp=01:49.400000<br>Cumulative Word Count=%{y}<extra></extra>",
           "legendgroup": "SPEAKER_01:",
           "marker": {
            "color": "#EF553B",
            "pattern": {
             "shape": ""
            }
           },
           "name": "SPEAKER_01:",
           "offsetgroup": "SPEAKER_01:",
           "orientation": "v",
           "showlegend": true,
           "textposition": "auto",
           "type": "bar",
           "x": [
            "SPEAKER_01:"
           ],
           "xaxis": "x",
           "y": [
            38
           ],
           "yaxis": "y"
          },
          {
           "alignmentgroup": "True",
           "hovertemplate": "speaker=%{x}<br>Timestamp=01:49.400000<br>Cumulative Word Count=%{y}<extra></extra>",
           "legendgroup": "SPEAKER_02:",
           "marker": {
            "color": "#00cc96",
            "pattern": {
             "shape": ""
            }
           },
           "name": "SPEAKER_02:",
           "offsetgroup": "SPEAKER_02:",
           "orientation": "v",
           "showlegend": true,
           "textposition": "auto",
           "type": "bar",
           "x": [
            "SPEAKER_02:"
           ],
           "xaxis": "x",
           "y": [
            272
           ],
           "yaxis": "y"
          }
         ],
         "name": "01:49.400000"
        },
        {
         "data": [
          {
           "alignmentgroup": "True",
           "hovertemplate": "speaker=%{x}<br>Timestamp=01:50.240000<br>Cumulative Word Count=%{y}<extra></extra>",
           "legendgroup": "SPEAKER_00:",
           "marker": {
            "color": "#636efa",
            "pattern": {
             "shape": ""
            }
           },
           "name": "SPEAKER_00:",
           "offsetgroup": "SPEAKER_00:",
           "orientation": "v",
           "showlegend": true,
           "textposition": "auto",
           "type": "bar",
           "x": [
            "SPEAKER_00:"
           ],
           "xaxis": "x",
           "y": [
            51
           ],
           "yaxis": "y"
          },
          {
           "alignmentgroup": "True",
           "hovertemplate": "speaker=%{x}<br>Timestamp=01:50.240000<br>Cumulative Word Count=%{y}<extra></extra>",
           "legendgroup": "SPEAKER_01:",
           "marker": {
            "color": "#EF553B",
            "pattern": {
             "shape": ""
            }
           },
           "name": "SPEAKER_01:",
           "offsetgroup": "SPEAKER_01:",
           "orientation": "v",
           "showlegend": true,
           "textposition": "auto",
           "type": "bar",
           "x": [
            "SPEAKER_01:"
           ],
           "xaxis": "x",
           "y": [
            38
           ],
           "yaxis": "y"
          },
          {
           "alignmentgroup": "True",
           "hovertemplate": "speaker=%{x}<br>Timestamp=01:50.240000<br>Cumulative Word Count=%{y}<extra></extra>",
           "legendgroup": "SPEAKER_02:",
           "marker": {
            "color": "#00cc96",
            "pattern": {
             "shape": ""
            }
           },
           "name": "SPEAKER_02:",
           "offsetgroup": "SPEAKER_02:",
           "orientation": "v",
           "showlegend": true,
           "textposition": "auto",
           "type": "bar",
           "x": [
            "SPEAKER_02:"
           ],
           "xaxis": "x",
           "y": [
            278
           ],
           "yaxis": "y"
          }
         ],
         "name": "01:50.240000"
        },
        {
         "data": [
          {
           "alignmentgroup": "True",
           "hovertemplate": "speaker=%{x}<br>Timestamp=01:51.460000<br>Cumulative Word Count=%{y}<extra></extra>",
           "legendgroup": "SPEAKER_00:",
           "marker": {
            "color": "#636efa",
            "pattern": {
             "shape": ""
            }
           },
           "name": "SPEAKER_00:",
           "offsetgroup": "SPEAKER_00:",
           "orientation": "v",
           "showlegend": true,
           "textposition": "auto",
           "type": "bar",
           "x": [
            "SPEAKER_00:"
           ],
           "xaxis": "x",
           "y": [
            51
           ],
           "yaxis": "y"
          },
          {
           "alignmentgroup": "True",
           "hovertemplate": "speaker=%{x}<br>Timestamp=01:51.460000<br>Cumulative Word Count=%{y}<extra></extra>",
           "legendgroup": "SPEAKER_01:",
           "marker": {
            "color": "#EF553B",
            "pattern": {
             "shape": ""
            }
           },
           "name": "SPEAKER_01:",
           "offsetgroup": "SPEAKER_01:",
           "orientation": "v",
           "showlegend": true,
           "textposition": "auto",
           "type": "bar",
           "x": [
            "SPEAKER_01:"
           ],
           "xaxis": "x",
           "y": [
            38
           ],
           "yaxis": "y"
          },
          {
           "alignmentgroup": "True",
           "hovertemplate": "speaker=%{x}<br>Timestamp=01:51.460000<br>Cumulative Word Count=%{y}<extra></extra>",
           "legendgroup": "SPEAKER_02:",
           "marker": {
            "color": "#00cc96",
            "pattern": {
             "shape": ""
            }
           },
           "name": "SPEAKER_02:",
           "offsetgroup": "SPEAKER_02:",
           "orientation": "v",
           "showlegend": true,
           "textposition": "auto",
           "type": "bar",
           "x": [
            "SPEAKER_02:"
           ],
           "xaxis": "x",
           "y": [
            280
           ],
           "yaxis": "y"
          }
         ],
         "name": "01:51.460000"
        },
        {
         "data": [
          {
           "alignmentgroup": "True",
           "hovertemplate": "speaker=%{x}<br>Timestamp=01:52.120000<br>Cumulative Word Count=%{y}<extra></extra>",
           "legendgroup": "SPEAKER_00:",
           "marker": {
            "color": "#636efa",
            "pattern": {
             "shape": ""
            }
           },
           "name": "SPEAKER_00:",
           "offsetgroup": "SPEAKER_00:",
           "orientation": "v",
           "showlegend": true,
           "textposition": "auto",
           "type": "bar",
           "x": [
            "SPEAKER_00:"
           ],
           "xaxis": "x",
           "y": [
            51
           ],
           "yaxis": "y"
          },
          {
           "alignmentgroup": "True",
           "hovertemplate": "speaker=%{x}<br>Timestamp=01:52.120000<br>Cumulative Word Count=%{y}<extra></extra>",
           "legendgroup": "SPEAKER_01:",
           "marker": {
            "color": "#EF553B",
            "pattern": {
             "shape": ""
            }
           },
           "name": "SPEAKER_01:",
           "offsetgroup": "SPEAKER_01:",
           "orientation": "v",
           "showlegend": true,
           "textposition": "auto",
           "type": "bar",
           "x": [
            "SPEAKER_01:"
           ],
           "xaxis": "x",
           "y": [
            38
           ],
           "yaxis": "y"
          },
          {
           "alignmentgroup": "True",
           "hovertemplate": "speaker=%{x}<br>Timestamp=01:52.120000<br>Cumulative Word Count=%{y}<extra></extra>",
           "legendgroup": "SPEAKER_02:",
           "marker": {
            "color": "#00cc96",
            "pattern": {
             "shape": ""
            }
           },
           "name": "SPEAKER_02:",
           "offsetgroup": "SPEAKER_02:",
           "orientation": "v",
           "showlegend": true,
           "textposition": "auto",
           "type": "bar",
           "x": [
            "SPEAKER_02:"
           ],
           "xaxis": "x",
           "y": [
            286
           ],
           "yaxis": "y"
          }
         ],
         "name": "01:52.120000"
        },
        {
         "data": [
          {
           "alignmentgroup": "True",
           "hovertemplate": "speaker=%{x}<br>Timestamp=01:53.360000<br>Cumulative Word Count=%{y}<extra></extra>",
           "legendgroup": "SPEAKER_00:",
           "marker": {
            "color": "#636efa",
            "pattern": {
             "shape": ""
            }
           },
           "name": "SPEAKER_00:",
           "offsetgroup": "SPEAKER_00:",
           "orientation": "v",
           "showlegend": true,
           "textposition": "auto",
           "type": "bar",
           "x": [
            "SPEAKER_00:"
           ],
           "xaxis": "x",
           "y": [
            51
           ],
           "yaxis": "y"
          },
          {
           "alignmentgroup": "True",
           "hovertemplate": "speaker=%{x}<br>Timestamp=01:53.360000<br>Cumulative Word Count=%{y}<extra></extra>",
           "legendgroup": "SPEAKER_01:",
           "marker": {
            "color": "#EF553B",
            "pattern": {
             "shape": ""
            }
           },
           "name": "SPEAKER_01:",
           "offsetgroup": "SPEAKER_01:",
           "orientation": "v",
           "showlegend": true,
           "textposition": "auto",
           "type": "bar",
           "x": [
            "SPEAKER_01:"
           ],
           "xaxis": "x",
           "y": [
            38
           ],
           "yaxis": "y"
          },
          {
           "alignmentgroup": "True",
           "hovertemplate": "speaker=%{x}<br>Timestamp=01:53.360000<br>Cumulative Word Count=%{y}<extra></extra>",
           "legendgroup": "SPEAKER_02:",
           "marker": {
            "color": "#00cc96",
            "pattern": {
             "shape": ""
            }
           },
           "name": "SPEAKER_02:",
           "offsetgroup": "SPEAKER_02:",
           "orientation": "v",
           "showlegend": true,
           "textposition": "auto",
           "type": "bar",
           "x": [
            "SPEAKER_02:"
           ],
           "xaxis": "x",
           "y": [
            295
           ],
           "yaxis": "y"
          }
         ],
         "name": "01:53.360000"
        },
        {
         "data": [
          {
           "alignmentgroup": "True",
           "hovertemplate": "speaker=%{x}<br>Timestamp=01:55.120000<br>Cumulative Word Count=%{y}<extra></extra>",
           "legendgroup": "SPEAKER_00:",
           "marker": {
            "color": "#636efa",
            "pattern": {
             "shape": ""
            }
           },
           "name": "SPEAKER_00:",
           "offsetgroup": "SPEAKER_00:",
           "orientation": "v",
           "showlegend": true,
           "textposition": "auto",
           "type": "bar",
           "x": [
            "SPEAKER_00:"
           ],
           "xaxis": "x",
           "y": [
            51
           ],
           "yaxis": "y"
          },
          {
           "alignmentgroup": "True",
           "hovertemplate": "speaker=%{x}<br>Timestamp=01:55.120000<br>Cumulative Word Count=%{y}<extra></extra>",
           "legendgroup": "SPEAKER_01:",
           "marker": {
            "color": "#EF553B",
            "pattern": {
             "shape": ""
            }
           },
           "name": "SPEAKER_01:",
           "offsetgroup": "SPEAKER_01:",
           "orientation": "v",
           "showlegend": true,
           "textposition": "auto",
           "type": "bar",
           "x": [
            "SPEAKER_01:"
           ],
           "xaxis": "x",
           "y": [
            38
           ],
           "yaxis": "y"
          },
          {
           "alignmentgroup": "True",
           "hovertemplate": "speaker=%{x}<br>Timestamp=01:55.120000<br>Cumulative Word Count=%{y}<extra></extra>",
           "legendgroup": "SPEAKER_02:",
           "marker": {
            "color": "#00cc96",
            "pattern": {
             "shape": ""
            }
           },
           "name": "SPEAKER_02:",
           "offsetgroup": "SPEAKER_02:",
           "orientation": "v",
           "showlegend": true,
           "textposition": "auto",
           "type": "bar",
           "x": [
            "SPEAKER_02:"
           ],
           "xaxis": "x",
           "y": [
            299
           ],
           "yaxis": "y"
          }
         ],
         "name": "01:55.120000"
        },
        {
         "data": [
          {
           "alignmentgroup": "True",
           "hovertemplate": "speaker=%{x}<br>Timestamp=01:56.400000<br>Cumulative Word Count=%{y}<extra></extra>",
           "legendgroup": "SPEAKER_00:",
           "marker": {
            "color": "#636efa",
            "pattern": {
             "shape": ""
            }
           },
           "name": "SPEAKER_00:",
           "offsetgroup": "SPEAKER_00:",
           "orientation": "v",
           "showlegend": true,
           "textposition": "auto",
           "type": "bar",
           "x": [
            "SPEAKER_00:"
           ],
           "xaxis": "x",
           "y": [
            51
           ],
           "yaxis": "y"
          },
          {
           "alignmentgroup": "True",
           "hovertemplate": "speaker=%{x}<br>Timestamp=01:56.400000<br>Cumulative Word Count=%{y}<extra></extra>",
           "legendgroup": "SPEAKER_01:",
           "marker": {
            "color": "#EF553B",
            "pattern": {
             "shape": ""
            }
           },
           "name": "SPEAKER_01:",
           "offsetgroup": "SPEAKER_01:",
           "orientation": "v",
           "showlegend": true,
           "textposition": "auto",
           "type": "bar",
           "x": [
            "SPEAKER_01:"
           ],
           "xaxis": "x",
           "y": [
            38
           ],
           "yaxis": "y"
          },
          {
           "alignmentgroup": "True",
           "hovertemplate": "speaker=%{x}<br>Timestamp=01:56.400000<br>Cumulative Word Count=%{y}<extra></extra>",
           "legendgroup": "SPEAKER_02:",
           "marker": {
            "color": "#00cc96",
            "pattern": {
             "shape": ""
            }
           },
           "name": "SPEAKER_02:",
           "offsetgroup": "SPEAKER_02:",
           "orientation": "v",
           "showlegend": true,
           "textposition": "auto",
           "type": "bar",
           "x": [
            "SPEAKER_02:"
           ],
           "xaxis": "x",
           "y": [
            307
           ],
           "yaxis": "y"
          }
         ],
         "name": "01:56.400000"
        },
        {
         "data": [
          {
           "alignmentgroup": "True",
           "hovertemplate": "speaker=%{x}<br>Timestamp=01:59.160000<br>Cumulative Word Count=%{y}<extra></extra>",
           "legendgroup": "SPEAKER_00:",
           "marker": {
            "color": "#636efa",
            "pattern": {
             "shape": ""
            }
           },
           "name": "SPEAKER_00:",
           "offsetgroup": "SPEAKER_00:",
           "orientation": "v",
           "showlegend": true,
           "textposition": "auto",
           "type": "bar",
           "x": [
            "SPEAKER_00:"
           ],
           "xaxis": "x",
           "y": [
            51
           ],
           "yaxis": "y"
          },
          {
           "alignmentgroup": "True",
           "hovertemplate": "speaker=%{x}<br>Timestamp=01:59.160000<br>Cumulative Word Count=%{y}<extra></extra>",
           "legendgroup": "SPEAKER_01:",
           "marker": {
            "color": "#EF553B",
            "pattern": {
             "shape": ""
            }
           },
           "name": "SPEAKER_01:",
           "offsetgroup": "SPEAKER_01:",
           "orientation": "v",
           "showlegend": true,
           "textposition": "auto",
           "type": "bar",
           "x": [
            "SPEAKER_01:"
           ],
           "xaxis": "x",
           "y": [
            38
           ],
           "yaxis": "y"
          },
          {
           "alignmentgroup": "True",
           "hovertemplate": "speaker=%{x}<br>Timestamp=01:59.160000<br>Cumulative Word Count=%{y}<extra></extra>",
           "legendgroup": "SPEAKER_02:",
           "marker": {
            "color": "#00cc96",
            "pattern": {
             "shape": ""
            }
           },
           "name": "SPEAKER_02:",
           "offsetgroup": "SPEAKER_02:",
           "orientation": "v",
           "showlegend": true,
           "textposition": "auto",
           "type": "bar",
           "x": [
            "SPEAKER_02:"
           ],
           "xaxis": "x",
           "y": [
            310
           ],
           "yaxis": "y"
          }
         ],
         "name": "01:59.160000"
        },
        {
         "data": [
          {
           "alignmentgroup": "True",
           "hovertemplate": "speaker=%{x}<br>Timestamp=02:00.050000<br>Cumulative Word Count=%{y}<extra></extra>",
           "legendgroup": "SPEAKER_00:",
           "marker": {
            "color": "#636efa",
            "pattern": {
             "shape": ""
            }
           },
           "name": "SPEAKER_00:",
           "offsetgroup": "SPEAKER_00:",
           "orientation": "v",
           "showlegend": true,
           "textposition": "auto",
           "type": "bar",
           "x": [
            "SPEAKER_00:"
           ],
           "xaxis": "x",
           "y": [
            51
           ],
           "yaxis": "y"
          },
          {
           "alignmentgroup": "True",
           "hovertemplate": "speaker=%{x}<br>Timestamp=02:00.050000<br>Cumulative Word Count=%{y}<extra></extra>",
           "legendgroup": "SPEAKER_01:",
           "marker": {
            "color": "#EF553B",
            "pattern": {
             "shape": ""
            }
           },
           "name": "SPEAKER_01:",
           "offsetgroup": "SPEAKER_01:",
           "orientation": "v",
           "showlegend": true,
           "textposition": "auto",
           "type": "bar",
           "x": [
            "SPEAKER_01:"
           ],
           "xaxis": "x",
           "y": [
            38
           ],
           "yaxis": "y"
          },
          {
           "alignmentgroup": "True",
           "hovertemplate": "speaker=%{x}<br>Timestamp=02:00.050000<br>Cumulative Word Count=%{y}<extra></extra>",
           "legendgroup": "SPEAKER_02:",
           "marker": {
            "color": "#00cc96",
            "pattern": {
             "shape": ""
            }
           },
           "name": "SPEAKER_02:",
           "offsetgroup": "SPEAKER_02:",
           "orientation": "v",
           "showlegend": true,
           "textposition": "auto",
           "type": "bar",
           "x": [
            "SPEAKER_02:"
           ],
           "xaxis": "x",
           "y": [
            320
           ],
           "yaxis": "y"
          }
         ],
         "name": "02:00.050000"
        },
        {
         "data": [
          {
           "alignmentgroup": "True",
           "hovertemplate": "speaker=%{x}<br>Timestamp=02:02.920000<br>Cumulative Word Count=%{y}<extra></extra>",
           "legendgroup": "SPEAKER_00:",
           "marker": {
            "color": "#636efa",
            "pattern": {
             "shape": ""
            }
           },
           "name": "SPEAKER_00:",
           "offsetgroup": "SPEAKER_00:",
           "orientation": "v",
           "showlegend": true,
           "textposition": "auto",
           "type": "bar",
           "x": [
            "SPEAKER_00:"
           ],
           "xaxis": "x",
           "y": [
            51
           ],
           "yaxis": "y"
          },
          {
           "alignmentgroup": "True",
           "hovertemplate": "speaker=%{x}<br>Timestamp=02:02.920000<br>Cumulative Word Count=%{y}<extra></extra>",
           "legendgroup": "SPEAKER_01:",
           "marker": {
            "color": "#EF553B",
            "pattern": {
             "shape": ""
            }
           },
           "name": "SPEAKER_01:",
           "offsetgroup": "SPEAKER_01:",
           "orientation": "v",
           "showlegend": true,
           "textposition": "auto",
           "type": "bar",
           "x": [
            "SPEAKER_01:"
           ],
           "xaxis": "x",
           "y": [
            38
           ],
           "yaxis": "y"
          },
          {
           "alignmentgroup": "True",
           "hovertemplate": "speaker=%{x}<br>Timestamp=02:02.920000<br>Cumulative Word Count=%{y}<extra></extra>",
           "legendgroup": "SPEAKER_02:",
           "marker": {
            "color": "#00cc96",
            "pattern": {
             "shape": ""
            }
           },
           "name": "SPEAKER_02:",
           "offsetgroup": "SPEAKER_02:",
           "orientation": "v",
           "showlegend": true,
           "textposition": "auto",
           "type": "bar",
           "x": [
            "SPEAKER_02:"
           ],
           "xaxis": "x",
           "y": [
            332
           ],
           "yaxis": "y"
          }
         ],
         "name": "02:02.920000"
        },
        {
         "data": [
          {
           "alignmentgroup": "True",
           "hovertemplate": "speaker=%{x}<br>Timestamp=02:05.500000<br>Cumulative Word Count=%{y}<extra></extra>",
           "legendgroup": "SPEAKER_00:",
           "marker": {
            "color": "#636efa",
            "pattern": {
             "shape": ""
            }
           },
           "name": "SPEAKER_00:",
           "offsetgroup": "SPEAKER_00:",
           "orientation": "v",
           "showlegend": true,
           "textposition": "auto",
           "type": "bar",
           "x": [
            "SPEAKER_00:"
           ],
           "xaxis": "x",
           "y": [
            51
           ],
           "yaxis": "y"
          },
          {
           "alignmentgroup": "True",
           "hovertemplate": "speaker=%{x}<br>Timestamp=02:05.500000<br>Cumulative Word Count=%{y}<extra></extra>",
           "legendgroup": "SPEAKER_01:",
           "marker": {
            "color": "#EF553B",
            "pattern": {
             "shape": ""
            }
           },
           "name": "SPEAKER_01:",
           "offsetgroup": "SPEAKER_01:",
           "orientation": "v",
           "showlegend": true,
           "textposition": "auto",
           "type": "bar",
           "x": [
            "SPEAKER_01:"
           ],
           "xaxis": "x",
           "y": [
            38
           ],
           "yaxis": "y"
          },
          {
           "alignmentgroup": "True",
           "hovertemplate": "speaker=%{x}<br>Timestamp=02:05.500000<br>Cumulative Word Count=%{y}<extra></extra>",
           "legendgroup": "SPEAKER_02:",
           "marker": {
            "color": "#00cc96",
            "pattern": {
             "shape": ""
            }
           },
           "name": "SPEAKER_02:",
           "offsetgroup": "SPEAKER_02:",
           "orientation": "v",
           "showlegend": true,
           "textposition": "auto",
           "type": "bar",
           "x": [
            "SPEAKER_02:"
           ],
           "xaxis": "x",
           "y": [
            340
           ],
           "yaxis": "y"
          }
         ],
         "name": "02:05.500000"
        },
        {
         "data": [
          {
           "alignmentgroup": "True",
           "hovertemplate": "speaker=%{x}<br>Timestamp=02:08.600000<br>Cumulative Word Count=%{y}<extra></extra>",
           "legendgroup": "SPEAKER_00:",
           "marker": {
            "color": "#636efa",
            "pattern": {
             "shape": ""
            }
           },
           "name": "SPEAKER_00:",
           "offsetgroup": "SPEAKER_00:",
           "orientation": "v",
           "showlegend": true,
           "textposition": "auto",
           "type": "bar",
           "x": [
            "SPEAKER_00:"
           ],
           "xaxis": "x",
           "y": [
            51
           ],
           "yaxis": "y"
          },
          {
           "alignmentgroup": "True",
           "hovertemplate": "speaker=%{x}<br>Timestamp=02:08.600000<br>Cumulative Word Count=%{y}<extra></extra>",
           "legendgroup": "SPEAKER_01:",
           "marker": {
            "color": "#EF553B",
            "pattern": {
             "shape": ""
            }
           },
           "name": "SPEAKER_01:",
           "offsetgroup": "SPEAKER_01:",
           "orientation": "v",
           "showlegend": true,
           "textposition": "auto",
           "type": "bar",
           "x": [
            "SPEAKER_01:"
           ],
           "xaxis": "x",
           "y": [
            38
           ],
           "yaxis": "y"
          },
          {
           "alignmentgroup": "True",
           "hovertemplate": "speaker=%{x}<br>Timestamp=02:08.600000<br>Cumulative Word Count=%{y}<extra></extra>",
           "legendgroup": "SPEAKER_02:",
           "marker": {
            "color": "#00cc96",
            "pattern": {
             "shape": ""
            }
           },
           "name": "SPEAKER_02:",
           "offsetgroup": "SPEAKER_02:",
           "orientation": "v",
           "showlegend": true,
           "textposition": "auto",
           "type": "bar",
           "x": [
            "SPEAKER_02:"
           ],
           "xaxis": "x",
           "y": [
            351
           ],
           "yaxis": "y"
          }
         ],
         "name": "02:08.600000"
        },
        {
         "data": [
          {
           "alignmentgroup": "True",
           "hovertemplate": "speaker=%{x}<br>Timestamp=02:11.760000<br>Cumulative Word Count=%{y}<extra></extra>",
           "legendgroup": "SPEAKER_00:",
           "marker": {
            "color": "#636efa",
            "pattern": {
             "shape": ""
            }
           },
           "name": "SPEAKER_00:",
           "offsetgroup": "SPEAKER_00:",
           "orientation": "v",
           "showlegend": true,
           "textposition": "auto",
           "type": "bar",
           "x": [
            "SPEAKER_00:"
           ],
           "xaxis": "x",
           "y": [
            51
           ],
           "yaxis": "y"
          },
          {
           "alignmentgroup": "True",
           "hovertemplate": "speaker=%{x}<br>Timestamp=02:11.760000<br>Cumulative Word Count=%{y}<extra></extra>",
           "legendgroup": "SPEAKER_01:",
           "marker": {
            "color": "#EF553B",
            "pattern": {
             "shape": ""
            }
           },
           "name": "SPEAKER_01:",
           "offsetgroup": "SPEAKER_01:",
           "orientation": "v",
           "showlegend": true,
           "textposition": "auto",
           "type": "bar",
           "x": [
            "SPEAKER_01:"
           ],
           "xaxis": "x",
           "y": [
            38
           ],
           "yaxis": "y"
          },
          {
           "alignmentgroup": "True",
           "hovertemplate": "speaker=%{x}<br>Timestamp=02:11.760000<br>Cumulative Word Count=%{y}<extra></extra>",
           "legendgroup": "SPEAKER_02:",
           "marker": {
            "color": "#00cc96",
            "pattern": {
             "shape": ""
            }
           },
           "name": "SPEAKER_02:",
           "offsetgroup": "SPEAKER_02:",
           "orientation": "v",
           "showlegend": true,
           "textposition": "auto",
           "type": "bar",
           "x": [
            "SPEAKER_02:"
           ],
           "xaxis": "x",
           "y": [
            358
           ],
           "yaxis": "y"
          }
         ],
         "name": "02:11.760000"
        },
        {
         "data": [
          {
           "alignmentgroup": "True",
           "hovertemplate": "speaker=%{x}<br>Timestamp=02:14.740000<br>Cumulative Word Count=%{y}<extra></extra>",
           "legendgroup": "SPEAKER_00:",
           "marker": {
            "color": "#636efa",
            "pattern": {
             "shape": ""
            }
           },
           "name": "SPEAKER_00:",
           "offsetgroup": "SPEAKER_00:",
           "orientation": "v",
           "showlegend": true,
           "textposition": "auto",
           "type": "bar",
           "x": [
            "SPEAKER_00:"
           ],
           "xaxis": "x",
           "y": [
            51
           ],
           "yaxis": "y"
          },
          {
           "alignmentgroup": "True",
           "hovertemplate": "speaker=%{x}<br>Timestamp=02:14.740000<br>Cumulative Word Count=%{y}<extra></extra>",
           "legendgroup": "SPEAKER_01:",
           "marker": {
            "color": "#EF553B",
            "pattern": {
             "shape": ""
            }
           },
           "name": "SPEAKER_01:",
           "offsetgroup": "SPEAKER_01:",
           "orientation": "v",
           "showlegend": true,
           "textposition": "auto",
           "type": "bar",
           "x": [
            "SPEAKER_01:"
           ],
           "xaxis": "x",
           "y": [
            38
           ],
           "yaxis": "y"
          },
          {
           "alignmentgroup": "True",
           "hovertemplate": "speaker=%{x}<br>Timestamp=02:14.740000<br>Cumulative Word Count=%{y}<extra></extra>",
           "legendgroup": "SPEAKER_02:",
           "marker": {
            "color": "#00cc96",
            "pattern": {
             "shape": ""
            }
           },
           "name": "SPEAKER_02:",
           "offsetgroup": "SPEAKER_02:",
           "orientation": "v",
           "showlegend": true,
           "textposition": "auto",
           "type": "bar",
           "x": [
            "SPEAKER_02:"
           ],
           "xaxis": "x",
           "y": [
            364
           ],
           "yaxis": "y"
          }
         ],
         "name": "02:14.740000"
        },
        {
         "data": [
          {
           "alignmentgroup": "True",
           "hovertemplate": "speaker=%{x}<br>Timestamp=02:16.940000<br>Cumulative Word Count=%{y}<extra></extra>",
           "legendgroup": "SPEAKER_00:",
           "marker": {
            "color": "#636efa",
            "pattern": {
             "shape": ""
            }
           },
           "name": "SPEAKER_00:",
           "offsetgroup": "SPEAKER_00:",
           "orientation": "v",
           "showlegend": true,
           "textposition": "auto",
           "type": "bar",
           "x": [
            "SPEAKER_00:"
           ],
           "xaxis": "x",
           "y": [
            51
           ],
           "yaxis": "y"
          },
          {
           "alignmentgroup": "True",
           "hovertemplate": "speaker=%{x}<br>Timestamp=02:16.940000<br>Cumulative Word Count=%{y}<extra></extra>",
           "legendgroup": "SPEAKER_01:",
           "marker": {
            "color": "#EF553B",
            "pattern": {
             "shape": ""
            }
           },
           "name": "SPEAKER_01:",
           "offsetgroup": "SPEAKER_01:",
           "orientation": "v",
           "showlegend": true,
           "textposition": "auto",
           "type": "bar",
           "x": [
            "SPEAKER_01:"
           ],
           "xaxis": "x",
           "y": [
            38
           ],
           "yaxis": "y"
          },
          {
           "alignmentgroup": "True",
           "hovertemplate": "speaker=%{x}<br>Timestamp=02:16.940000<br>Cumulative Word Count=%{y}<extra></extra>",
           "legendgroup": "SPEAKER_02:",
           "marker": {
            "color": "#00cc96",
            "pattern": {
             "shape": ""
            }
           },
           "name": "SPEAKER_02:",
           "offsetgroup": "SPEAKER_02:",
           "orientation": "v",
           "showlegend": true,
           "textposition": "auto",
           "type": "bar",
           "x": [
            "SPEAKER_02:"
           ],
           "xaxis": "x",
           "y": [
            372
           ],
           "yaxis": "y"
          }
         ],
         "name": "02:16.940000"
        },
        {
         "data": [
          {
           "alignmentgroup": "True",
           "hovertemplate": "speaker=%{x}<br>Timestamp=02:19.340000<br>Cumulative Word Count=%{y}<extra></extra>",
           "legendgroup": "SPEAKER_00:",
           "marker": {
            "color": "#636efa",
            "pattern": {
             "shape": ""
            }
           },
           "name": "SPEAKER_00:",
           "offsetgroup": "SPEAKER_00:",
           "orientation": "v",
           "showlegend": true,
           "textposition": "auto",
           "type": "bar",
           "x": [
            "SPEAKER_00:"
           ],
           "xaxis": "x",
           "y": [
            51
           ],
           "yaxis": "y"
          },
          {
           "alignmentgroup": "True",
           "hovertemplate": "speaker=%{x}<br>Timestamp=02:19.340000<br>Cumulative Word Count=%{y}<extra></extra>",
           "legendgroup": "SPEAKER_01:",
           "marker": {
            "color": "#EF553B",
            "pattern": {
             "shape": ""
            }
           },
           "name": "SPEAKER_01:",
           "offsetgroup": "SPEAKER_01:",
           "orientation": "v",
           "showlegend": true,
           "textposition": "auto",
           "type": "bar",
           "x": [
            "SPEAKER_01:"
           ],
           "xaxis": "x",
           "y": [
            38
           ],
           "yaxis": "y"
          },
          {
           "alignmentgroup": "True",
           "hovertemplate": "speaker=%{x}<br>Timestamp=02:19.340000<br>Cumulative Word Count=%{y}<extra></extra>",
           "legendgroup": "SPEAKER_02:",
           "marker": {
            "color": "#00cc96",
            "pattern": {
             "shape": ""
            }
           },
           "name": "SPEAKER_02:",
           "offsetgroup": "SPEAKER_02:",
           "orientation": "v",
           "showlegend": true,
           "textposition": "auto",
           "type": "bar",
           "x": [
            "SPEAKER_02:"
           ],
           "xaxis": "x",
           "y": [
            384
           ],
           "yaxis": "y"
          }
         ],
         "name": "02:19.340000"
        },
        {
         "data": [
          {
           "alignmentgroup": "True",
           "hovertemplate": "speaker=%{x}<br>Timestamp=02:22.030000<br>Cumulative Word Count=%{y}<extra></extra>",
           "legendgroup": "SPEAKER_00:",
           "marker": {
            "color": "#636efa",
            "pattern": {
             "shape": ""
            }
           },
           "name": "SPEAKER_00:",
           "offsetgroup": "SPEAKER_00:",
           "orientation": "v",
           "showlegend": true,
           "textposition": "auto",
           "type": "bar",
           "x": [
            "SPEAKER_00:"
           ],
           "xaxis": "x",
           "y": [
            51
           ],
           "yaxis": "y"
          },
          {
           "alignmentgroup": "True",
           "hovertemplate": "speaker=%{x}<br>Timestamp=02:22.030000<br>Cumulative Word Count=%{y}<extra></extra>",
           "legendgroup": "SPEAKER_01:",
           "marker": {
            "color": "#EF553B",
            "pattern": {
             "shape": ""
            }
           },
           "name": "SPEAKER_01:",
           "offsetgroup": "SPEAKER_01:",
           "orientation": "v",
           "showlegend": true,
           "textposition": "auto",
           "type": "bar",
           "x": [
            "SPEAKER_01:"
           ],
           "xaxis": "x",
           "y": [
            38
           ],
           "yaxis": "y"
          },
          {
           "alignmentgroup": "True",
           "hovertemplate": "speaker=%{x}<br>Timestamp=02:22.030000<br>Cumulative Word Count=%{y}<extra></extra>",
           "legendgroup": "SPEAKER_02:",
           "marker": {
            "color": "#00cc96",
            "pattern": {
             "shape": ""
            }
           },
           "name": "SPEAKER_02:",
           "offsetgroup": "SPEAKER_02:",
           "orientation": "v",
           "showlegend": true,
           "textposition": "auto",
           "type": "bar",
           "x": [
            "SPEAKER_02:"
           ],
           "xaxis": "x",
           "y": [
            392
           ],
           "yaxis": "y"
          }
         ],
         "name": "02:22.030000"
        },
        {
         "data": [
          {
           "alignmentgroup": "True",
           "hovertemplate": "speaker=%{x}<br>Timestamp=02:24.180000<br>Cumulative Word Count=%{y}<extra></extra>",
           "legendgroup": "SPEAKER_00:",
           "marker": {
            "color": "#636efa",
            "pattern": {
             "shape": ""
            }
           },
           "name": "SPEAKER_00:",
           "offsetgroup": "SPEAKER_00:",
           "orientation": "v",
           "showlegend": true,
           "textposition": "auto",
           "type": "bar",
           "x": [
            "SPEAKER_00:"
           ],
           "xaxis": "x",
           "y": [
            51
           ],
           "yaxis": "y"
          },
          {
           "alignmentgroup": "True",
           "hovertemplate": "speaker=%{x}<br>Timestamp=02:24.180000<br>Cumulative Word Count=%{y}<extra></extra>",
           "legendgroup": "SPEAKER_01:",
           "marker": {
            "color": "#EF553B",
            "pattern": {
             "shape": ""
            }
           },
           "name": "SPEAKER_01:",
           "offsetgroup": "SPEAKER_01:",
           "orientation": "v",
           "showlegend": true,
           "textposition": "auto",
           "type": "bar",
           "x": [
            "SPEAKER_01:"
           ],
           "xaxis": "x",
           "y": [
            38
           ],
           "yaxis": "y"
          },
          {
           "alignmentgroup": "True",
           "hovertemplate": "speaker=%{x}<br>Timestamp=02:24.180000<br>Cumulative Word Count=%{y}<extra></extra>",
           "legendgroup": "SPEAKER_02:",
           "marker": {
            "color": "#00cc96",
            "pattern": {
             "shape": ""
            }
           },
           "name": "SPEAKER_02:",
           "offsetgroup": "SPEAKER_02:",
           "orientation": "v",
           "showlegend": true,
           "textposition": "auto",
           "type": "bar",
           "x": [
            "SPEAKER_02:"
           ],
           "xaxis": "x",
           "y": [
            396
           ],
           "yaxis": "y"
          }
         ],
         "name": "02:24.180000"
        },
        {
         "data": [
          {
           "alignmentgroup": "True",
           "hovertemplate": "speaker=%{x}<br>Timestamp=02:25.140000<br>Cumulative Word Count=%{y}<extra></extra>",
           "legendgroup": "SPEAKER_00:",
           "marker": {
            "color": "#636efa",
            "pattern": {
             "shape": ""
            }
           },
           "name": "SPEAKER_00:",
           "offsetgroup": "SPEAKER_00:",
           "orientation": "v",
           "showlegend": true,
           "textposition": "auto",
           "type": "bar",
           "x": [
            "SPEAKER_00:"
           ],
           "xaxis": "x",
           "y": [
            51
           ],
           "yaxis": "y"
          },
          {
           "alignmentgroup": "True",
           "hovertemplate": "speaker=%{x}<br>Timestamp=02:25.140000<br>Cumulative Word Count=%{y}<extra></extra>",
           "legendgroup": "SPEAKER_01:",
           "marker": {
            "color": "#EF553B",
            "pattern": {
             "shape": ""
            }
           },
           "name": "SPEAKER_01:",
           "offsetgroup": "SPEAKER_01:",
           "orientation": "v",
           "showlegend": true,
           "textposition": "auto",
           "type": "bar",
           "x": [
            "SPEAKER_01:"
           ],
           "xaxis": "x",
           "y": [
            38
           ],
           "yaxis": "y"
          },
          {
           "alignmentgroup": "True",
           "hovertemplate": "speaker=%{x}<br>Timestamp=02:25.140000<br>Cumulative Word Count=%{y}<extra></extra>",
           "legendgroup": "SPEAKER_02:",
           "marker": {
            "color": "#00cc96",
            "pattern": {
             "shape": ""
            }
           },
           "name": "SPEAKER_02:",
           "offsetgroup": "SPEAKER_02:",
           "orientation": "v",
           "showlegend": true,
           "textposition": "auto",
           "type": "bar",
           "x": [
            "SPEAKER_02:"
           ],
           "xaxis": "x",
           "y": [
            407
           ],
           "yaxis": "y"
          }
         ],
         "name": "02:25.140000"
        },
        {
         "data": [
          {
           "alignmentgroup": "True",
           "hovertemplate": "speaker=%{x}<br>Timestamp=02:28.280000<br>Cumulative Word Count=%{y}<extra></extra>",
           "legendgroup": "SPEAKER_00:",
           "marker": {
            "color": "#636efa",
            "pattern": {
             "shape": ""
            }
           },
           "name": "SPEAKER_00:",
           "offsetgroup": "SPEAKER_00:",
           "orientation": "v",
           "showlegend": true,
           "textposition": "auto",
           "type": "bar",
           "x": [
            "SPEAKER_00:"
           ],
           "xaxis": "x",
           "y": [
            51
           ],
           "yaxis": "y"
          },
          {
           "alignmentgroup": "True",
           "hovertemplate": "speaker=%{x}<br>Timestamp=02:28.280000<br>Cumulative Word Count=%{y}<extra></extra>",
           "legendgroup": "SPEAKER_01:",
           "marker": {
            "color": "#EF553B",
            "pattern": {
             "shape": ""
            }
           },
           "name": "SPEAKER_01:",
           "offsetgroup": "SPEAKER_01:",
           "orientation": "v",
           "showlegend": true,
           "textposition": "auto",
           "type": "bar",
           "x": [
            "SPEAKER_01:"
           ],
           "xaxis": "x",
           "y": [
            38
           ],
           "yaxis": "y"
          },
          {
           "alignmentgroup": "True",
           "hovertemplate": "speaker=%{x}<br>Timestamp=02:28.280000<br>Cumulative Word Count=%{y}<extra></extra>",
           "legendgroup": "SPEAKER_02:",
           "marker": {
            "color": "#00cc96",
            "pattern": {
             "shape": ""
            }
           },
           "name": "SPEAKER_02:",
           "offsetgroup": "SPEAKER_02:",
           "orientation": "v",
           "showlegend": true,
           "textposition": "auto",
           "type": "bar",
           "x": [
            "SPEAKER_02:"
           ],
           "xaxis": "x",
           "y": [
            414
           ],
           "yaxis": "y"
          }
         ],
         "name": "02:28.280000"
        },
        {
         "data": [
          {
           "alignmentgroup": "True",
           "hovertemplate": "speaker=%{x}<br>Timestamp=02:29.880000<br>Cumulative Word Count=%{y}<extra></extra>",
           "legendgroup": "SPEAKER_00:",
           "marker": {
            "color": "#636efa",
            "pattern": {
             "shape": ""
            }
           },
           "name": "SPEAKER_00:",
           "offsetgroup": "SPEAKER_00:",
           "orientation": "v",
           "showlegend": true,
           "textposition": "auto",
           "type": "bar",
           "x": [
            "SPEAKER_00:"
           ],
           "xaxis": "x",
           "y": [
            51
           ],
           "yaxis": "y"
          },
          {
           "alignmentgroup": "True",
           "hovertemplate": "speaker=%{x}<br>Timestamp=02:29.880000<br>Cumulative Word Count=%{y}<extra></extra>",
           "legendgroup": "SPEAKER_01:",
           "marker": {
            "color": "#EF553B",
            "pattern": {
             "shape": ""
            }
           },
           "name": "SPEAKER_01:",
           "offsetgroup": "SPEAKER_01:",
           "orientation": "v",
           "showlegend": true,
           "textposition": "auto",
           "type": "bar",
           "x": [
            "SPEAKER_01:"
           ],
           "xaxis": "x",
           "y": [
            38
           ],
           "yaxis": "y"
          },
          {
           "alignmentgroup": "True",
           "hovertemplate": "speaker=%{x}<br>Timestamp=02:29.880000<br>Cumulative Word Count=%{y}<extra></extra>",
           "legendgroup": "SPEAKER_02:",
           "marker": {
            "color": "#00cc96",
            "pattern": {
             "shape": ""
            }
           },
           "name": "SPEAKER_02:",
           "offsetgroup": "SPEAKER_02:",
           "orientation": "v",
           "showlegend": true,
           "textposition": "auto",
           "type": "bar",
           "x": [
            "SPEAKER_02:"
           ],
           "xaxis": "x",
           "y": [
            421
           ],
           "yaxis": "y"
          }
         ],
         "name": "02:29.880000"
        },
        {
         "data": [
          {
           "alignmentgroup": "True",
           "hovertemplate": "speaker=%{x}<br>Timestamp=02:32.180000<br>Cumulative Word Count=%{y}<extra></extra>",
           "legendgroup": "SPEAKER_00:",
           "marker": {
            "color": "#636efa",
            "pattern": {
             "shape": ""
            }
           },
           "name": "SPEAKER_00:",
           "offsetgroup": "SPEAKER_00:",
           "orientation": "v",
           "showlegend": true,
           "textposition": "auto",
           "type": "bar",
           "x": [
            "SPEAKER_00:"
           ],
           "xaxis": "x",
           "y": [
            51
           ],
           "yaxis": "y"
          },
          {
           "alignmentgroup": "True",
           "hovertemplate": "speaker=%{x}<br>Timestamp=02:32.180000<br>Cumulative Word Count=%{y}<extra></extra>",
           "legendgroup": "SPEAKER_01:",
           "marker": {
            "color": "#EF553B",
            "pattern": {
             "shape": ""
            }
           },
           "name": "SPEAKER_01:",
           "offsetgroup": "SPEAKER_01:",
           "orientation": "v",
           "showlegend": true,
           "textposition": "auto",
           "type": "bar",
           "x": [
            "SPEAKER_01:"
           ],
           "xaxis": "x",
           "y": [
            38
           ],
           "yaxis": "y"
          },
          {
           "alignmentgroup": "True",
           "hovertemplate": "speaker=%{x}<br>Timestamp=02:32.180000<br>Cumulative Word Count=%{y}<extra></extra>",
           "legendgroup": "SPEAKER_02:",
           "marker": {
            "color": "#00cc96",
            "pattern": {
             "shape": ""
            }
           },
           "name": "SPEAKER_02:",
           "offsetgroup": "SPEAKER_02:",
           "orientation": "v",
           "showlegend": true,
           "textposition": "auto",
           "type": "bar",
           "x": [
            "SPEAKER_02:"
           ],
           "xaxis": "x",
           "y": [
            427
           ],
           "yaxis": "y"
          }
         ],
         "name": "02:32.180000"
        },
        {
         "data": [
          {
           "alignmentgroup": "True",
           "hovertemplate": "speaker=%{x}<br>Timestamp=02:33.900000<br>Cumulative Word Count=%{y}<extra></extra>",
           "legendgroup": "SPEAKER_00:",
           "marker": {
            "color": "#636efa",
            "pattern": {
             "shape": ""
            }
           },
           "name": "SPEAKER_00:",
           "offsetgroup": "SPEAKER_00:",
           "orientation": "v",
           "showlegend": true,
           "textposition": "auto",
           "type": "bar",
           "x": [
            "SPEAKER_00:"
           ],
           "xaxis": "x",
           "y": [
            51
           ],
           "yaxis": "y"
          },
          {
           "alignmentgroup": "True",
           "hovertemplate": "speaker=%{x}<br>Timestamp=02:33.900000<br>Cumulative Word Count=%{y}<extra></extra>",
           "legendgroup": "SPEAKER_01:",
           "marker": {
            "color": "#EF553B",
            "pattern": {
             "shape": ""
            }
           },
           "name": "SPEAKER_01:",
           "offsetgroup": "SPEAKER_01:",
           "orientation": "v",
           "showlegend": true,
           "textposition": "auto",
           "type": "bar",
           "x": [
            "SPEAKER_01:"
           ],
           "xaxis": "x",
           "y": [
            38
           ],
           "yaxis": "y"
          },
          {
           "alignmentgroup": "True",
           "hovertemplate": "speaker=%{x}<br>Timestamp=02:33.900000<br>Cumulative Word Count=%{y}<extra></extra>",
           "legendgroup": "SPEAKER_02:",
           "marker": {
            "color": "#00cc96",
            "pattern": {
             "shape": ""
            }
           },
           "name": "SPEAKER_02:",
           "offsetgroup": "SPEAKER_02:",
           "orientation": "v",
           "showlegend": true,
           "textposition": "auto",
           "type": "bar",
           "x": [
            "SPEAKER_02:"
           ],
           "xaxis": "x",
           "y": [
            438
           ],
           "yaxis": "y"
          }
         ],
         "name": "02:33.900000"
        },
        {
         "data": [
          {
           "alignmentgroup": "True",
           "hovertemplate": "speaker=%{x}<br>Timestamp=02:37.540000<br>Cumulative Word Count=%{y}<extra></extra>",
           "legendgroup": "SPEAKER_00:",
           "marker": {
            "color": "#636efa",
            "pattern": {
             "shape": ""
            }
           },
           "name": "SPEAKER_00:",
           "offsetgroup": "SPEAKER_00:",
           "orientation": "v",
           "showlegend": true,
           "textposition": "auto",
           "type": "bar",
           "x": [
            "SPEAKER_00:"
           ],
           "xaxis": "x",
           "y": [
            51
           ],
           "yaxis": "y"
          },
          {
           "alignmentgroup": "True",
           "hovertemplate": "speaker=%{x}<br>Timestamp=02:37.540000<br>Cumulative Word Count=%{y}<extra></extra>",
           "legendgroup": "SPEAKER_01:",
           "marker": {
            "color": "#EF553B",
            "pattern": {
             "shape": ""
            }
           },
           "name": "SPEAKER_01:",
           "offsetgroup": "SPEAKER_01:",
           "orientation": "v",
           "showlegend": true,
           "textposition": "auto",
           "type": "bar",
           "x": [
            "SPEAKER_01:"
           ],
           "xaxis": "x",
           "y": [
            38
           ],
           "yaxis": "y"
          },
          {
           "alignmentgroup": "True",
           "hovertemplate": "speaker=%{x}<br>Timestamp=02:37.540000<br>Cumulative Word Count=%{y}<extra></extra>",
           "legendgroup": "SPEAKER_02:",
           "marker": {
            "color": "#00cc96",
            "pattern": {
             "shape": ""
            }
           },
           "name": "SPEAKER_02:",
           "offsetgroup": "SPEAKER_02:",
           "orientation": "v",
           "showlegend": true,
           "textposition": "auto",
           "type": "bar",
           "x": [
            "SPEAKER_02:"
           ],
           "xaxis": "x",
           "y": [
            450
           ],
           "yaxis": "y"
          }
         ],
         "name": "02:37.540000"
        },
        {
         "data": [
          {
           "alignmentgroup": "True",
           "hovertemplate": "speaker=%{x}<br>Timestamp=02:42.040000<br>Cumulative Word Count=%{y}<extra></extra>",
           "legendgroup": "SPEAKER_00:",
           "marker": {
            "color": "#636efa",
            "pattern": {
             "shape": ""
            }
           },
           "name": "SPEAKER_00:",
           "offsetgroup": "SPEAKER_00:",
           "orientation": "v",
           "showlegend": true,
           "textposition": "auto",
           "type": "bar",
           "x": [
            "SPEAKER_00:"
           ],
           "xaxis": "x",
           "y": [
            51
           ],
           "yaxis": "y"
          },
          {
           "alignmentgroup": "True",
           "hovertemplate": "speaker=%{x}<br>Timestamp=02:42.040000<br>Cumulative Word Count=%{y}<extra></extra>",
           "legendgroup": "SPEAKER_01:",
           "marker": {
            "color": "#EF553B",
            "pattern": {
             "shape": ""
            }
           },
           "name": "SPEAKER_01:",
           "offsetgroup": "SPEAKER_01:",
           "orientation": "v",
           "showlegend": true,
           "textposition": "auto",
           "type": "bar",
           "x": [
            "SPEAKER_01:"
           ],
           "xaxis": "x",
           "y": [
            38
           ],
           "yaxis": "y"
          },
          {
           "alignmentgroup": "True",
           "hovertemplate": "speaker=%{x}<br>Timestamp=02:42.040000<br>Cumulative Word Count=%{y}<extra></extra>",
           "legendgroup": "SPEAKER_02:",
           "marker": {
            "color": "#00cc96",
            "pattern": {
             "shape": ""
            }
           },
           "name": "SPEAKER_02:",
           "offsetgroup": "SPEAKER_02:",
           "orientation": "v",
           "showlegend": true,
           "textposition": "auto",
           "type": "bar",
           "x": [
            "SPEAKER_02:"
           ],
           "xaxis": "x",
           "y": [
            461
           ],
           "yaxis": "y"
          }
         ],
         "name": "02:42.040000"
        },
        {
         "data": [
          {
           "alignmentgroup": "True",
           "hovertemplate": "speaker=%{x}<br>Timestamp=02:44.630000<br>Cumulative Word Count=%{y}<extra></extra>",
           "legendgroup": "SPEAKER_00:",
           "marker": {
            "color": "#636efa",
            "pattern": {
             "shape": ""
            }
           },
           "name": "SPEAKER_00:",
           "offsetgroup": "SPEAKER_00:",
           "orientation": "v",
           "showlegend": true,
           "textposition": "auto",
           "type": "bar",
           "x": [
            "SPEAKER_00:"
           ],
           "xaxis": "x",
           "y": [
            51
           ],
           "yaxis": "y"
          },
          {
           "alignmentgroup": "True",
           "hovertemplate": "speaker=%{x}<br>Timestamp=02:44.630000<br>Cumulative Word Count=%{y}<extra></extra>",
           "legendgroup": "SPEAKER_01:",
           "marker": {
            "color": "#EF553B",
            "pattern": {
             "shape": ""
            }
           },
           "name": "SPEAKER_01:",
           "offsetgroup": "SPEAKER_01:",
           "orientation": "v",
           "showlegend": true,
           "textposition": "auto",
           "type": "bar",
           "x": [
            "SPEAKER_01:"
           ],
           "xaxis": "x",
           "y": [
            38
           ],
           "yaxis": "y"
          },
          {
           "alignmentgroup": "True",
           "hovertemplate": "speaker=%{x}<br>Timestamp=02:44.630000<br>Cumulative Word Count=%{y}<extra></extra>",
           "legendgroup": "SPEAKER_02:",
           "marker": {
            "color": "#00cc96",
            "pattern": {
             "shape": ""
            }
           },
           "name": "SPEAKER_02:",
           "offsetgroup": "SPEAKER_02:",
           "orientation": "v",
           "showlegend": true,
           "textposition": "auto",
           "type": "bar",
           "x": [
            "SPEAKER_02:"
           ],
           "xaxis": "x",
           "y": [
            469
           ],
           "yaxis": "y"
          }
         ],
         "name": "02:44.630000"
        },
        {
         "data": [
          {
           "alignmentgroup": "True",
           "hovertemplate": "speaker=%{x}<br>Timestamp=02:46.590000<br>Cumulative Word Count=%{y}<extra></extra>",
           "legendgroup": "SPEAKER_00:",
           "marker": {
            "color": "#636efa",
            "pattern": {
             "shape": ""
            }
           },
           "name": "SPEAKER_00:",
           "offsetgroup": "SPEAKER_00:",
           "orientation": "v",
           "showlegend": true,
           "textposition": "auto",
           "type": "bar",
           "x": [
            "SPEAKER_00:"
           ],
           "xaxis": "x",
           "y": [
            51
           ],
           "yaxis": "y"
          },
          {
           "alignmentgroup": "True",
           "hovertemplate": "speaker=%{x}<br>Timestamp=02:46.590000<br>Cumulative Word Count=%{y}<extra></extra>",
           "legendgroup": "SPEAKER_01:",
           "marker": {
            "color": "#EF553B",
            "pattern": {
             "shape": ""
            }
           },
           "name": "SPEAKER_01:",
           "offsetgroup": "SPEAKER_01:",
           "orientation": "v",
           "showlegend": true,
           "textposition": "auto",
           "type": "bar",
           "x": [
            "SPEAKER_01:"
           ],
           "xaxis": "x",
           "y": [
            38
           ],
           "yaxis": "y"
          },
          {
           "alignmentgroup": "True",
           "hovertemplate": "speaker=%{x}<br>Timestamp=02:46.590000<br>Cumulative Word Count=%{y}<extra></extra>",
           "legendgroup": "SPEAKER_02:",
           "marker": {
            "color": "#00cc96",
            "pattern": {
             "shape": ""
            }
           },
           "name": "SPEAKER_02:",
           "offsetgroup": "SPEAKER_02:",
           "orientation": "v",
           "showlegend": true,
           "textposition": "auto",
           "type": "bar",
           "x": [
            "SPEAKER_02:"
           ],
           "xaxis": "x",
           "y": [
            476
           ],
           "yaxis": "y"
          }
         ],
         "name": "02:46.590000"
        },
        {
         "data": [
          {
           "alignmentgroup": "True",
           "hovertemplate": "speaker=%{x}<br>Timestamp=02:49.140000<br>Cumulative Word Count=%{y}<extra></extra>",
           "legendgroup": "SPEAKER_00:",
           "marker": {
            "color": "#636efa",
            "pattern": {
             "shape": ""
            }
           },
           "name": "SPEAKER_00:",
           "offsetgroup": "SPEAKER_00:",
           "orientation": "v",
           "showlegend": true,
           "textposition": "auto",
           "type": "bar",
           "x": [
            "SPEAKER_00:"
           ],
           "xaxis": "x",
           "y": [
            51
           ],
           "yaxis": "y"
          },
          {
           "alignmentgroup": "True",
           "hovertemplate": "speaker=%{x}<br>Timestamp=02:49.140000<br>Cumulative Word Count=%{y}<extra></extra>",
           "legendgroup": "SPEAKER_01:",
           "marker": {
            "color": "#EF553B",
            "pattern": {
             "shape": ""
            }
           },
           "name": "SPEAKER_01:",
           "offsetgroup": "SPEAKER_01:",
           "orientation": "v",
           "showlegend": true,
           "textposition": "auto",
           "type": "bar",
           "x": [
            "SPEAKER_01:"
           ],
           "xaxis": "x",
           "y": [
            38
           ],
           "yaxis": "y"
          },
          {
           "alignmentgroup": "True",
           "hovertemplate": "speaker=%{x}<br>Timestamp=02:49.140000<br>Cumulative Word Count=%{y}<extra></extra>",
           "legendgroup": "SPEAKER_02:",
           "marker": {
            "color": "#00cc96",
            "pattern": {
             "shape": ""
            }
           },
           "name": "SPEAKER_02:",
           "offsetgroup": "SPEAKER_02:",
           "orientation": "v",
           "showlegend": true,
           "textposition": "auto",
           "type": "bar",
           "x": [
            "SPEAKER_02:"
           ],
           "xaxis": "x",
           "y": [
            480
           ],
           "yaxis": "y"
          }
         ],
         "name": "02:49.140000"
        },
        {
         "data": [
          {
           "alignmentgroup": "True",
           "hovertemplate": "speaker=%{x}<br>Timestamp=02:50.880000<br>Cumulative Word Count=%{y}<extra></extra>",
           "legendgroup": "SPEAKER_00:",
           "marker": {
            "color": "#636efa",
            "pattern": {
             "shape": ""
            }
           },
           "name": "SPEAKER_00:",
           "offsetgroup": "SPEAKER_00:",
           "orientation": "v",
           "showlegend": true,
           "textposition": "auto",
           "type": "bar",
           "x": [
            "SPEAKER_00:"
           ],
           "xaxis": "x",
           "y": [
            51
           ],
           "yaxis": "y"
          },
          {
           "alignmentgroup": "True",
           "hovertemplate": "speaker=%{x}<br>Timestamp=02:50.880000<br>Cumulative Word Count=%{y}<extra></extra>",
           "legendgroup": "SPEAKER_01:",
           "marker": {
            "color": "#EF553B",
            "pattern": {
             "shape": ""
            }
           },
           "name": "SPEAKER_01:",
           "offsetgroup": "SPEAKER_01:",
           "orientation": "v",
           "showlegend": true,
           "textposition": "auto",
           "type": "bar",
           "x": [
            "SPEAKER_01:"
           ],
           "xaxis": "x",
           "y": [
            38
           ],
           "yaxis": "y"
          },
          {
           "alignmentgroup": "True",
           "hovertemplate": "speaker=%{x}<br>Timestamp=02:50.880000<br>Cumulative Word Count=%{y}<extra></extra>",
           "legendgroup": "SPEAKER_02:",
           "marker": {
            "color": "#00cc96",
            "pattern": {
             "shape": ""
            }
           },
           "name": "SPEAKER_02:",
           "offsetgroup": "SPEAKER_02:",
           "orientation": "v",
           "showlegend": true,
           "textposition": "auto",
           "type": "bar",
           "x": [
            "SPEAKER_02:"
           ],
           "xaxis": "x",
           "y": [
            485
           ],
           "yaxis": "y"
          }
         ],
         "name": "02:50.880000"
        },
        {
         "data": [
          {
           "alignmentgroup": "True",
           "hovertemplate": "speaker=%{x}<br>Timestamp=02:52.360000<br>Cumulative Word Count=%{y}<extra></extra>",
           "legendgroup": "SPEAKER_00:",
           "marker": {
            "color": "#636efa",
            "pattern": {
             "shape": ""
            }
           },
           "name": "SPEAKER_00:",
           "offsetgroup": "SPEAKER_00:",
           "orientation": "v",
           "showlegend": true,
           "textposition": "auto",
           "type": "bar",
           "x": [
            "SPEAKER_00:"
           ],
           "xaxis": "x",
           "y": [
            51
           ],
           "yaxis": "y"
          },
          {
           "alignmentgroup": "True",
           "hovertemplate": "speaker=%{x}<br>Timestamp=02:52.360000<br>Cumulative Word Count=%{y}<extra></extra>",
           "legendgroup": "SPEAKER_01:",
           "marker": {
            "color": "#EF553B",
            "pattern": {
             "shape": ""
            }
           },
           "name": "SPEAKER_01:",
           "offsetgroup": "SPEAKER_01:",
           "orientation": "v",
           "showlegend": true,
           "textposition": "auto",
           "type": "bar",
           "x": [
            "SPEAKER_01:"
           ],
           "xaxis": "x",
           "y": [
            38
           ],
           "yaxis": "y"
          },
          {
           "alignmentgroup": "True",
           "hovertemplate": "speaker=%{x}<br>Timestamp=02:52.360000<br>Cumulative Word Count=%{y}<extra></extra>",
           "legendgroup": "SPEAKER_02:",
           "marker": {
            "color": "#00cc96",
            "pattern": {
             "shape": ""
            }
           },
           "name": "SPEAKER_02:",
           "offsetgroup": "SPEAKER_02:",
           "orientation": "v",
           "showlegend": true,
           "textposition": "auto",
           "type": "bar",
           "x": [
            "SPEAKER_02:"
           ],
           "xaxis": "x",
           "y": [
            492
           ],
           "yaxis": "y"
          }
         ],
         "name": "02:52.360000"
        },
        {
         "data": [
          {
           "alignmentgroup": "True",
           "hovertemplate": "speaker=%{x}<br>Timestamp=02:53.940000<br>Cumulative Word Count=%{y}<extra></extra>",
           "legendgroup": "SPEAKER_00:",
           "marker": {
            "color": "#636efa",
            "pattern": {
             "shape": ""
            }
           },
           "name": "SPEAKER_00:",
           "offsetgroup": "SPEAKER_00:",
           "orientation": "v",
           "showlegend": true,
           "textposition": "auto",
           "type": "bar",
           "x": [
            "SPEAKER_00:"
           ],
           "xaxis": "x",
           "y": [
            51
           ],
           "yaxis": "y"
          },
          {
           "alignmentgroup": "True",
           "hovertemplate": "speaker=%{x}<br>Timestamp=02:53.940000<br>Cumulative Word Count=%{y}<extra></extra>",
           "legendgroup": "SPEAKER_01:",
           "marker": {
            "color": "#EF553B",
            "pattern": {
             "shape": ""
            }
           },
           "name": "SPEAKER_01:",
           "offsetgroup": "SPEAKER_01:",
           "orientation": "v",
           "showlegend": true,
           "textposition": "auto",
           "type": "bar",
           "x": [
            "SPEAKER_01:"
           ],
           "xaxis": "x",
           "y": [
            38
           ],
           "yaxis": "y"
          },
          {
           "alignmentgroup": "True",
           "hovertemplate": "speaker=%{x}<br>Timestamp=02:53.940000<br>Cumulative Word Count=%{y}<extra></extra>",
           "legendgroup": "SPEAKER_02:",
           "marker": {
            "color": "#00cc96",
            "pattern": {
             "shape": ""
            }
           },
           "name": "SPEAKER_02:",
           "offsetgroup": "SPEAKER_02:",
           "orientation": "v",
           "showlegend": true,
           "textposition": "auto",
           "type": "bar",
           "x": [
            "SPEAKER_02:"
           ],
           "xaxis": "x",
           "y": [
            499
           ],
           "yaxis": "y"
          }
         ],
         "name": "02:53.940000"
        },
        {
         "data": [
          {
           "alignmentgroup": "True",
           "hovertemplate": "speaker=%{x}<br>Timestamp=02:56.670000<br>Cumulative Word Count=%{y}<extra></extra>",
           "legendgroup": "SPEAKER_00:",
           "marker": {
            "color": "#636efa",
            "pattern": {
             "shape": ""
            }
           },
           "name": "SPEAKER_00:",
           "offsetgroup": "SPEAKER_00:",
           "orientation": "v",
           "showlegend": true,
           "textposition": "auto",
           "type": "bar",
           "x": [
            "SPEAKER_00:"
           ],
           "xaxis": "x",
           "y": [
            51
           ],
           "yaxis": "y"
          },
          {
           "alignmentgroup": "True",
           "hovertemplate": "speaker=%{x}<br>Timestamp=02:56.670000<br>Cumulative Word Count=%{y}<extra></extra>",
           "legendgroup": "SPEAKER_01:",
           "marker": {
            "color": "#EF553B",
            "pattern": {
             "shape": ""
            }
           },
           "name": "SPEAKER_01:",
           "offsetgroup": "SPEAKER_01:",
           "orientation": "v",
           "showlegend": true,
           "textposition": "auto",
           "type": "bar",
           "x": [
            "SPEAKER_01:"
           ],
           "xaxis": "x",
           "y": [
            38
           ],
           "yaxis": "y"
          },
          {
           "alignmentgroup": "True",
           "hovertemplate": "speaker=%{x}<br>Timestamp=02:56.670000<br>Cumulative Word Count=%{y}<extra></extra>",
           "legendgroup": "SPEAKER_02:",
           "marker": {
            "color": "#00cc96",
            "pattern": {
             "shape": ""
            }
           },
           "name": "SPEAKER_02:",
           "offsetgroup": "SPEAKER_02:",
           "orientation": "v",
           "showlegend": true,
           "textposition": "auto",
           "type": "bar",
           "x": [
            "SPEAKER_02:"
           ],
           "xaxis": "x",
           "y": [
            509
           ],
           "yaxis": "y"
          }
         ],
         "name": "02:56.670000"
        }
       ],
       "layout": {
        "barmode": "relative",
        "legend": {
         "title": {
          "text": "speaker"
         },
         "tracegroupgap": 0
        },
        "sliders": [
         {
          "active": 0,
          "currentvalue": {
           "prefix": "Timestamp="
          },
          "len": 0.9,
          "pad": {
           "b": 10,
           "t": 60
          },
          "steps": [
           {
            "args": [
             [
              "00:00.220000"
             ],
             {
              "frame": {
               "duration": 0,
               "redraw": true
              },
              "fromcurrent": true,
              "mode": "immediate",
              "transition": {
               "duration": 0,
               "easing": "linear"
              }
             }
            ],
            "label": "00:00.220000",
            "method": "animate"
           },
           {
            "args": [
             [
              "00:02.440000"
             ],
             {
              "frame": {
               "duration": 0,
               "redraw": true
              },
              "fromcurrent": true,
              "mode": "immediate",
              "transition": {
               "duration": 0,
               "easing": "linear"
              }
             }
            ],
            "label": "00:02.440000",
            "method": "animate"
           },
           {
            "args": [
             [
              "00:04.480000"
             ],
             {
              "frame": {
               "duration": 0,
               "redraw": true
              },
              "fromcurrent": true,
              "mode": "immediate",
              "transition": {
               "duration": 0,
               "easing": "linear"
              }
             }
            ],
            "label": "00:04.480000",
            "method": "animate"
           },
           {
            "args": [
             [
              "00:05.980000"
             ],
             {
              "frame": {
               "duration": 0,
               "redraw": true
              },
              "fromcurrent": true,
              "mode": "immediate",
              "transition": {
               "duration": 0,
               "easing": "linear"
              }
             }
            ],
            "label": "00:05.980000",
            "method": "animate"
           },
           {
            "args": [
             [
              "00:08.040000"
             ],
             {
              "frame": {
               "duration": 0,
               "redraw": true
              },
              "fromcurrent": true,
              "mode": "immediate",
              "transition": {
               "duration": 0,
               "easing": "linear"
              }
             }
            ],
            "label": "00:08.040000",
            "method": "animate"
           },
           {
            "args": [
             [
              "00:09.620000"
             ],
             {
              "frame": {
               "duration": 0,
               "redraw": true
              },
              "fromcurrent": true,
              "mode": "immediate",
              "transition": {
               "duration": 0,
               "easing": "linear"
              }
             }
            ],
            "label": "00:09.620000",
            "method": "animate"
           },
           {
            "args": [
             [
              "00:11.640000"
             ],
             {
              "frame": {
               "duration": 0,
               "redraw": true
              },
              "fromcurrent": true,
              "mode": "immediate",
              "transition": {
               "duration": 0,
               "easing": "linear"
              }
             }
            ],
            "label": "00:11.640000",
            "method": "animate"
           },
           {
            "args": [
             [
              "00:13.820000"
             ],
             {
              "frame": {
               "duration": 0,
               "redraw": true
              },
              "fromcurrent": true,
              "mode": "immediate",
              "transition": {
               "duration": 0,
               "easing": "linear"
              }
             }
            ],
            "label": "00:13.820000",
            "method": "animate"
           },
           {
            "args": [
             [
              "00:17.100000"
             ],
             {
              "frame": {
               "duration": 0,
               "redraw": true
              },
              "fromcurrent": true,
              "mode": "immediate",
              "transition": {
               "duration": 0,
               "easing": "linear"
              }
             }
            ],
            "label": "00:17.100000",
            "method": "animate"
           },
           {
            "args": [
             [
              "00:18.340000"
             ],
             {
              "frame": {
               "duration": 0,
               "redraw": true
              },
              "fromcurrent": true,
              "mode": "immediate",
              "transition": {
               "duration": 0,
               "easing": "linear"
              }
             }
            ],
            "label": "00:18.340000",
            "method": "animate"
           },
           {
            "args": [
             [
              "00:21.030000"
             ],
             {
              "frame": {
               "duration": 0,
               "redraw": true
              },
              "fromcurrent": true,
              "mode": "immediate",
              "transition": {
               "duration": 0,
               "easing": "linear"
              }
             }
            ],
            "label": "00:21.030000",
            "method": "animate"
           },
           {
            "args": [
             [
              "00:24.080000"
             ],
             {
              "frame": {
               "duration": 0,
               "redraw": true
              },
              "fromcurrent": true,
              "mode": "immediate",
              "transition": {
               "duration": 0,
               "easing": "linear"
              }
             }
            ],
            "label": "00:24.080000",
            "method": "animate"
           },
           {
            "args": [
             [
              "00:26.590000"
             ],
             {
              "frame": {
               "duration": 0,
               "redraw": true
              },
              "fromcurrent": true,
              "mode": "immediate",
              "transition": {
               "duration": 0,
               "easing": "linear"
              }
             }
            ],
            "label": "00:26.590000",
            "method": "animate"
           },
           {
            "args": [
             [
              "00:29.720000"
             ],
             {
              "frame": {
               "duration": 0,
               "redraw": true
              },
              "fromcurrent": true,
              "mode": "immediate",
              "transition": {
               "duration": 0,
               "easing": "linear"
              }
             }
            ],
            "label": "00:29.720000",
            "method": "animate"
           },
           {
            "args": [
             [
              "00:35.020000"
             ],
             {
              "frame": {
               "duration": 0,
               "redraw": true
              },
              "fromcurrent": true,
              "mode": "immediate",
              "transition": {
               "duration": 0,
               "easing": "linear"
              }
             }
            ],
            "label": "00:35.020000",
            "method": "animate"
           },
           {
            "args": [
             [
              "00:37.120000"
             ],
             {
              "frame": {
               "duration": 0,
               "redraw": true
              },
              "fromcurrent": true,
              "mode": "immediate",
              "transition": {
               "duration": 0,
               "easing": "linear"
              }
             }
            ],
            "label": "00:37.120000",
            "method": "animate"
           },
           {
            "args": [
             [
              "00:38.300000"
             ],
             {
              "frame": {
               "duration": 0,
               "redraw": true
              },
              "fromcurrent": true,
              "mode": "immediate",
              "transition": {
               "duration": 0,
               "easing": "linear"
              }
             }
            ],
            "label": "00:38.300000",
            "method": "animate"
           },
           {
            "args": [
             [
              "00:40.140000"
             ],
             {
              "frame": {
               "duration": 0,
               "redraw": true
              },
              "fromcurrent": true,
              "mode": "immediate",
              "transition": {
               "duration": 0,
               "easing": "linear"
              }
             }
            ],
            "label": "00:40.140000",
            "method": "animate"
           },
           {
            "args": [
             [
              "00:43.640000"
             ],
             {
              "frame": {
               "duration": 0,
               "redraw": true
              },
              "fromcurrent": true,
              "mode": "immediate",
              "transition": {
               "duration": 0,
               "easing": "linear"
              }
             }
            ],
            "label": "00:43.640000",
            "method": "animate"
           },
           {
            "args": [
             [
              "00:45.910000"
             ],
             {
              "frame": {
               "duration": 0,
               "redraw": true
              },
              "fromcurrent": true,
              "mode": "immediate",
              "transition": {
               "duration": 0,
               "easing": "linear"
              }
             }
            ],
            "label": "00:45.910000",
            "method": "animate"
           },
           {
            "args": [
             [
              "00:47.520000"
             ],
             {
              "frame": {
               "duration": 0,
               "redraw": true
              },
              "fromcurrent": true,
              "mode": "immediate",
              "transition": {
               "duration": 0,
               "easing": "linear"
              }
             }
            ],
            "label": "00:47.520000",
            "method": "animate"
           },
           {
            "args": [
             [
              "00:49.210000"
             ],
             {
              "frame": {
               "duration": 0,
               "redraw": true
              },
              "fromcurrent": true,
              "mode": "immediate",
              "transition": {
               "duration": 0,
               "easing": "linear"
              }
             }
            ],
            "label": "00:49.210000",
            "method": "animate"
           },
           {
            "args": [
             [
              "00:51.100000"
             ],
             {
              "frame": {
               "duration": 0,
               "redraw": true
              },
              "fromcurrent": true,
              "mode": "immediate",
              "transition": {
               "duration": 0,
               "easing": "linear"
              }
             }
            ],
            "label": "00:51.100000",
            "method": "animate"
           },
           {
            "args": [
             [
              "00:53.300000"
             ],
             {
              "frame": {
               "duration": 0,
               "redraw": true
              },
              "fromcurrent": true,
              "mode": "immediate",
              "transition": {
               "duration": 0,
               "easing": "linear"
              }
             }
            ],
            "label": "00:53.300000",
            "method": "animate"
           },
           {
            "args": [
             [
              "00:54.960000"
             ],
             {
              "frame": {
               "duration": 0,
               "redraw": true
              },
              "fromcurrent": true,
              "mode": "immediate",
              "transition": {
               "duration": 0,
               "easing": "linear"
              }
             }
            ],
            "label": "00:54.960000",
            "method": "animate"
           },
           {
            "args": [
             [
              "00:57.320000"
             ],
             {
              "frame": {
               "duration": 0,
               "redraw": true
              },
              "fromcurrent": true,
              "mode": "immediate",
              "transition": {
               "duration": 0,
               "easing": "linear"
              }
             }
            ],
            "label": "00:57.320000",
            "method": "animate"
           },
           {
            "args": [
             [
              "01:00.350000"
             ],
             {
              "frame": {
               "duration": 0,
               "redraw": true
              },
              "fromcurrent": true,
              "mode": "immediate",
              "transition": {
               "duration": 0,
               "easing": "linear"
              }
             }
            ],
            "label": "01:00.350000",
            "method": "animate"
           },
           {
            "args": [
             [
              "01:02.280000"
             ],
             {
              "frame": {
               "duration": 0,
               "redraw": true
              },
              "fromcurrent": true,
              "mode": "immediate",
              "transition": {
               "duration": 0,
               "easing": "linear"
              }
             }
            ],
            "label": "01:02.280000",
            "method": "animate"
           },
           {
            "args": [
             [
              "01:04.410000"
             ],
             {
              "frame": {
               "duration": 0,
               "redraw": true
              },
              "fromcurrent": true,
              "mode": "immediate",
              "transition": {
               "duration": 0,
               "easing": "linear"
              }
             }
            ],
            "label": "01:04.410000",
            "method": "animate"
           },
           {
            "args": [
             [
              "01:06.980000"
             ],
             {
              "frame": {
               "duration": 0,
               "redraw": true
              },
              "fromcurrent": true,
              "mode": "immediate",
              "transition": {
               "duration": 0,
               "easing": "linear"
              }
             }
            ],
            "label": "01:06.980000",
            "method": "animate"
           },
           {
            "args": [
             [
              "01:11.420000"
             ],
             {
              "frame": {
               "duration": 0,
               "redraw": true
              },
              "fromcurrent": true,
              "mode": "immediate",
              "transition": {
               "duration": 0,
               "easing": "linear"
              }
             }
            ],
            "label": "01:11.420000",
            "method": "animate"
           },
           {
            "args": [
             [
              "01:13.610000"
             ],
             {
              "frame": {
               "duration": 0,
               "redraw": true
              },
              "fromcurrent": true,
              "mode": "immediate",
              "transition": {
               "duration": 0,
               "easing": "linear"
              }
             }
            ],
            "label": "01:13.610000",
            "method": "animate"
           },
           {
            "args": [
             [
              "01:15.620000"
             ],
             {
              "frame": {
               "duration": 0,
               "redraw": true
              },
              "fromcurrent": true,
              "mode": "immediate",
              "transition": {
               "duration": 0,
               "easing": "linear"
              }
             }
            ],
            "label": "01:15.620000",
            "method": "animate"
           },
           {
            "args": [
             [
              "01:17.230000"
             ],
             {
              "frame": {
               "duration": 0,
               "redraw": true
              },
              "fromcurrent": true,
              "mode": "immediate",
              "transition": {
               "duration": 0,
               "easing": "linear"
              }
             }
            ],
            "label": "01:17.230000",
            "method": "animate"
           },
           {
            "args": [
             [
              "01:20.000000"
             ],
             {
              "frame": {
               "duration": 0,
               "redraw": true
              },
              "fromcurrent": true,
              "mode": "immediate",
              "transition": {
               "duration": 0,
               "easing": "linear"
              }
             }
            ],
            "label": "01:20.000000",
            "method": "animate"
           },
           {
            "args": [
             [
              "01:22.040000"
             ],
             {
              "frame": {
               "duration": 0,
               "redraw": true
              },
              "fromcurrent": true,
              "mode": "immediate",
              "transition": {
               "duration": 0,
               "easing": "linear"
              }
             }
            ],
            "label": "01:22.040000",
            "method": "animate"
           },
           {
            "args": [
             [
              "01:24.330000"
             ],
             {
              "frame": {
               "duration": 0,
               "redraw": true
              },
              "fromcurrent": true,
              "mode": "immediate",
              "transition": {
               "duration": 0,
               "easing": "linear"
              }
             }
            ],
            "label": "01:24.330000",
            "method": "animate"
           },
           {
            "args": [
             [
              "01:25.840000"
             ],
             {
              "frame": {
               "duration": 0,
               "redraw": true
              },
              "fromcurrent": true,
              "mode": "immediate",
              "transition": {
               "duration": 0,
               "easing": "linear"
              }
             }
            ],
            "label": "01:25.840000",
            "method": "animate"
           },
           {
            "args": [
             [
              "01:29.260000"
             ],
             {
              "frame": {
               "duration": 0,
               "redraw": true
              },
              "fromcurrent": true,
              "mode": "immediate",
              "transition": {
               "duration": 0,
               "easing": "linear"
              }
             }
            ],
            "label": "01:29.260000",
            "method": "animate"
           },
           {
            "args": [
             [
              "01:31.680000"
             ],
             {
              "frame": {
               "duration": 0,
               "redraw": true
              },
              "fromcurrent": true,
              "mode": "immediate",
              "transition": {
               "duration": 0,
               "easing": "linear"
              }
             }
            ],
            "label": "01:31.680000",
            "method": "animate"
           },
           {
            "args": [
             [
              "01:34.940000"
             ],
             {
              "frame": {
               "duration": 0,
               "redraw": true
              },
              "fromcurrent": true,
              "mode": "immediate",
              "transition": {
               "duration": 0,
               "easing": "linear"
              }
             }
            ],
            "label": "01:34.940000",
            "method": "animate"
           },
           {
            "args": [
             [
              "01:36.700000"
             ],
             {
              "frame": {
               "duration": 0,
               "redraw": true
              },
              "fromcurrent": true,
              "mode": "immediate",
              "transition": {
               "duration": 0,
               "easing": "linear"
              }
             }
            ],
            "label": "01:36.700000",
            "method": "animate"
           },
           {
            "args": [
             [
              "01:38.760000"
             ],
             {
              "frame": {
               "duration": 0,
               "redraw": true
              },
              "fromcurrent": true,
              "mode": "immediate",
              "transition": {
               "duration": 0,
               "easing": "linear"
              }
             }
            ],
            "label": "01:38.760000",
            "method": "animate"
           },
           {
            "args": [
             [
              "01:40.100000"
             ],
             {
              "frame": {
               "duration": 0,
               "redraw": true
              },
              "fromcurrent": true,
              "mode": "immediate",
              "transition": {
               "duration": 0,
               "easing": "linear"
              }
             }
            ],
            "label": "01:40.100000",
            "method": "animate"
           },
           {
            "args": [
             [
              "01:40.640000"
             ],
             {
              "frame": {
               "duration": 0,
               "redraw": true
              },
              "fromcurrent": true,
              "mode": "immediate",
              "transition": {
               "duration": 0,
               "easing": "linear"
              }
             }
            ],
            "label": "01:40.640000",
            "method": "animate"
           },
           {
            "args": [
             [
              "01:43.040000"
             ],
             {
              "frame": {
               "duration": 0,
               "redraw": true
              },
              "fromcurrent": true,
              "mode": "immediate",
              "transition": {
               "duration": 0,
               "easing": "linear"
              }
             }
            ],
            "label": "01:43.040000",
            "method": "animate"
           },
           {
            "args": [
             [
              "01:46.420000"
             ],
             {
              "frame": {
               "duration": 0,
               "redraw": true
              },
              "fromcurrent": true,
              "mode": "immediate",
              "transition": {
               "duration": 0,
               "easing": "linear"
              }
             }
            ],
            "label": "01:46.420000",
            "method": "animate"
           },
           {
            "args": [
             [
              "01:47.630000"
             ],
             {
              "frame": {
               "duration": 0,
               "redraw": true
              },
              "fromcurrent": true,
              "mode": "immediate",
              "transition": {
               "duration": 0,
               "easing": "linear"
              }
             }
            ],
            "label": "01:47.630000",
            "method": "animate"
           },
           {
            "args": [
             [
              "01:49.400000"
             ],
             {
              "frame": {
               "duration": 0,
               "redraw": true
              },
              "fromcurrent": true,
              "mode": "immediate",
              "transition": {
               "duration": 0,
               "easing": "linear"
              }
             }
            ],
            "label": "01:49.400000",
            "method": "animate"
           },
           {
            "args": [
             [
              "01:50.240000"
             ],
             {
              "frame": {
               "duration": 0,
               "redraw": true
              },
              "fromcurrent": true,
              "mode": "immediate",
              "transition": {
               "duration": 0,
               "easing": "linear"
              }
             }
            ],
            "label": "01:50.240000",
            "method": "animate"
           },
           {
            "args": [
             [
              "01:51.460000"
             ],
             {
              "frame": {
               "duration": 0,
               "redraw": true
              },
              "fromcurrent": true,
              "mode": "immediate",
              "transition": {
               "duration": 0,
               "easing": "linear"
              }
             }
            ],
            "label": "01:51.460000",
            "method": "animate"
           },
           {
            "args": [
             [
              "01:52.120000"
             ],
             {
              "frame": {
               "duration": 0,
               "redraw": true
              },
              "fromcurrent": true,
              "mode": "immediate",
              "transition": {
               "duration": 0,
               "easing": "linear"
              }
             }
            ],
            "label": "01:52.120000",
            "method": "animate"
           },
           {
            "args": [
             [
              "01:53.360000"
             ],
             {
              "frame": {
               "duration": 0,
               "redraw": true
              },
              "fromcurrent": true,
              "mode": "immediate",
              "transition": {
               "duration": 0,
               "easing": "linear"
              }
             }
            ],
            "label": "01:53.360000",
            "method": "animate"
           },
           {
            "args": [
             [
              "01:55.120000"
             ],
             {
              "frame": {
               "duration": 0,
               "redraw": true
              },
              "fromcurrent": true,
              "mode": "immediate",
              "transition": {
               "duration": 0,
               "easing": "linear"
              }
             }
            ],
            "label": "01:55.120000",
            "method": "animate"
           },
           {
            "args": [
             [
              "01:56.400000"
             ],
             {
              "frame": {
               "duration": 0,
               "redraw": true
              },
              "fromcurrent": true,
              "mode": "immediate",
              "transition": {
               "duration": 0,
               "easing": "linear"
              }
             }
            ],
            "label": "01:56.400000",
            "method": "animate"
           },
           {
            "args": [
             [
              "01:59.160000"
             ],
             {
              "frame": {
               "duration": 0,
               "redraw": true
              },
              "fromcurrent": true,
              "mode": "immediate",
              "transition": {
               "duration": 0,
               "easing": "linear"
              }
             }
            ],
            "label": "01:59.160000",
            "method": "animate"
           },
           {
            "args": [
             [
              "02:00.050000"
             ],
             {
              "frame": {
               "duration": 0,
               "redraw": true
              },
              "fromcurrent": true,
              "mode": "immediate",
              "transition": {
               "duration": 0,
               "easing": "linear"
              }
             }
            ],
            "label": "02:00.050000",
            "method": "animate"
           },
           {
            "args": [
             [
              "02:02.920000"
             ],
             {
              "frame": {
               "duration": 0,
               "redraw": true
              },
              "fromcurrent": true,
              "mode": "immediate",
              "transition": {
               "duration": 0,
               "easing": "linear"
              }
             }
            ],
            "label": "02:02.920000",
            "method": "animate"
           },
           {
            "args": [
             [
              "02:05.500000"
             ],
             {
              "frame": {
               "duration": 0,
               "redraw": true
              },
              "fromcurrent": true,
              "mode": "immediate",
              "transition": {
               "duration": 0,
               "easing": "linear"
              }
             }
            ],
            "label": "02:05.500000",
            "method": "animate"
           },
           {
            "args": [
             [
              "02:08.600000"
             ],
             {
              "frame": {
               "duration": 0,
               "redraw": true
              },
              "fromcurrent": true,
              "mode": "immediate",
              "transition": {
               "duration": 0,
               "easing": "linear"
              }
             }
            ],
            "label": "02:08.600000",
            "method": "animate"
           },
           {
            "args": [
             [
              "02:11.760000"
             ],
             {
              "frame": {
               "duration": 0,
               "redraw": true
              },
              "fromcurrent": true,
              "mode": "immediate",
              "transition": {
               "duration": 0,
               "easing": "linear"
              }
             }
            ],
            "label": "02:11.760000",
            "method": "animate"
           },
           {
            "args": [
             [
              "02:14.740000"
             ],
             {
              "frame": {
               "duration": 0,
               "redraw": true
              },
              "fromcurrent": true,
              "mode": "immediate",
              "transition": {
               "duration": 0,
               "easing": "linear"
              }
             }
            ],
            "label": "02:14.740000",
            "method": "animate"
           },
           {
            "args": [
             [
              "02:16.940000"
             ],
             {
              "frame": {
               "duration": 0,
               "redraw": true
              },
              "fromcurrent": true,
              "mode": "immediate",
              "transition": {
               "duration": 0,
               "easing": "linear"
              }
             }
            ],
            "label": "02:16.940000",
            "method": "animate"
           },
           {
            "args": [
             [
              "02:19.340000"
             ],
             {
              "frame": {
               "duration": 0,
               "redraw": true
              },
              "fromcurrent": true,
              "mode": "immediate",
              "transition": {
               "duration": 0,
               "easing": "linear"
              }
             }
            ],
            "label": "02:19.340000",
            "method": "animate"
           },
           {
            "args": [
             [
              "02:22.030000"
             ],
             {
              "frame": {
               "duration": 0,
               "redraw": true
              },
              "fromcurrent": true,
              "mode": "immediate",
              "transition": {
               "duration": 0,
               "easing": "linear"
              }
             }
            ],
            "label": "02:22.030000",
            "method": "animate"
           },
           {
            "args": [
             [
              "02:24.180000"
             ],
             {
              "frame": {
               "duration": 0,
               "redraw": true
              },
              "fromcurrent": true,
              "mode": "immediate",
              "transition": {
               "duration": 0,
               "easing": "linear"
              }
             }
            ],
            "label": "02:24.180000",
            "method": "animate"
           },
           {
            "args": [
             [
              "02:25.140000"
             ],
             {
              "frame": {
               "duration": 0,
               "redraw": true
              },
              "fromcurrent": true,
              "mode": "immediate",
              "transition": {
               "duration": 0,
               "easing": "linear"
              }
             }
            ],
            "label": "02:25.140000",
            "method": "animate"
           },
           {
            "args": [
             [
              "02:28.280000"
             ],
             {
              "frame": {
               "duration": 0,
               "redraw": true
              },
              "fromcurrent": true,
              "mode": "immediate",
              "transition": {
               "duration": 0,
               "easing": "linear"
              }
             }
            ],
            "label": "02:28.280000",
            "method": "animate"
           },
           {
            "args": [
             [
              "02:29.880000"
             ],
             {
              "frame": {
               "duration": 0,
               "redraw": true
              },
              "fromcurrent": true,
              "mode": "immediate",
              "transition": {
               "duration": 0,
               "easing": "linear"
              }
             }
            ],
            "label": "02:29.880000",
            "method": "animate"
           },
           {
            "args": [
             [
              "02:32.180000"
             ],
             {
              "frame": {
               "duration": 0,
               "redraw": true
              },
              "fromcurrent": true,
              "mode": "immediate",
              "transition": {
               "duration": 0,
               "easing": "linear"
              }
             }
            ],
            "label": "02:32.180000",
            "method": "animate"
           },
           {
            "args": [
             [
              "02:33.900000"
             ],
             {
              "frame": {
               "duration": 0,
               "redraw": true
              },
              "fromcurrent": true,
              "mode": "immediate",
              "transition": {
               "duration": 0,
               "easing": "linear"
              }
             }
            ],
            "label": "02:33.900000",
            "method": "animate"
           },
           {
            "args": [
             [
              "02:37.540000"
             ],
             {
              "frame": {
               "duration": 0,
               "redraw": true
              },
              "fromcurrent": true,
              "mode": "immediate",
              "transition": {
               "duration": 0,
               "easing": "linear"
              }
             }
            ],
            "label": "02:37.540000",
            "method": "animate"
           },
           {
            "args": [
             [
              "02:42.040000"
             ],
             {
              "frame": {
               "duration": 0,
               "redraw": true
              },
              "fromcurrent": true,
              "mode": "immediate",
              "transition": {
               "duration": 0,
               "easing": "linear"
              }
             }
            ],
            "label": "02:42.040000",
            "method": "animate"
           },
           {
            "args": [
             [
              "02:44.630000"
             ],
             {
              "frame": {
               "duration": 0,
               "redraw": true
              },
              "fromcurrent": true,
              "mode": "immediate",
              "transition": {
               "duration": 0,
               "easing": "linear"
              }
             }
            ],
            "label": "02:44.630000",
            "method": "animate"
           },
           {
            "args": [
             [
              "02:46.590000"
             ],
             {
              "frame": {
               "duration": 0,
               "redraw": true
              },
              "fromcurrent": true,
              "mode": "immediate",
              "transition": {
               "duration": 0,
               "easing": "linear"
              }
             }
            ],
            "label": "02:46.590000",
            "method": "animate"
           },
           {
            "args": [
             [
              "02:49.140000"
             ],
             {
              "frame": {
               "duration": 0,
               "redraw": true
              },
              "fromcurrent": true,
              "mode": "immediate",
              "transition": {
               "duration": 0,
               "easing": "linear"
              }
             }
            ],
            "label": "02:49.140000",
            "method": "animate"
           },
           {
            "args": [
             [
              "02:50.880000"
             ],
             {
              "frame": {
               "duration": 0,
               "redraw": true
              },
              "fromcurrent": true,
              "mode": "immediate",
              "transition": {
               "duration": 0,
               "easing": "linear"
              }
             }
            ],
            "label": "02:50.880000",
            "method": "animate"
           },
           {
            "args": [
             [
              "02:52.360000"
             ],
             {
              "frame": {
               "duration": 0,
               "redraw": true
              },
              "fromcurrent": true,
              "mode": "immediate",
              "transition": {
               "duration": 0,
               "easing": "linear"
              }
             }
            ],
            "label": "02:52.360000",
            "method": "animate"
           },
           {
            "args": [
             [
              "02:53.940000"
             ],
             {
              "frame": {
               "duration": 0,
               "redraw": true
              },
              "fromcurrent": true,
              "mode": "immediate",
              "transition": {
               "duration": 0,
               "easing": "linear"
              }
             }
            ],
            "label": "02:53.940000",
            "method": "animate"
           },
           {
            "args": [
             [
              "02:56.670000"
             ],
             {
              "frame": {
               "duration": 0,
               "redraw": true
              },
              "fromcurrent": true,
              "mode": "immediate",
              "transition": {
               "duration": 0,
               "easing": "linear"
              }
             }
            ],
            "label": "02:56.670000",
            "method": "animate"
           }
          ],
          "x": 0.1,
          "xanchor": "left",
          "y": 0,
          "yanchor": "top"
         }
        ],
        "template": {
         "data": {
          "bar": [
           {
            "error_x": {
             "color": "#2a3f5f"
            },
            "error_y": {
             "color": "#2a3f5f"
            },
            "marker": {
             "line": {
              "color": "#E5ECF6",
              "width": 0.5
             },
             "pattern": {
              "fillmode": "overlay",
              "size": 10,
              "solidity": 0.2
             }
            },
            "type": "bar"
           }
          ],
          "barpolar": [
           {
            "marker": {
             "line": {
              "color": "#E5ECF6",
              "width": 0.5
             },
             "pattern": {
              "fillmode": "overlay",
              "size": 10,
              "solidity": 0.2
             }
            },
            "type": "barpolar"
           }
          ],
          "carpet": [
           {
            "aaxis": {
             "endlinecolor": "#2a3f5f",
             "gridcolor": "white",
             "linecolor": "white",
             "minorgridcolor": "white",
             "startlinecolor": "#2a3f5f"
            },
            "baxis": {
             "endlinecolor": "#2a3f5f",
             "gridcolor": "white",
             "linecolor": "white",
             "minorgridcolor": "white",
             "startlinecolor": "#2a3f5f"
            },
            "type": "carpet"
           }
          ],
          "choropleth": [
           {
            "colorbar": {
             "outlinewidth": 0,
             "ticks": ""
            },
            "type": "choropleth"
           }
          ],
          "contour": [
           {
            "colorbar": {
             "outlinewidth": 0,
             "ticks": ""
            },
            "colorscale": [
             [
              0,
              "#0d0887"
             ],
             [
              0.1111111111111111,
              "#46039f"
             ],
             [
              0.2222222222222222,
              "#7201a8"
             ],
             [
              0.3333333333333333,
              "#9c179e"
             ],
             [
              0.4444444444444444,
              "#bd3786"
             ],
             [
              0.5555555555555556,
              "#d8576b"
             ],
             [
              0.6666666666666666,
              "#ed7953"
             ],
             [
              0.7777777777777778,
              "#fb9f3a"
             ],
             [
              0.8888888888888888,
              "#fdca26"
             ],
             [
              1,
              "#f0f921"
             ]
            ],
            "type": "contour"
           }
          ],
          "contourcarpet": [
           {
            "colorbar": {
             "outlinewidth": 0,
             "ticks": ""
            },
            "type": "contourcarpet"
           }
          ],
          "heatmap": [
           {
            "colorbar": {
             "outlinewidth": 0,
             "ticks": ""
            },
            "colorscale": [
             [
              0,
              "#0d0887"
             ],
             [
              0.1111111111111111,
              "#46039f"
             ],
             [
              0.2222222222222222,
              "#7201a8"
             ],
             [
              0.3333333333333333,
              "#9c179e"
             ],
             [
              0.4444444444444444,
              "#bd3786"
             ],
             [
              0.5555555555555556,
              "#d8576b"
             ],
             [
              0.6666666666666666,
              "#ed7953"
             ],
             [
              0.7777777777777778,
              "#fb9f3a"
             ],
             [
              0.8888888888888888,
              "#fdca26"
             ],
             [
              1,
              "#f0f921"
             ]
            ],
            "type": "heatmap"
           }
          ],
          "heatmapgl": [
           {
            "colorbar": {
             "outlinewidth": 0,
             "ticks": ""
            },
            "colorscale": [
             [
              0,
              "#0d0887"
             ],
             [
              0.1111111111111111,
              "#46039f"
             ],
             [
              0.2222222222222222,
              "#7201a8"
             ],
             [
              0.3333333333333333,
              "#9c179e"
             ],
             [
              0.4444444444444444,
              "#bd3786"
             ],
             [
              0.5555555555555556,
              "#d8576b"
             ],
             [
              0.6666666666666666,
              "#ed7953"
             ],
             [
              0.7777777777777778,
              "#fb9f3a"
             ],
             [
              0.8888888888888888,
              "#fdca26"
             ],
             [
              1,
              "#f0f921"
             ]
            ],
            "type": "heatmapgl"
           }
          ],
          "histogram": [
           {
            "marker": {
             "pattern": {
              "fillmode": "overlay",
              "size": 10,
              "solidity": 0.2
             }
            },
            "type": "histogram"
           }
          ],
          "histogram2d": [
           {
            "colorbar": {
             "outlinewidth": 0,
             "ticks": ""
            },
            "colorscale": [
             [
              0,
              "#0d0887"
             ],
             [
              0.1111111111111111,
              "#46039f"
             ],
             [
              0.2222222222222222,
              "#7201a8"
             ],
             [
              0.3333333333333333,
              "#9c179e"
             ],
             [
              0.4444444444444444,
              "#bd3786"
             ],
             [
              0.5555555555555556,
              "#d8576b"
             ],
             [
              0.6666666666666666,
              "#ed7953"
             ],
             [
              0.7777777777777778,
              "#fb9f3a"
             ],
             [
              0.8888888888888888,
              "#fdca26"
             ],
             [
              1,
              "#f0f921"
             ]
            ],
            "type": "histogram2d"
           }
          ],
          "histogram2dcontour": [
           {
            "colorbar": {
             "outlinewidth": 0,
             "ticks": ""
            },
            "colorscale": [
             [
              0,
              "#0d0887"
             ],
             [
              0.1111111111111111,
              "#46039f"
             ],
             [
              0.2222222222222222,
              "#7201a8"
             ],
             [
              0.3333333333333333,
              "#9c179e"
             ],
             [
              0.4444444444444444,
              "#bd3786"
             ],
             [
              0.5555555555555556,
              "#d8576b"
             ],
             [
              0.6666666666666666,
              "#ed7953"
             ],
             [
              0.7777777777777778,
              "#fb9f3a"
             ],
             [
              0.8888888888888888,
              "#fdca26"
             ],
             [
              1,
              "#f0f921"
             ]
            ],
            "type": "histogram2dcontour"
           }
          ],
          "mesh3d": [
           {
            "colorbar": {
             "outlinewidth": 0,
             "ticks": ""
            },
            "type": "mesh3d"
           }
          ],
          "parcoords": [
           {
            "line": {
             "colorbar": {
              "outlinewidth": 0,
              "ticks": ""
             }
            },
            "type": "parcoords"
           }
          ],
          "pie": [
           {
            "automargin": true,
            "type": "pie"
           }
          ],
          "scatter": [
           {
            "fillpattern": {
             "fillmode": "overlay",
             "size": 10,
             "solidity": 0.2
            },
            "type": "scatter"
           }
          ],
          "scatter3d": [
           {
            "line": {
             "colorbar": {
              "outlinewidth": 0,
              "ticks": ""
             }
            },
            "marker": {
             "colorbar": {
              "outlinewidth": 0,
              "ticks": ""
             }
            },
            "type": "scatter3d"
           }
          ],
          "scattercarpet": [
           {
            "marker": {
             "colorbar": {
              "outlinewidth": 0,
              "ticks": ""
             }
            },
            "type": "scattercarpet"
           }
          ],
          "scattergeo": [
           {
            "marker": {
             "colorbar": {
              "outlinewidth": 0,
              "ticks": ""
             }
            },
            "type": "scattergeo"
           }
          ],
          "scattergl": [
           {
            "marker": {
             "colorbar": {
              "outlinewidth": 0,
              "ticks": ""
             }
            },
            "type": "scattergl"
           }
          ],
          "scattermapbox": [
           {
            "marker": {
             "colorbar": {
              "outlinewidth": 0,
              "ticks": ""
             }
            },
            "type": "scattermapbox"
           }
          ],
          "scatterpolar": [
           {
            "marker": {
             "colorbar": {
              "outlinewidth": 0,
              "ticks": ""
             }
            },
            "type": "scatterpolar"
           }
          ],
          "scatterpolargl": [
           {
            "marker": {
             "colorbar": {
              "outlinewidth": 0,
              "ticks": ""
             }
            },
            "type": "scatterpolargl"
           }
          ],
          "scatterternary": [
           {
            "marker": {
             "colorbar": {
              "outlinewidth": 0,
              "ticks": ""
             }
            },
            "type": "scatterternary"
           }
          ],
          "surface": [
           {
            "colorbar": {
             "outlinewidth": 0,
             "ticks": ""
            },
            "colorscale": [
             [
              0,
              "#0d0887"
             ],
             [
              0.1111111111111111,
              "#46039f"
             ],
             [
              0.2222222222222222,
              "#7201a8"
             ],
             [
              0.3333333333333333,
              "#9c179e"
             ],
             [
              0.4444444444444444,
              "#bd3786"
             ],
             [
              0.5555555555555556,
              "#d8576b"
             ],
             [
              0.6666666666666666,
              "#ed7953"
             ],
             [
              0.7777777777777778,
              "#fb9f3a"
             ],
             [
              0.8888888888888888,
              "#fdca26"
             ],
             [
              1,
              "#f0f921"
             ]
            ],
            "type": "surface"
           }
          ],
          "table": [
           {
            "cells": {
             "fill": {
              "color": "#EBF0F8"
             },
             "line": {
              "color": "white"
             }
            },
            "header": {
             "fill": {
              "color": "#C8D4E3"
             },
             "line": {
              "color": "white"
             }
            },
            "type": "table"
           }
          ]
         },
         "layout": {
          "annotationdefaults": {
           "arrowcolor": "#2a3f5f",
           "arrowhead": 0,
           "arrowwidth": 1
          },
          "autotypenumbers": "strict",
          "coloraxis": {
           "colorbar": {
            "outlinewidth": 0,
            "ticks": ""
           }
          },
          "colorscale": {
           "diverging": [
            [
             0,
             "#8e0152"
            ],
            [
             0.1,
             "#c51b7d"
            ],
            [
             0.2,
             "#de77ae"
            ],
            [
             0.3,
             "#f1b6da"
            ],
            [
             0.4,
             "#fde0ef"
            ],
            [
             0.5,
             "#f7f7f7"
            ],
            [
             0.6,
             "#e6f5d0"
            ],
            [
             0.7,
             "#b8e186"
            ],
            [
             0.8,
             "#7fbc41"
            ],
            [
             0.9,
             "#4d9221"
            ],
            [
             1,
             "#276419"
            ]
           ],
           "sequential": [
            [
             0,
             "#0d0887"
            ],
            [
             0.1111111111111111,
             "#46039f"
            ],
            [
             0.2222222222222222,
             "#7201a8"
            ],
            [
             0.3333333333333333,
             "#9c179e"
            ],
            [
             0.4444444444444444,
             "#bd3786"
            ],
            [
             0.5555555555555556,
             "#d8576b"
            ],
            [
             0.6666666666666666,
             "#ed7953"
            ],
            [
             0.7777777777777778,
             "#fb9f3a"
            ],
            [
             0.8888888888888888,
             "#fdca26"
            ],
            [
             1,
             "#f0f921"
            ]
           ],
           "sequentialminus": [
            [
             0,
             "#0d0887"
            ],
            [
             0.1111111111111111,
             "#46039f"
            ],
            [
             0.2222222222222222,
             "#7201a8"
            ],
            [
             0.3333333333333333,
             "#9c179e"
            ],
            [
             0.4444444444444444,
             "#bd3786"
            ],
            [
             0.5555555555555556,
             "#d8576b"
            ],
            [
             0.6666666666666666,
             "#ed7953"
            ],
            [
             0.7777777777777778,
             "#fb9f3a"
            ],
            [
             0.8888888888888888,
             "#fdca26"
            ],
            [
             1,
             "#f0f921"
            ]
           ]
          },
          "colorway": [
           "#636efa",
           "#EF553B",
           "#00cc96",
           "#ab63fa",
           "#FFA15A",
           "#19d3f3",
           "#FF6692",
           "#B6E880",
           "#FF97FF",
           "#FECB52"
          ],
          "font": {
           "color": "#2a3f5f"
          },
          "geo": {
           "bgcolor": "white",
           "lakecolor": "white",
           "landcolor": "#E5ECF6",
           "showlakes": true,
           "showland": true,
           "subunitcolor": "white"
          },
          "hoverlabel": {
           "align": "left"
          },
          "hovermode": "closest",
          "mapbox": {
           "style": "light"
          },
          "paper_bgcolor": "white",
          "plot_bgcolor": "#E5ECF6",
          "polar": {
           "angularaxis": {
            "gridcolor": "white",
            "linecolor": "white",
            "ticks": ""
           },
           "bgcolor": "#E5ECF6",
           "radialaxis": {
            "gridcolor": "white",
            "linecolor": "white",
            "ticks": ""
           }
          },
          "scene": {
           "xaxis": {
            "backgroundcolor": "#E5ECF6",
            "gridcolor": "white",
            "gridwidth": 2,
            "linecolor": "white",
            "showbackground": true,
            "ticks": "",
            "zerolinecolor": "white"
           },
           "yaxis": {
            "backgroundcolor": "#E5ECF6",
            "gridcolor": "white",
            "gridwidth": 2,
            "linecolor": "white",
            "showbackground": true,
            "ticks": "",
            "zerolinecolor": "white"
           },
           "zaxis": {
            "backgroundcolor": "#E5ECF6",
            "gridcolor": "white",
            "gridwidth": 2,
            "linecolor": "white",
            "showbackground": true,
            "ticks": "",
            "zerolinecolor": "white"
           }
          },
          "shapedefaults": {
           "line": {
            "color": "#2a3f5f"
           }
          },
          "ternary": {
           "aaxis": {
            "gridcolor": "white",
            "linecolor": "white",
            "ticks": ""
           },
           "baxis": {
            "gridcolor": "white",
            "linecolor": "white",
            "ticks": ""
           },
           "bgcolor": "#E5ECF6",
           "caxis": {
            "gridcolor": "white",
            "linecolor": "white",
            "ticks": ""
           }
          },
          "title": {
           "x": 0.05
          },
          "xaxis": {
           "automargin": true,
           "gridcolor": "white",
           "linecolor": "white",
           "ticks": "",
           "title": {
            "standoff": 15
           },
           "zerolinecolor": "white",
           "zerolinewidth": 2
          },
          "yaxis": {
           "automargin": true,
           "gridcolor": "white",
           "linecolor": "white",
           "ticks": "",
           "title": {
            "standoff": 15
           },
           "zerolinecolor": "white",
           "zerolinewidth": 2
          }
         }
        },
        "title": {
         "text": "Cumulative Word Count Over Time for Each Speaker"
        },
        "updatemenus": [
         {
          "buttons": [
           {
            "args": [
             null,
             {
              "frame": {
               "duration": 500,
               "redraw": true
              },
              "fromcurrent": true,
              "mode": "immediate",
              "transition": {
               "duration": 500,
               "easing": "linear"
              }
             }
            ],
            "label": "&#9654;",
            "method": "animate"
           },
           {
            "args": [
             [
              null
             ],
             {
              "frame": {
               "duration": 0,
               "redraw": true
              },
              "fromcurrent": true,
              "mode": "immediate",
              "transition": {
               "duration": 0,
               "easing": "linear"
              }
             }
            ],
            "label": "&#9724;",
            "method": "animate"
           }
          ],
          "direction": "left",
          "pad": {
           "r": 10,
           "t": 70
          },
          "showactive": false,
          "type": "buttons",
          "x": 0.1,
          "xanchor": "right",
          "y": 0,
          "yanchor": "top"
         }
        ],
        "xaxis": {
         "anchor": "y",
         "categoryarray": [
          "SPEAKER_00:",
          "SPEAKER_01:",
          "SPEAKER_02:"
         ],
         "categoryorder": "array",
         "domain": [
          0,
          1
         ],
         "title": {
          "text": "Speaker"
         }
        },
        "yaxis": {
         "anchor": "x",
         "domain": [
          0,
          1
         ],
         "range": [
          0,
          500
         ],
         "title": {
          "text": "Cumulative Word Count"
         }
        }
       }
      }
     },
     "metadata": {},
     "output_type": "display_data"
    }
   ],
   "source": [
    "# Create an animated bar plot with Plotly Express\n",
    "fig = px.bar(df, x='speaker', y='cumulative_word_count', color='speaker',\n",
    "             animation_frame='timestamp_str',\n",
    "             title='Cumulative Word Count Over Time for Each Speaker',\n",
    "             labels={'timestamp_str': 'Timestamp', 'cumulative_word_count': 'Cumulative Word Count'},\n",
    "             category_orders={'speaker': sorted(df['speaker'].unique())},\n",
    "             )\n",
    "\n",
    "# Update layout for better readability\n",
    "fig.update_layout(xaxis=dict(title='Speaker'),\n",
    "                  yaxis=dict(title='Cumulative Word Count', range=[0, 500]),\n",
    "                  )\n",
    "\n",
    "# Show the plot\n",
    "fig.show()"
   ]
  },
  {
   "cell_type": "code",
   "execution_count": 55,
   "metadata": {},
   "outputs": [
    {
     "name": "stdout",
     "output_type": "stream",
     "text": [
      "Defaulting to user installation because normal site-packages is not writeable\n",
      "Collecting sumy\n",
      "  Downloading sumy-0.11.0-py2.py3-none-any.whl (97 kB)\n",
      "\u001b[2K     \u001b[90m━━━━━━━━━━━━━━━━━━━━━━━━━━━━━━━━━━━━━━━\u001b[0m \u001b[32m97.3/97.3 kB\u001b[0m \u001b[31m485.0 kB/s\u001b[0m eta \u001b[36m0:00:00\u001b[0ma \u001b[36m0:00:01\u001b[0m\n",
      "\u001b[?25hRequirement already satisfied: docopt<0.7,>=0.6.1 in /Users/norika_machome/Library/Python/3.8/lib/python/site-packages (from sumy) (0.6.2)\n",
      "Collecting breadability>=0.1.20 (from sumy)\n",
      "  Downloading breadability-0.1.20.tar.gz (32 kB)\n",
      "  Preparing metadata (setup.py) ... \u001b[?25ldone\n",
      "\u001b[?25hRequirement already satisfied: requests>=2.7.0 in /Library/Python/3.8/site-packages (from sumy) (2.28.1)\n",
      "Requirement already satisfied: pycountry>=18.2.23 in /Users/norika_machome/Library/Python/3.8/lib/python/site-packages (from sumy) (22.3.5)\n",
      "Collecting nltk>=3.0.2 (from sumy)\n",
      "  Downloading nltk-3.8.1-py3-none-any.whl (1.5 MB)\n",
      "\u001b[2K     \u001b[90m━━━━━━━━━━━━━━━━━━━━━━━━━━━━━━━━━━━━━━━━\u001b[0m \u001b[32m1.5/1.5 MB\u001b[0m \u001b[31m7.0 MB/s\u001b[0m eta \u001b[36m0:00:00\u001b[0m00:01\u001b[0m00:01\u001b[0mm\n",
      "\u001b[?25hCollecting chardet (from breadability>=0.1.20->sumy)\n",
      "  Obtaining dependency information for chardet from https://files.pythonhosted.org/packages/38/6f/f5fbc992a329ee4e0f288c1fe0e2ad9485ed064cac731ed2fe47dcc38cbf/chardet-5.2.0-py3-none-any.whl.metadata\n",
      "  Downloading chardet-5.2.0-py3-none-any.whl.metadata (3.4 kB)\n",
      "Requirement already satisfied: lxml>=2.0 in /Users/norika_machome/Library/Python/3.8/lib/python/site-packages (from breadability>=0.1.20->sumy) (4.9.1)\n",
      "Requirement already satisfied: click in /Users/norika_machome/Library/Python/3.8/lib/python/site-packages (from nltk>=3.0.2->sumy) (8.0.3)\n",
      "Requirement already satisfied: joblib in /Users/norika_machome/Library/Python/3.8/lib/python/site-packages (from nltk>=3.0.2->sumy) (1.2.0)\n",
      "Requirement already satisfied: regex>=2021.8.3 in /Users/norika_machome/Library/Python/3.8/lib/python/site-packages (from nltk>=3.0.2->sumy) (2023.10.3)\n",
      "Requirement already satisfied: tqdm in /Users/norika_machome/Library/Python/3.8/lib/python/site-packages (from nltk>=3.0.2->sumy) (4.64.1)\n",
      "Requirement already satisfied: setuptools in /Users/norika_machome/Library/Python/3.8/lib/python/site-packages (from pycountry>=18.2.23->sumy) (60.8.2)\n",
      "Requirement already satisfied: charset-normalizer<3,>=2 in /Library/Python/3.8/site-packages (from requests>=2.7.0->sumy) (2.1.1)\n",
      "Requirement already satisfied: idna<4,>=2.5 in /Library/Python/3.8/site-packages (from requests>=2.7.0->sumy) (3.4)\n",
      "Requirement already satisfied: urllib3<1.27,>=1.21.1 in /Library/Python/3.8/site-packages (from requests>=2.7.0->sumy) (1.26.12)\n",
      "Requirement already satisfied: certifi>=2017.4.17 in /Library/Python/3.8/site-packages (from requests>=2.7.0->sumy) (2022.9.24)\n",
      "Downloading chardet-5.2.0-py3-none-any.whl (199 kB)\n",
      "\u001b[2K   \u001b[90m━━━━━━━━━━━━━━━━━━━━━━━━━━━━━━━━━━━━━━━━\u001b[0m \u001b[32m199.4/199.4 kB\u001b[0m \u001b[31m5.6 MB/s\u001b[0m eta \u001b[36m0:00:00\u001b[0m\n",
      "\u001b[?25hBuilding wheels for collected packages: breadability\n",
      "  Building wheel for breadability (setup.py) ... \u001b[?25ldone\n",
      "\u001b[?25h  Created wheel for breadability: filename=breadability-0.1.20-py2.py3-none-any.whl size=21713 sha256=ea570701c08f37e8b123d2dce39d043ff9a37c620982f62daf76164c64dc6552\n",
      "  Stored in directory: /Users/norika_machome/Library/Caches/pip/wheels/5f/0d/0c/2062d8c1758b4b1a2e42b4a63e6660d9ec2ba9463cfee9eeab\n",
      "Successfully built breadability\n",
      "Installing collected packages: nltk, chardet, breadability, sumy\n",
      "Successfully installed breadability-0.1.20 chardet-5.2.0 nltk-3.8.1 sumy-0.11.0\n",
      "\n",
      "\u001b[1m[\u001b[0m\u001b[34;49mnotice\u001b[0m\u001b[1;39;49m]\u001b[0m\u001b[39;49m A new release of pip is available: \u001b[0m\u001b[31;49m23.2.1\u001b[0m\u001b[39;49m -> \u001b[0m\u001b[32;49m23.3.1\u001b[0m\n",
      "\u001b[1m[\u001b[0m\u001b[34;49mnotice\u001b[0m\u001b[1;39;49m]\u001b[0m\u001b[39;49m To update, run: \u001b[0m\u001b[32;49m/Library/Developer/CommandLineTools/usr/bin/python3 -m pip install --upgrade pip\u001b[0m\n",
      "Note: you may need to restart the kernel to use updated packages.\n"
     ]
    }
   ],
   "source": [
    "pip install sumy\n"
   ]
  },
  {
   "cell_type": "code",
   "execution_count": 57,
   "metadata": {},
   "outputs": [
    {
     "name": "stderr",
     "output_type": "stream",
     "text": [
      "[nltk_data] Downloading package punkt to\n",
      "[nltk_data]     /Users/norika_machome/nltk_data...\n",
      "[nltk_data]   Unzipping tokenizers/punkt.zip.\n"
     ]
    },
    {
     "name": "stdout",
     "output_type": "stream",
     "text": [
      "And of course, our resident eternal optimist, Lieutenant General HR, I'm McMaster.\n",
      "If one of these trials with Donald Trump begins next March, let's say, that is peak primary system.\n",
      "Good luck getting attention if the cameras are all falling Donald Trump into a courtroom.\n"
     ]
    }
   ],
   "source": [
    "from sumy.parsers.plaintext import PlaintextParser\n",
    "from sumy.nlp.tokenizers import Tokenizer\n",
    "from sumy.summarizers.lsa import LsaSummarizer\n",
    "import nltk\n",
    "nltk.download('punkt')\n",
    "\n",
    "# Use the full_text variable for summarization\n",
    "text_to_summarize = full_text\n",
    "\n",
    "# Choose the language and create a parser\n",
    "language = \"english\"\n",
    "parser = PlaintextParser.from_string(text_to_summarize, Tokenizer(language))\n",
    "\n",
    "# Create an LSA (Latent Semantic Analysis) summarizer\n",
    "lsa_summarizer = LsaSummarizer()\n",
    "\n",
    "# Summarize the text\n",
    "summary = lsa_summarizer(parser.document, sentences_count=3)  # You can adjust the number of sentences in the summary\n",
    "\n",
    "# Print the summarized text\n",
    "for sentence in summary:\n",
    "    print(sentence)\n"
   ]
  },
  {
   "cell_type": "code",
   "execution_count": 62,
   "metadata": {},
   "outputs": [
    {
     "name": "stdout",
     "output_type": "stream",
     "text": [
      "(0, '0.005*\"andy\" + 0.005*\"good\" + 0.005*\"fellows\" + 0.005*\"want\" + 0.005*\"trump\"')\n",
      "(1, '0.005*\"andy\" + 0.005*\"fellows\" + 0.005*\"good\" + 0.005*\"trump\" + 0.005*\"want\"')\n",
      "(2, '0.021*\"good\" + 0.021*\"fellows\" + 0.021*\"andy\" + 0.015*\"want\" + 0.015*\"trump\"')\n",
      "(3, '0.005*\"andy\" + 0.005*\"fellows\" + 0.005*\"good\" + 0.005*\"want\" + 0.005*\"trump\"')\n",
      "(4, '0.005*\"fellows\" + 0.005*\"andy\" + 0.005*\"trump\" + 0.005*\"good\" + 0.005*\"want\"')\n"
     ]
    },
    {
     "name": "stderr",
     "output_type": "stream",
     "text": [
      "[nltk_data] Downloading package stopwords to\n",
      "[nltk_data]     /Users/norika_machome/nltk_data...\n",
      "[nltk_data]   Package stopwords is already up-to-date!\n"
     ]
    }
   ],
   "source": [
    "from gensim import corpora\n",
    "from gensim.models import LdaModel\n",
    "from nltk.tokenize import word_tokenize\n",
    "from nltk.corpus import stopwords\n",
    "\n",
    "# Download NLTK stopwords\n",
    "import nltk\n",
    "nltk.download('stopwords')\n",
    "\n",
    "# Preprocess the text\n",
    "stop_words = set(stopwords.words('english'))\n",
    "tokens = word_tokenize(full_text.lower())\n",
    "filtered_tokens = [word for word in tokens if word.isalnum() and word not in stop_words]\n",
    "\n",
    "# Create a dictionary representation of the documents\n",
    "dictionary = corpora.Dictionary([filtered_tokens])\n",
    "\n",
    "# Create a bag-of-words corpus\n",
    "corpus = [dictionary.doc2bow(filtered_tokens)]\n",
    "\n",
    "# Train the LDA model\n",
    "lda_model = LdaModel(corpus, num_topics=5, id2word=dictionary, passes=15)\n",
    "\n",
    "# Print the topics\n",
    "topics = lda_model.print_topics(num_words=5)\n",
    "for topic in topics:\n",
    "    print(topic)\n"
   ]
  }
 ],
 "metadata": {
  "kernelspec": {
   "display_name": "Python 3",
   "language": "python",
   "name": "python3"
  },
  "language_info": {
   "codemirror_mode": {
    "name": "ipython",
    "version": 3
   },
   "file_extension": ".py",
   "mimetype": "text/x-python",
   "name": "python",
   "nbconvert_exporter": "python",
   "pygments_lexer": "ipython3",
   "version": "3.8.9"
  },
  "orig_nbformat": 4
 },
 "nbformat": 4,
 "nbformat_minor": 2
}
